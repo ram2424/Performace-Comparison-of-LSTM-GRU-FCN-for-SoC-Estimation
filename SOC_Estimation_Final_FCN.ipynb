{
 "cells": [
  {
   "cell_type": "code",
   "execution_count": 1,
   "metadata": {},
   "outputs": [],
   "source": [
    "# Numpy and Pandas \n",
    "import numpy as np\n",
    "import pandas as pd\n",
    "\n",
    "# Vizualization\n",
    "from matplotlib import pyplot as plt\n",
    "%matplotlib inline\n",
    "import seaborn as sns\n",
    "sns.set_style('darkgrid')\n",
    "\n",
    "# Machine learning algorithms\n",
    "from sklearn.neural_network import MLPRegressor\n",
    "from sklearn.ensemble import RandomForestRegressor\n",
    "# Machine learning pipeline \n",
    "from sklearn.model_selection import train_test_split\n",
    "from sklearn.pipeline import make_pipeline\n",
    "from sklearn.preprocessing import StandardScaler\n",
    "from sklearn.model_selection import GridSearchCV\n",
    "\n",
    "# Regression Metrics\n",
    "from sklearn.metrics import mean_absolute_error\n",
    "from sklearn.metrics import r2_score\n",
    "from sklearn.metrics import mean_squared_error\n",
    "\n",
    "# Ignore ConvergenceWarning messages\n",
    "import warnings\n",
    "from sklearn.exceptions import ConvergenceWarning\n",
    "warnings.simplefilter(action='ignore', category=ConvergenceWarning)\n",
    "\n",
    "# Check the fitted_model\n",
    "from sklearn.exceptions import NotFittedError\n",
    "\n",
    "# Save python object to disk\n",
    "import pickle\n",
    "\n",
    "from keras import backend as K\n",
    "\n",
    "from sklearn import preprocessing\n",
    "\n",
    "import tensorflow as tf\n",
    "from tensorflow.keras import datasets, layers, models \n",
    "import numpy as np\n",
    "import matplotlib.pyplot as plt\n",
    "import random as rn\n",
    "from sklearn.metrics import confusion_matrix , classification_report\n",
    "import tensorflow.python.keras\n",
    "from tensorflow.python.keras.models import Sequential \n",
    "from tensorflow.python.keras.models import model_from_json\n",
    "from tensorflow.python.keras.layers import Dense, Activation, Dropout, Flatten\n",
    "from tensorflow.python.keras.layers import Conv2D, MaxPooling2D\n",
    "from tensorflow.python.keras import backend as K\n",
    "from tensorflow.keras.optimizers import Adam,SGD,Adagrad,Adadelta,RMSprop"
   ]
  },
  {
   "cell_type": "code",
   "execution_count": 2,
   "metadata": {},
   "outputs": [],
   "source": [
    "df = pd.read_csv('D:\\\\Ram\\\\MTech\\\\Final_Year_Paper_Work\\\\Battery_Management_System\\\\drive-download-20210806T114007Z-001\\\\Dataset\\\\Dataset_ANN\\\\US06 Highway Driving Schedule\\\\SP2_0C_US06\\\\Dataset_1.csv')"
   ]
  },
  {
   "cell_type": "code",
   "execution_count": 3,
   "metadata": {},
   "outputs": [
    {
     "data": {
      "text/html": [
       "<div>\n",
       "<style scoped>\n",
       "    .dataframe tbody tr th:only-of-type {\n",
       "        vertical-align: middle;\n",
       "    }\n",
       "\n",
       "    .dataframe tbody tr th {\n",
       "        vertical-align: top;\n",
       "    }\n",
       "\n",
       "    .dataframe thead th {\n",
       "        text-align: right;\n",
       "    }\n",
       "</style>\n",
       "<table border=\"1\" class=\"dataframe\">\n",
       "  <thead>\n",
       "    <tr style=\"text-align: right;\">\n",
       "      <th></th>\n",
       "      <th>Data_Point</th>\n",
       "      <th>Test_Time(s)</th>\n",
       "      <th>Date_Time</th>\n",
       "      <th>Step_Time(s)</th>\n",
       "      <th>Step_Index</th>\n",
       "      <th>Cycle_Index</th>\n",
       "      <th>Current(A)</th>\n",
       "      <th>Voltage(V)</th>\n",
       "      <th>SoC</th>\n",
       "      <th>Charge_Capacity(Ah)</th>\n",
       "      <th>Discharge_Capacity(Ah)</th>\n",
       "      <th>Charge_Energy(Wh)</th>\n",
       "      <th>Discharge_Energy(Wh)</th>\n",
       "      <th>dV/dt(V/s)</th>\n",
       "      <th>Internal_Resistance(Ohm)</th>\n",
       "      <th>Is_FC_Data</th>\n",
       "      <th>AC_Impedance(Ohm)</th>\n",
       "      <th>ACI_Phase_Angle(Deg)</th>\n",
       "    </tr>\n",
       "  </thead>\n",
       "  <tbody>\n",
       "    <tr>\n",
       "      <th>0</th>\n",
       "      <td>1</td>\n",
       "      <td>60.014861</td>\n",
       "      <td>26/02/2016 09:14:58</td>\n",
       "      <td>60.014862</td>\n",
       "      <td>1</td>\n",
       "      <td>1</td>\n",
       "      <td>0.000000</td>\n",
       "      <td>3.446318</td>\n",
       "      <td>0.525732</td>\n",
       "      <td>0.000000</td>\n",
       "      <td>0.000000</td>\n",
       "      <td>0.000000</td>\n",
       "      <td>0.000000</td>\n",
       "      <td>-0.000032</td>\n",
       "      <td>0</td>\n",
       "      <td>0</td>\n",
       "      <td>0</td>\n",
       "      <td>0</td>\n",
       "    </tr>\n",
       "    <tr>\n",
       "      <th>1</th>\n",
       "      <td>2</td>\n",
       "      <td>70.030711</td>\n",
       "      <td>26/02/2016 09:15:08</td>\n",
       "      <td>10.015606</td>\n",
       "      <td>2</td>\n",
       "      <td>1</td>\n",
       "      <td>0.999713</td>\n",
       "      <td>3.627587</td>\n",
       "      <td>0.626437</td>\n",
       "      <td>0.002781</td>\n",
       "      <td>0.000000</td>\n",
       "      <td>0.010067</td>\n",
       "      <td>0.000000</td>\n",
       "      <td>0.000940</td>\n",
       "      <td>0</td>\n",
       "      <td>0</td>\n",
       "      <td>0</td>\n",
       "      <td>0</td>\n",
       "    </tr>\n",
       "    <tr>\n",
       "      <th>2</th>\n",
       "      <td>3</td>\n",
       "      <td>80.046108</td>\n",
       "      <td>26/02/2016 09:15:18</td>\n",
       "      <td>20.031002</td>\n",
       "      <td>2</td>\n",
       "      <td>1</td>\n",
       "      <td>0.999533</td>\n",
       "      <td>3.634876</td>\n",
       "      <td>0.630487</td>\n",
       "      <td>0.005563</td>\n",
       "      <td>0.000000</td>\n",
       "      <td>0.020168</td>\n",
       "      <td>0.000000</td>\n",
       "      <td>0.000616</td>\n",
       "      <td>0</td>\n",
       "      <td>0</td>\n",
       "      <td>0</td>\n",
       "      <td>0</td>\n",
       "    </tr>\n",
       "    <tr>\n",
       "      <th>3</th>\n",
       "      <td>4</td>\n",
       "      <td>90.061672</td>\n",
       "      <td>26/02/2016 09:15:28</td>\n",
       "      <td>30.046566</td>\n",
       "      <td>2</td>\n",
       "      <td>1</td>\n",
       "      <td>0.999713</td>\n",
       "      <td>3.639574</td>\n",
       "      <td>0.633097</td>\n",
       "      <td>0.008344</td>\n",
       "      <td>0.000000</td>\n",
       "      <td>0.030284</td>\n",
       "      <td>0.000000</td>\n",
       "      <td>0.000324</td>\n",
       "      <td>0</td>\n",
       "      <td>0</td>\n",
       "      <td>0</td>\n",
       "      <td>0</td>\n",
       "    </tr>\n",
       "    <tr>\n",
       "      <th>4</th>\n",
       "      <td>5</td>\n",
       "      <td>100.077067</td>\n",
       "      <td>26/02/2016 09:15:38</td>\n",
       "      <td>40.061961</td>\n",
       "      <td>2</td>\n",
       "      <td>1</td>\n",
       "      <td>0.999713</td>\n",
       "      <td>3.643138</td>\n",
       "      <td>0.635077</td>\n",
       "      <td>0.011125</td>\n",
       "      <td>0.000000</td>\n",
       "      <td>0.040412</td>\n",
       "      <td>0.000000</td>\n",
       "      <td>0.000292</td>\n",
       "      <td>0</td>\n",
       "      <td>0</td>\n",
       "      <td>0</td>\n",
       "      <td>0</td>\n",
       "    </tr>\n",
       "    <tr>\n",
       "      <th>...</th>\n",
       "      <td>...</td>\n",
       "      <td>...</td>\n",
       "      <td>...</td>\n",
       "      <td>...</td>\n",
       "      <td>...</td>\n",
       "      <td>...</td>\n",
       "      <td>...</td>\n",
       "      <td>...</td>\n",
       "      <td>...</td>\n",
       "      <td>...</td>\n",
       "      <td>...</td>\n",
       "      <td>...</td>\n",
       "      <td>...</td>\n",
       "      <td>...</td>\n",
       "      <td>...</td>\n",
       "      <td>...</td>\n",
       "      <td>...</td>\n",
       "      <td>...</td>\n",
       "    </tr>\n",
       "    <tr>\n",
       "      <th>11440</th>\n",
       "      <td>11441</td>\n",
       "      <td>29162.278180</td>\n",
       "      <td>26/02/2016 17:20:05</td>\n",
       "      <td>574.383064</td>\n",
       "      <td>7</td>\n",
       "      <td>1</td>\n",
       "      <td>-3.692054</td>\n",
       "      <td>2.650615</td>\n",
       "      <td>0.083675</td>\n",
       "      <td>2.059422</td>\n",
       "      <td>2.000146</td>\n",
       "      <td>7.991865</td>\n",
       "      <td>7.084445</td>\n",
       "      <td>-0.128719</td>\n",
       "      <td>0</td>\n",
       "      <td>0</td>\n",
       "      <td>0</td>\n",
       "      <td>0</td>\n",
       "    </tr>\n",
       "    <tr>\n",
       "      <th>11441</th>\n",
       "      <td>11442</td>\n",
       "      <td>29163.293660</td>\n",
       "      <td>26/02/2016 17:20:06</td>\n",
       "      <td>575.398544</td>\n",
       "      <td>7</td>\n",
       "      <td>1</td>\n",
       "      <td>-1.655410</td>\n",
       "      <td>2.787336</td>\n",
       "      <td>0.159631</td>\n",
       "      <td>2.059422</td>\n",
       "      <td>2.000980</td>\n",
       "      <td>7.991865</td>\n",
       "      <td>7.086651</td>\n",
       "      <td>-0.074937</td>\n",
       "      <td>0</td>\n",
       "      <td>0</td>\n",
       "      <td>0</td>\n",
       "      <td>0</td>\n",
       "    </tr>\n",
       "    <tr>\n",
       "      <th>11442</th>\n",
       "      <td>11443</td>\n",
       "      <td>29164.309340</td>\n",
       "      <td>26/02/2016 17:20:07</td>\n",
       "      <td>576.414224</td>\n",
       "      <td>7</td>\n",
       "      <td>1</td>\n",
       "      <td>-1.910755</td>\n",
       "      <td>2.758664</td>\n",
       "      <td>0.143702</td>\n",
       "      <td>2.059422</td>\n",
       "      <td>2.001473</td>\n",
       "      <td>7.991865</td>\n",
       "      <td>7.088023</td>\n",
       "      <td>-0.054850</td>\n",
       "      <td>0</td>\n",
       "      <td>0</td>\n",
       "      <td>0</td>\n",
       "      <td>0</td>\n",
       "    </tr>\n",
       "    <tr>\n",
       "      <th>11443</th>\n",
       "      <td>11444</td>\n",
       "      <td>29165.309470</td>\n",
       "      <td>26/02/2016 17:20:08</td>\n",
       "      <td>577.414355</td>\n",
       "      <td>7</td>\n",
       "      <td>1</td>\n",
       "      <td>-3.444446</td>\n",
       "      <td>2.544673</td>\n",
       "      <td>0.024818</td>\n",
       "      <td>2.059422</td>\n",
       "      <td>2.002160</td>\n",
       "      <td>7.991865</td>\n",
       "      <td>7.089851</td>\n",
       "      <td>-0.084236</td>\n",
       "      <td>0</td>\n",
       "      <td>0</td>\n",
       "      <td>0</td>\n",
       "      <td>0</td>\n",
       "    </tr>\n",
       "    <tr>\n",
       "      <th>11444</th>\n",
       "      <td>11445</td>\n",
       "      <td>29165.809200</td>\n",
       "      <td>26/02/2016 17:20:09</td>\n",
       "      <td>577.914084</td>\n",
       "      <td>7</td>\n",
       "      <td>1</td>\n",
       "      <td>-3.444446</td>\n",
       "      <td>2.499477</td>\n",
       "      <td>-0.000290</td>\n",
       "      <td>2.059422</td>\n",
       "      <td>2.002639</td>\n",
       "      <td>7.991865</td>\n",
       "      <td>7.091057</td>\n",
       "      <td>-0.083167</td>\n",
       "      <td>0</td>\n",
       "      <td>0</td>\n",
       "      <td>0</td>\n",
       "      <td>0</td>\n",
       "    </tr>\n",
       "  </tbody>\n",
       "</table>\n",
       "<p>11445 rows × 18 columns</p>\n",
       "</div>"
      ],
      "text/plain": [
       "       Data_Point  Test_Time(s)            Date_Time  Step_Time(s)  \\\n",
       "0               1     60.014861  26/02/2016 09:14:58     60.014862   \n",
       "1               2     70.030711  26/02/2016 09:15:08     10.015606   \n",
       "2               3     80.046108  26/02/2016 09:15:18     20.031002   \n",
       "3               4     90.061672  26/02/2016 09:15:28     30.046566   \n",
       "4               5    100.077067  26/02/2016 09:15:38     40.061961   \n",
       "...           ...           ...                  ...           ...   \n",
       "11440       11441  29162.278180  26/02/2016 17:20:05    574.383064   \n",
       "11441       11442  29163.293660  26/02/2016 17:20:06    575.398544   \n",
       "11442       11443  29164.309340  26/02/2016 17:20:07    576.414224   \n",
       "11443       11444  29165.309470  26/02/2016 17:20:08    577.414355   \n",
       "11444       11445  29165.809200  26/02/2016 17:20:09    577.914084   \n",
       "\n",
       "       Step_Index  Cycle_Index  Current(A)  Voltage(V)       SoC  \\\n",
       "0               1            1    0.000000    3.446318  0.525732   \n",
       "1               2            1    0.999713    3.627587  0.626437   \n",
       "2               2            1    0.999533    3.634876  0.630487   \n",
       "3               2            1    0.999713    3.639574  0.633097   \n",
       "4               2            1    0.999713    3.643138  0.635077   \n",
       "...           ...          ...         ...         ...       ...   \n",
       "11440           7            1   -3.692054    2.650615  0.083675   \n",
       "11441           7            1   -1.655410    2.787336  0.159631   \n",
       "11442           7            1   -1.910755    2.758664  0.143702   \n",
       "11443           7            1   -3.444446    2.544673  0.024818   \n",
       "11444           7            1   -3.444446    2.499477 -0.000290   \n",
       "\n",
       "       Charge_Capacity(Ah)  Discharge_Capacity(Ah)  Charge_Energy(Wh)  \\\n",
       "0                 0.000000                0.000000           0.000000   \n",
       "1                 0.002781                0.000000           0.010067   \n",
       "2                 0.005563                0.000000           0.020168   \n",
       "3                 0.008344                0.000000           0.030284   \n",
       "4                 0.011125                0.000000           0.040412   \n",
       "...                    ...                     ...                ...   \n",
       "11440             2.059422                2.000146           7.991865   \n",
       "11441             2.059422                2.000980           7.991865   \n",
       "11442             2.059422                2.001473           7.991865   \n",
       "11443             2.059422                2.002160           7.991865   \n",
       "11444             2.059422                2.002639           7.991865   \n",
       "\n",
       "       Discharge_Energy(Wh)  dV/dt(V/s)  Internal_Resistance(Ohm)  Is_FC_Data  \\\n",
       "0                  0.000000   -0.000032                         0           0   \n",
       "1                  0.000000    0.000940                         0           0   \n",
       "2                  0.000000    0.000616                         0           0   \n",
       "3                  0.000000    0.000324                         0           0   \n",
       "4                  0.000000    0.000292                         0           0   \n",
       "...                     ...         ...                       ...         ...   \n",
       "11440              7.084445   -0.128719                         0           0   \n",
       "11441              7.086651   -0.074937                         0           0   \n",
       "11442              7.088023   -0.054850                         0           0   \n",
       "11443              7.089851   -0.084236                         0           0   \n",
       "11444              7.091057   -0.083167                         0           0   \n",
       "\n",
       "       AC_Impedance(Ohm)  ACI_Phase_Angle(Deg)  \n",
       "0                      0                     0  \n",
       "1                      0                     0  \n",
       "2                      0                     0  \n",
       "3                      0                     0  \n",
       "4                      0                     0  \n",
       "...                  ...                   ...  \n",
       "11440                  0                     0  \n",
       "11441                  0                     0  \n",
       "11442                  0                     0  \n",
       "11443                  0                     0  \n",
       "11444                  0                     0  \n",
       "\n",
       "[11445 rows x 18 columns]"
      ]
     },
     "execution_count": 3,
     "metadata": {},
     "output_type": "execute_result"
    }
   ],
   "source": [
    "df"
   ]
  },
  {
   "cell_type": "code",
   "execution_count": 4,
   "metadata": {},
   "outputs": [],
   "source": [
    "df=df.dropna()"
   ]
  },
  {
   "cell_type": "code",
   "execution_count": 5,
   "metadata": {},
   "outputs": [
    {
     "data": {
      "image/png": "[encoded data removed]",
      "text/plain": [
       "<Figure size 432x288 with 1 Axes>"
      ]
     },
     "metadata": {},
     "output_type": "display_data"
    }
   ],
   "source": [
    "df.SoC.hist()\n",
    "plt.show()"
   ]
  },
  {
   "cell_type": "code",
   "execution_count": 6,
   "metadata": {},
   "outputs": [
    {
     "data": {
      "image/png": "[encoded data removed]",
      "text/plain": [
       "<Figure size 432x288 with 2 Axes>"
      ]
     },
     "metadata": {},
     "output_type": "display_data"
    }
   ],
   "source": [
    "df1=df[\"Voltage(V)\"]\n",
    "df2=df[\"SoC\"]\n",
    "df3=df[\"Current(A)\"]\n",
    "colors = ['indianred', 'mediumblue','green']\n",
    "names = ['Voltage','SoC','Current']\n",
    "\n",
    "plt.hist([df1, df2,df3], bins = int(180/15), stacked=True,\n",
    "         color = colors,label=names,orientation='horizontal')\n",
    "plt.legend()\n",
    "plt.xlabel('Data Points')\n",
    "plt.ylabel('Voltage (V), Current (A), SoC(%)')\n",
    "plt.title('Voltage, Current, SoC')\n",
    "sample=np.random.normal(size=10000)\n",
    "vert_hist=np.histogram(sample,bins=30)\n",
    "ax1=plt.subplot(2,1,1)\n",
    "ax1.barh(vert_hist[1][:-1],vert_hist[0])\n",
    "\n",
    "ax2=plt.subplot(2,1,2)\n",
    "ax2.hist([df1, df2,df3], bins = int(180/15), stacked=True,\n",
    "         color = colors,label=names,orientation='horizontal')\n",
    "plt.show()"
   ]
  },
  {
   "cell_type": "code",
   "execution_count": 7,
   "metadata": {},
   "outputs": [
    {
     "data": {
      "image/png": "[encoded data removed]",
      "text/plain": [
       "<Figure size 432x288 with 1 Axes>"
      ]
     },
     "metadata": {},
     "output_type": "display_data"
    },
    {
     "name": "stderr",
     "output_type": "stream",
     "text": [
      "No handles with labels found to put in legend.\n"
     ]
    },
    {
     "data": {
      "text/plain": [
       "Text(0.5, 1.0, 'Voltage, Current, SoC')"
      ]
     },
     "execution_count": 7,
     "metadata": {},
     "output_type": "execute_result"
    },
    {
     "data": {
      "image/png": "[encoded data removed]",
      "text/plain": [
       "<Figure size 432x288 with 1 Axes>"
      ]
     },
     "metadata": {},
     "output_type": "display_data"
    }
   ],
   "source": [
    "import matplotlib.pyplot as plt\n",
    "import numpy as np\n",
    "\n",
    "fig, ax = plt.subplots()\n",
    "fig=plt.hist([df1, df2,df3], stacked=True,\n",
    "         color = colors,label=names,orientation='horizontal')\n",
    "plt.legend()\n",
    "plt.xlabel('Data Points')\n",
    "plt.ylabel('Voltage (V), Current (A), SoC(%)')\n",
    "plt.title('Voltage, Current, SoC',loc='center')\n",
    "\n",
    "\n",
    "# ax.hist([df1, df2,df3], bins, orientation='horizontal')\n",
    "plt.show()\n",
    "plt.savefig('Data.jpeg', dpi=600)\n",
    "\n",
    "plt.hist(df1)\n",
    "plt.hist(df3)\n",
    "plt.hist(df2)\n",
    "plt.legend()\n",
    "plt.xlabel('Data Points')\n",
    "plt.ylabel('Voltage (V), Current (A), SoC(%)')\n",
    "plt.title('Voltage, Current, SoC',loc='center')"
   ]
  },
  {
   "cell_type": "code",
   "execution_count": 8,
   "metadata": {},
   "outputs": [
    {
     "name": "stdout",
     "output_type": "stream",
     "text": [
      "       Step_Index  Cycle_Index  Current(A)  Voltage(V)  Charge_Capacity(Ah)  \\\n",
      "0               1            1    0.000000    3.446318             0.000000   \n",
      "1               2            1    0.999713    3.627587             0.002781   \n",
      "2               2            1    0.999533    3.634876             0.005563   \n",
      "3               2            1    0.999713    3.639574             0.008344   \n",
      "4               2            1    0.999713    3.643138             0.011125   \n",
      "...           ...          ...         ...         ...                  ...   \n",
      "11440           7            1   -3.692054    2.650615             2.059422   \n",
      "11441           7            1   -1.655410    2.787336             2.059422   \n",
      "11442           7            1   -1.910755    2.758664             2.059422   \n",
      "11443           7            1   -3.444446    2.544673             2.059422   \n",
      "11444           7            1   -3.444446    2.499477             2.059422   \n",
      "\n",
      "       Discharge_Capacity(Ah)  Charge_Energy(Wh)  Discharge_Energy(Wh)  \\\n",
      "0                    0.000000           0.000000              0.000000   \n",
      "1                    0.000000           0.010067              0.000000   \n",
      "2                    0.000000           0.020168              0.000000   \n",
      "3                    0.000000           0.030284              0.000000   \n",
      "4                    0.000000           0.040412              0.000000   \n",
      "...                       ...                ...                   ...   \n",
      "11440                2.000146           7.991865              7.084445   \n",
      "11441                2.000980           7.991865              7.086651   \n",
      "11442                2.001473           7.991865              7.088023   \n",
      "11443                2.002160           7.991865              7.089851   \n",
      "11444                2.002639           7.991865              7.091057   \n",
      "\n",
      "       dV/dt(V/s)  Internal_Resistance(Ohm)  Is_FC_Data  AC_Impedance(Ohm)  \\\n",
      "0       -0.000032                         0           0                  0   \n",
      "1        0.000940                         0           0                  0   \n",
      "2        0.000616                         0           0                  0   \n",
      "3        0.000324                         0           0                  0   \n",
      "4        0.000292                         0           0                  0   \n",
      "...           ...                       ...         ...                ...   \n",
      "11440   -0.128719                         0           0                  0   \n",
      "11441   -0.074937                         0           0                  0   \n",
      "11442   -0.054850                         0           0                  0   \n",
      "11443   -0.084236                         0           0                  0   \n",
      "11444   -0.083167                         0           0                  0   \n",
      "\n",
      "       ACI_Phase_Angle(Deg)  \n",
      "0                         0  \n",
      "1                         0  \n",
      "2                         0  \n",
      "3                         0  \n",
      "4                         0  \n",
      "...                     ...  \n",
      "11440                     0  \n",
      "11441                     0  \n",
      "11442                     0  \n",
      "11443                     0  \n",
      "11444                     0  \n",
      "\n",
      "[11445 rows x 13 columns]\n"
     ]
    }
   ],
   "source": [
    "y = df.SoC\n",
    "X = df.drop(['Test_Time(s)', 'Data_Point','Date_Time','Step_Time(s)','SoC'], axis='columns')\n",
    "print(X)"
   ]
  },
  {
   "cell_type": "code",
   "execution_count": 9,
   "metadata": {},
   "outputs": [
    {
     "name": "stdout",
     "output_type": "stream",
     "text": [
      "0        0.525732\n",
      "1        0.626437\n",
      "2        0.630487\n",
      "3        0.633097\n",
      "4        0.635077\n",
      "           ...   \n",
      "11440    0.083675\n",
      "11441    0.159631\n",
      "11442    0.143702\n",
      "11443    0.024818\n",
      "11444   -0.000290\n",
      "Name: SoC, Length: 11445, dtype: float64\n"
     ]
    }
   ],
   "source": [
    "print(y)"
   ]
  },
  {
   "cell_type": "code",
   "execution_count": 10,
   "metadata": {},
   "outputs": [
    {
     "name": "stdout",
     "output_type": "stream",
     "text": [
      "[[[ 6.          1.          0.         ...  0.          0.\n",
      "    0.        ]]\n",
      "\n",
      " [[ 7.          1.         -1.19744372 ...  0.          0.\n",
      "    0.        ]]\n",
      "\n",
      " [[ 7.          1.         -0.80929732 ...  0.          0.\n",
      "    0.        ]]\n",
      "\n",
      " ...\n",
      "\n",
      " [[ 6.          1.          0.         ...  0.          0.\n",
      "    0.        ]]\n",
      "\n",
      " [[ 7.          1.          0.20524572 ...  0.          0.\n",
      "    0.        ]]\n",
      "\n",
      " [[ 7.          1.          0.49658042 ...  0.          0.\n",
      "    0.        ]]]\n"
     ]
    }
   ],
   "source": [
    "X_train, X_test, y_train, y_test = train_test_split(X, y, test_size = 0.2, random_state=1234)\n",
    "\n",
    "X_train = np.expand_dims(np.array(X_train),1)\n",
    "y_train = np.expand_dims(np.array(y_train),1)\n",
    "X_test = np.expand_dims(np.array(X_test),1)\n",
    "y_test = np.expand_dims(np.array(y_test),1)\n",
    "\n",
    "#pipelines = {\n",
    "#    'mlp'   : make_pipeline(StandardScaler(), MLPRegressor(random_state=1234))\n",
    "#}\n",
    "print(X_train)"
   ]
  },
  {
   "cell_type": "code",
   "execution_count": 11,
   "metadata": {},
   "outputs": [
    {
     "name": "stdout",
     "output_type": "stream",
     "text": [
      "float64\n",
      "float64\n",
      "float64\n",
      "float64\n"
     ]
    }
   ],
   "source": [
    "print(X_train.dtype)\n",
    "print(y_train.dtype)\n",
    "print(X_test.dtype)\n",
    "print(y_test.dtype)"
   ]
  },
  {
   "cell_type": "code",
   "execution_count": 12,
   "metadata": {},
   "outputs": [],
   "source": [
    "from sklearn.preprocessing import MinMaxScaler"
   ]
  },
  {
   "cell_type": "code",
   "execution_count": 13,
   "metadata": {},
   "outputs": [],
   "source": [
    "dataset = df.SoC.values #numpy.ndarray\n",
    "dataset = dataset.astype('float64')\n",
    "dataset = np.reshape(dataset, (-1, 1))\n",
    "scaler = MinMaxScaler(feature_range=(0, 1))\n",
    "dataset = scaler.fit_transform(dataset)\n",
    "train_size = int(len(dataset) * 0.80)\n",
    "test_size = len(dataset) - train_size\n",
    "train, test = dataset[0:train_size,:], dataset[train_size:len(dataset),:]"
   ]
  },
  {
   "cell_type": "code",
   "execution_count": 12,
   "metadata": {},
   "outputs": [
    {
     "data": {
      "text/plain": [
       "(9156, 1, 13)"
      ]
     },
     "execution_count": 12,
     "metadata": {},
     "output_type": "execute_result"
    }
   ],
   "source": [
    "X_train.shape"
   ]
  },
  {
   "cell_type": "code",
   "execution_count": 13,
   "metadata": {},
   "outputs": [
    {
     "data": {
      "text/plain": [
       "(9156, 1)"
      ]
     },
     "execution_count": 13,
     "metadata": {},
     "output_type": "execute_result"
    }
   ],
   "source": [
    "y_train.shape"
   ]
  },
  {
   "cell_type": "code",
   "execution_count": 14,
   "metadata": {},
   "outputs": [],
   "source": [
    "## Import Necessary Modules\n",
    "import tensorflow as tf\n",
    "from tensorflow.keras.layers import Activation\n",
    "from tensorflow.keras.utils import get_custom_objects\n",
    "from tensorflow import keras\n",
    "class Mish(Activation):\n",
    "    '''\n",
    "    Mish Activation Function.\n",
    "    .. math::\n",
    "        mish(x) = x * tanh(softplus(x)) = x * tanh(ln(1 + e^{x}))\n",
    "    Shape:\n",
    "        - Input: Arbitrary. Use the keyword argument `input_shape`\n",
    "        (tuple of integers, does not include the samples axis)\n",
    "        when using this layer as the first layer in a model.\n",
    "        - Output: Same shape as the input.\n",
    "    Examples:\n",
    "        >>> X = Activation('Mish', name=\"conv1_act\")(X_input)\n",
    "    '''\n",
    "\n",
    "    def __init__(self, activation, **kwargs):\n",
    "        super(Mish, self).__init__(activation, **kwargs)\n",
    "        self.__name__ = 'Mish'\n",
    "\n",
    "\n",
    "def mish(inputs):\n",
    "    return inputs * tf.math.tanh(tf.math.softplus(inputs))\n",
    "\n",
    "get_custom_objects().update({'Mish': Mish(mish)})"
   ]
  },
  {
   "cell_type": "code",
   "execution_count": 15,
   "metadata": {},
   "outputs": [
    {
     "name": "stdout",
     "output_type": "stream",
     "text": [
      "Model: \"sequential\"\n",
      "_________________________________________________________________\n",
      "Layer (type)                 Output Shape              Param #   \n",
      "=================================================================\n",
      "conv1 (Conv1D)               (None, None, 16)          1472      \n",
      "_________________________________________________________________\n",
      "batch_normalization (BatchNo (None, None, 16)          64        \n",
      "_________________________________________________________________\n",
      "activation (Activation)      (None, None, 16)          0         \n",
      "_________________________________________________________________\n",
      "conv2 (Conv1D)               (None, None, 32)          2592      \n",
      "_________________________________________________________________\n",
      "batch_normalization_1 (Batch (None, None, 32)          128       \n",
      "_________________________________________________________________\n",
      "activation_1 (Activation)    (None, None, 32)          0         \n",
      "_________________________________________________________________\n",
      "conv3 (Conv1D)               (None, None, 16)          2576      \n",
      "_________________________________________________________________\n",
      "batch_normalization_2 (Batch (None, None, 16)          64        \n",
      "_________________________________________________________________\n",
      "activation_2 (Activation)    (None, None, 16)          0         \n",
      "_________________________________________________________________\n",
      "conv4 (Conv1D)               (None, None, 1)           17        \n",
      "_________________________________________________________________\n",
      "batch_normalization_3 (Batch (None, None, 1)           4         \n",
      "_________________________________________________________________\n",
      "activation_3 (Activation)    (None, None, 1)           0         \n",
      "_________________________________________________________________\n",
      "global_average_pooling1d (Gl (None, 1)                 0         \n",
      "_________________________________________________________________\n",
      "activation_4 (Activation)    (None, 1)                 0         \n",
      "=================================================================\n",
      "Total params: 6,917\n",
      "Trainable params: 6,787\n",
      "Non-trainable params: 130\n",
      "_________________________________________________________________\n"
     ]
    }
   ],
   "source": [
    "model = Sequential()\n",
    "\n",
    "model.add(tf.keras.layers.Conv1D(16, 7, padding='same' , name = 'conv1'))\n",
    "model.add(tf.keras.layers.BatchNormalization())\n",
    "model.add(tf.keras.layers.Activation(\"Mish\"))\n",
    "\n",
    "model.add(tf.keras.layers.Conv1D(32, 5, padding='same', name = 'conv2'))\n",
    "model.add(tf.keras.layers.BatchNormalization())\n",
    "model.add(tf.keras.layers.Activation(\"Mish\"))\n",
    "\n",
    "model.add(tf.keras.layers.Conv1D(16, 5, padding='same' , name = 'conv3'))\n",
    "model.add(tf.keras.layers.BatchNormalization())\n",
    "model.add(tf.keras.layers.Activation(\"Mish\"))\n",
    "\n",
    "model.add(tf.keras.layers.Conv1D(1, 1, name = 'conv4'))\n",
    "model.add(tf.keras.layers.BatchNormalization())\n",
    "model.add(tf.keras.layers.Activation(\"Mish\"))\n",
    "\n",
    "model.add(tf.keras.layers.GlobalAveragePooling1D())\n",
    "model.add(tf.keras.layers.Activation(\"relu\"))\n",
    "#model.add(tf.keras.layers.Dense(1))\n",
    "\n",
    "model.build(input_shape=(None,None,13))\n",
    "\n",
    "model.summary()"
   ]
  },
  {
   "cell_type": "code",
   "execution_count": 18,
   "metadata": {},
   "outputs": [
    {
     "name": "stdout",
     "output_type": "stream",
     "text": [
      "Requirement already satisfied: tensorflow-addons in c:\\users\\ramprakash sekhar\\appdata\\local\\programs\\python\\python37\\lib\\site-packages (0.15.0)\n",
      "Requirement already satisfied: typeguard>=2.7 in c:\\users\\ramprakash sekhar\\appdata\\local\\programs\\python\\python37\\lib\\site-packages (from tensorflow-addons) (2.13.3)\n"
     ]
    }
   ],
   "source": [
    "!pip install tensorflow-addons"
   ]
  },
  {
   "cell_type": "code",
   "execution_count": 60,
   "metadata": {},
   "outputs": [
    {
     "data": {
      "text/plain": [
       "<tf.Tensor: shape=(1, 1), dtype=float32, numpy=array([[0.02596144]], dtype=float32)>"
      ]
     },
     "execution_count": 60,
     "metadata": {},
     "output_type": "execute_result"
    }
   ],
   "source": [
    "model(np.expand_dims(X_train[25],0))"
   ]
  },
  {
   "cell_type": "code",
   "execution_count": 61,
   "metadata": {},
   "outputs": [
    {
     "data": {
      "text/plain": [
       "array([0.66027522])"
      ]
     },
     "execution_count": 61,
     "metadata": {},
     "output_type": "execute_result"
    }
   ],
   "source": [
    "y_train[25]"
   ]
  },
  {
   "cell_type": "code",
   "execution_count": null,
   "metadata": {},
   "outputs": [],
   "source": [
    "import time\n",
    "import psutil\n",
    "\n",
    "start = time.time()"
   ]
  },
  {
   "cell_type": "code",
   "execution_count": 28,
   "metadata": {},
   "outputs": [
    {
     "name": "stdout",
     "output_type": "stream",
     "text": [
      "Epoch 1/100\n",
      "144/144 [==============================] - 2s 4ms/step - loss: 0.3105 - mean_absolute_error: 0.3105 - root_mean_squared_error: 0.3937 - val_loss: 0.0965 - val_mean_absolute_error: 0.0965 - val_root_mean_squared_error: 0.1281\n",
      "Epoch 2/100\n",
      "144/144 [==============================] - 0s 3ms/step - loss: 0.2181 - mean_absolute_error: 0.2181 - root_mean_squared_error: 0.3116 - val_loss: 0.1119 - val_mean_absolute_error: 0.1119 - val_root_mean_squared_error: 0.1688\n",
      "Epoch 3/100\n",
      "144/144 [==============================] - 0s 3ms/step - loss: 0.1661 - mean_absolute_error: 0.1661 - root_mean_squared_error: 0.2663 - val_loss: 0.1094 - val_mean_absolute_error: 0.1094 - val_root_mean_squared_error: 0.1785\n",
      "Epoch 4/100\n",
      "144/144 [==============================] - 0s 3ms/step - loss: 0.1362 - mean_absolute_error: 0.1362 - root_mean_squared_error: 0.2393 - val_loss: 0.0900 - val_mean_absolute_error: 0.0900 - val_root_mean_squared_error: 0.1717\n",
      "Epoch 5/100\n",
      "144/144 [==============================] - 0s 3ms/step - loss: 0.1158 - mean_absolute_error: 0.1158 - root_mean_squared_error: 0.2177 - val_loss: 0.1032 - val_mean_absolute_error: 0.1032 - val_root_mean_squared_error: 0.1762\n",
      "Epoch 6/100\n",
      "144/144 [==============================] - 0s 3ms/step - loss: 0.1149 - mean_absolute_error: 0.1149 - root_mean_squared_error: 0.2150 - val_loss: 0.0909 - val_mean_absolute_error: 0.0909 - val_root_mean_squared_error: 0.1749\n",
      "Epoch 7/100\n",
      "144/144 [==============================] - 0s 3ms/step - loss: 0.0950 - mean_absolute_error: 0.0950 - root_mean_squared_error: 0.1951 - val_loss: 0.0751 - val_mean_absolute_error: 0.0751 - val_root_mean_squared_error: 0.1597\n",
      "Epoch 8/100\n",
      "144/144 [==============================] - 0s 3ms/step - loss: 0.0964 - mean_absolute_error: 0.0964 - root_mean_squared_error: 0.1929 - val_loss: 0.0667 - val_mean_absolute_error: 0.0667 - val_root_mean_squared_error: 0.1616\n",
      "Epoch 9/100\n",
      "144/144 [==============================] - 0s 3ms/step - loss: 0.0829 - mean_absolute_error: 0.0829 - root_mean_squared_error: 0.1782 - val_loss: 0.0608 - val_mean_absolute_error: 0.0608 - val_root_mean_squared_error: 0.1474\n",
      "Epoch 10/100\n",
      "144/144 [==============================] - 0s 3ms/step - loss: 0.0855 - mean_absolute_error: 0.0855 - root_mean_squared_error: 0.1725 - val_loss: 0.0580 - val_mean_absolute_error: 0.0580 - val_root_mean_squared_error: 0.1415\n",
      "Epoch 11/100\n",
      "144/144 [==============================] - 0s 3ms/step - loss: 0.0761 - mean_absolute_error: 0.0761 - root_mean_squared_error: 0.1640 - val_loss: 0.0598 - val_mean_absolute_error: 0.0598 - val_root_mean_squared_error: 0.1404\n",
      "Epoch 12/100\n",
      "144/144 [==============================] - 0s 3ms/step - loss: 0.0768 - mean_absolute_error: 0.0768 - root_mean_squared_error: 0.1574 - val_loss: 0.0824 - val_mean_absolute_error: 0.0824 - val_root_mean_squared_error: 0.1486\n",
      "Epoch 13/100\n",
      "144/144 [==============================] - 0s 3ms/step - loss: 0.0723 - mean_absolute_error: 0.0723 - root_mean_squared_error: 0.1570 - val_loss: 0.0487 - val_mean_absolute_error: 0.0487 - val_root_mean_squared_error: 0.1304\n",
      "Epoch 14/100\n",
      "144/144 [==============================] - 0s 3ms/step - loss: 0.0688 - mean_absolute_error: 0.0688 - root_mean_squared_error: 0.1514 - val_loss: 0.0488 - val_mean_absolute_error: 0.0488 - val_root_mean_squared_error: 0.1273\n",
      "Epoch 15/100\n",
      "144/144 [==============================] - 0s 3ms/step - loss: 0.0726 - mean_absolute_error: 0.0726 - root_mean_squared_error: 0.1514 - val_loss: 0.0394 - val_mean_absolute_error: 0.0394 - val_root_mean_squared_error: 0.1220\n",
      "Epoch 16/100\n",
      "144/144 [==============================] - 0s 3ms/step - loss: 0.0620 - mean_absolute_error: 0.0620 - root_mean_squared_error: 0.1398 - val_loss: 0.0619 - val_mean_absolute_error: 0.0619 - val_root_mean_squared_error: 0.1269\n",
      "Epoch 17/100\n",
      "144/144 [==============================] - 0s 3ms/step - loss: 0.0752 - mean_absolute_error: 0.0752 - root_mean_squared_error: 0.1505 - val_loss: 0.0450 - val_mean_absolute_error: 0.0450 - val_root_mean_squared_error: 0.1192\n",
      "Epoch 18/100\n",
      "144/144 [==============================] - 0s 3ms/step - loss: 0.0672 - mean_absolute_error: 0.0672 - root_mean_squared_error: 0.1447 - val_loss: 0.0509 - val_mean_absolute_error: 0.0509 - val_root_mean_squared_error: 0.1188\n",
      "Epoch 19/100\n",
      "144/144 [==============================] - 0s 3ms/step - loss: 0.0654 - mean_absolute_error: 0.0654 - root_mean_squared_error: 0.1402 - val_loss: 0.0410 - val_mean_absolute_error: 0.0410 - val_root_mean_squared_error: 0.1212\n",
      "Epoch 20/100\n",
      "144/144 [==============================] - 0s 3ms/step - loss: 0.0546 - mean_absolute_error: 0.0546 - root_mean_squared_error: 0.1392 - val_loss: 0.0555 - val_mean_absolute_error: 0.0555 - val_root_mean_squared_error: 0.1273\n",
      "Epoch 21/100\n",
      "144/144 [==============================] - 0s 3ms/step - loss: 0.0532 - mean_absolute_error: 0.0532 - root_mean_squared_error: 0.1290 - val_loss: 0.0430 - val_mean_absolute_error: 0.0430 - val_root_mean_squared_error: 0.1202\n",
      "Epoch 22/100\n",
      "144/144 [==============================] - 0s 3ms/step - loss: 0.0527 - mean_absolute_error: 0.0527 - root_mean_squared_error: 0.1291 - val_loss: 0.0407 - val_mean_absolute_error: 0.0407 - val_root_mean_squared_error: 0.1144\n",
      "Epoch 23/100\n",
      "144/144 [==============================] - 0s 3ms/step - loss: 0.0852 - mean_absolute_error: 0.0852 - root_mean_squared_error: 0.1772 - val_loss: 0.0913 - val_mean_absolute_error: 0.0913 - val_root_mean_squared_error: 0.1485\n",
      "Epoch 24/100\n",
      "144/144 [==============================] - 0s 3ms/step - loss: 0.0656 - mean_absolute_error: 0.0656 - root_mean_squared_error: 0.1538 - val_loss: 0.0586 - val_mean_absolute_error: 0.0586 - val_root_mean_squared_error: 0.1295\n",
      "Epoch 25/100\n",
      "144/144 [==============================] - 0s 3ms/step - loss: 0.0576 - mean_absolute_error: 0.0576 - root_mean_squared_error: 0.1448 - val_loss: 0.0572 - val_mean_absolute_error: 0.0572 - val_root_mean_squared_error: 0.1309\n",
      "Epoch 26/100\n",
      "144/144 [==============================] - 0s 3ms/step - loss: 0.0512 - mean_absolute_error: 0.0512 - root_mean_squared_error: 0.1334 - val_loss: 0.0546 - val_mean_absolute_error: 0.0546 - val_root_mean_squared_error: 0.1164\n",
      "Epoch 27/100\n",
      "144/144 [==============================] - 0s 3ms/step - loss: 0.0528 - mean_absolute_error: 0.0528 - root_mean_squared_error: 0.1335 - val_loss: 0.0475 - val_mean_absolute_error: 0.0475 - val_root_mean_squared_error: 0.1124\n",
      "Epoch 28/100\n",
      "144/144 [==============================] - 0s 3ms/step - loss: 0.0498 - mean_absolute_error: 0.0498 - root_mean_squared_error: 0.1295 - val_loss: 0.0400 - val_mean_absolute_error: 0.0400 - val_root_mean_squared_error: 0.1092\n",
      "Epoch 29/100\n",
      "144/144 [==============================] - 0s 3ms/step - loss: 0.0451 - mean_absolute_error: 0.0451 - root_mean_squared_error: 0.1232 - val_loss: 0.0599 - val_mean_absolute_error: 0.0599 - val_root_mean_squared_error: 0.1267\n",
      "Epoch 30/100\n",
      "144/144 [==============================] - 0s 3ms/step - loss: 0.0530 - mean_absolute_error: 0.0530 - root_mean_squared_error: 0.1361 - val_loss: 0.0468 - val_mean_absolute_error: 0.0468 - val_root_mean_squared_error: 0.1057\n",
      "Epoch 31/100\n",
      "144/144 [==============================] - 0s 3ms/step - loss: 0.0467 - mean_absolute_error: 0.0467 - root_mean_squared_error: 0.1221 - val_loss: 0.0439 - val_mean_absolute_error: 0.0439 - val_root_mean_squared_error: 0.1068\n",
      "Epoch 32/100\n",
      "144/144 [==============================] - 0s 3ms/step - loss: 0.0499 - mean_absolute_error: 0.0499 - root_mean_squared_error: 0.1265 - val_loss: 0.0282 - val_mean_absolute_error: 0.0282 - val_root_mean_squared_error: 0.1030\n",
      "Epoch 33/100\n",
      "144/144 [==============================] - 0s 3ms/step - loss: 0.0453 - mean_absolute_error: 0.0453 - root_mean_squared_error: 0.1250 - val_loss: 0.0307 - val_mean_absolute_error: 0.0307 - val_root_mean_squared_error: 0.1010\n",
      "Epoch 34/100\n",
      "144/144 [==============================] - 0s 3ms/step - loss: 0.0455 - mean_absolute_error: 0.0455 - root_mean_squared_error: 0.1199 - val_loss: 0.0266 - val_mean_absolute_error: 0.0266 - val_root_mean_squared_error: 0.0993\n",
      "Epoch 35/100\n",
      "144/144 [==============================] - 0s 3ms/step - loss: 0.0448 - mean_absolute_error: 0.0448 - root_mean_squared_error: 0.1181 - val_loss: 0.0333 - val_mean_absolute_error: 0.0333 - val_root_mean_squared_error: 0.1028\n",
      "Epoch 36/100\n",
      "144/144 [==============================] - 0s 3ms/step - loss: 0.0470 - mean_absolute_error: 0.0470 - root_mean_squared_error: 0.1235 - val_loss: 0.0376 - val_mean_absolute_error: 0.0376 - val_root_mean_squared_error: 0.1038\n",
      "Epoch 37/100\n",
      "144/144 [==============================] - 0s 3ms/step - loss: 0.0426 - mean_absolute_error: 0.0426 - root_mean_squared_error: 0.1168 - val_loss: 0.0388 - val_mean_absolute_error: 0.0388 - val_root_mean_squared_error: 0.1036\n",
      "Epoch 38/100\n",
      "144/144 [==============================] - 0s 3ms/step - loss: 0.0469 - mean_absolute_error: 0.0469 - root_mean_squared_error: 0.1184 - val_loss: 0.0241 - val_mean_absolute_error: 0.0241 - val_root_mean_squared_error: 0.1002\n",
      "Epoch 39/100\n",
      "144/144 [==============================] - 0s 3ms/step - loss: 0.0408 - mean_absolute_error: 0.0408 - root_mean_squared_error: 0.1152 - val_loss: 0.0353 - val_mean_absolute_error: 0.0353 - val_root_mean_squared_error: 0.1009\n",
      "Epoch 40/100\n",
      "144/144 [==============================] - 0s 3ms/step - loss: 0.0382 - mean_absolute_error: 0.0382 - root_mean_squared_error: 0.1110 - val_loss: 0.0278 - val_mean_absolute_error: 0.0278 - val_root_mean_squared_error: 0.0958\n",
      "Epoch 41/100\n",
      "144/144 [==============================] - 0s 3ms/step - loss: 0.0376 - mean_absolute_error: 0.0376 - root_mean_squared_error: 0.1112 - val_loss: 0.0400 - val_mean_absolute_error: 0.0400 - val_root_mean_squared_error: 0.0999\n",
      "Epoch 42/100\n",
      "144/144 [==============================] - 0s 3ms/step - loss: 0.0387 - mean_absolute_error: 0.0387 - root_mean_squared_error: 0.1110 - val_loss: 0.0433 - val_mean_absolute_error: 0.0433 - val_root_mean_squared_error: 0.1027\n",
      "Epoch 43/100\n",
      "144/144 [==============================] - 0s 3ms/step - loss: 0.0388 - mean_absolute_error: 0.0388 - root_mean_squared_error: 0.1113 - val_loss: 0.0533 - val_mean_absolute_error: 0.0533 - val_root_mean_squared_error: 0.1113\n",
      "Epoch 44/100\n",
      "144/144 [==============================] - 0s 3ms/step - loss: 0.0397 - mean_absolute_error: 0.0397 - root_mean_squared_error: 0.1191 - val_loss: 0.0582 - val_mean_absolute_error: 0.0582 - val_root_mean_squared_error: 0.1121\n",
      "Epoch 45/100\n",
      "144/144 [==============================] - 0s 3ms/step - loss: 0.0369 - mean_absolute_error: 0.0369 - root_mean_squared_error: 0.1105 - val_loss: 0.0482 - val_mean_absolute_error: 0.0482 - val_root_mean_squared_error: 0.1084\n",
      "Epoch 46/100\n",
      "144/144 [==============================] - 0s 3ms/step - loss: 0.0389 - mean_absolute_error: 0.0389 - root_mean_squared_error: 0.1129 - val_loss: 0.0380 - val_mean_absolute_error: 0.0380 - val_root_mean_squared_error: 0.1039\n",
      "Epoch 47/100\n",
      "144/144 [==============================] - 0s 3ms/step - loss: 0.0374 - mean_absolute_error: 0.0374 - root_mean_squared_error: 0.1086 - val_loss: 0.0861 - val_mean_absolute_error: 0.0861 - val_root_mean_squared_error: 0.1249\n",
      "Epoch 48/100\n",
      "144/144 [==============================] - 0s 3ms/step - loss: 0.0367 - mean_absolute_error: 0.0367 - root_mean_squared_error: 0.1152 - val_loss: 0.0234 - val_mean_absolute_error: 0.0234 - val_root_mean_squared_error: 0.0970\n",
      "Epoch 49/100\n",
      "144/144 [==============================] - 0s 3ms/step - loss: 0.0441 - mean_absolute_error: 0.0441 - root_mean_squared_error: 0.1164 - val_loss: 0.0274 - val_mean_absolute_error: 0.0274 - val_root_mean_squared_error: 0.0956\n",
      "Epoch 50/100\n",
      "144/144 [==============================] - 0s 3ms/step - loss: 0.0353 - mean_absolute_error: 0.0353 - root_mean_squared_error: 0.1079 - val_loss: 0.0501 - val_mean_absolute_error: 0.0501 - val_root_mean_squared_error: 0.1062\n",
      "Epoch 51/100\n",
      "144/144 [==============================] - 0s 3ms/step - loss: 0.0382 - mean_absolute_error: 0.0382 - root_mean_squared_error: 0.1167 - val_loss: 0.0518 - val_mean_absolute_error: 0.0518 - val_root_mean_squared_error: 0.1084\n",
      "Epoch 52/100\n",
      "144/144 [==============================] - 0s 3ms/step - loss: 0.0353 - mean_absolute_error: 0.0353 - root_mean_squared_error: 0.1105 - val_loss: 0.0366 - val_mean_absolute_error: 0.0366 - val_root_mean_squared_error: 0.0973\n",
      "Epoch 53/100\n",
      "144/144 [==============================] - 0s 3ms/step - loss: 0.0340 - mean_absolute_error: 0.0340 - root_mean_squared_error: 0.1076 - val_loss: 0.0498 - val_mean_absolute_error: 0.0498 - val_root_mean_squared_error: 0.1054\n",
      "Epoch 54/100\n",
      "144/144 [==============================] - 0s 3ms/step - loss: 0.0370 - mean_absolute_error: 0.0370 - root_mean_squared_error: 0.1151 - val_loss: 0.0261 - val_mean_absolute_error: 0.0261 - val_root_mean_squared_error: 0.0948\n",
      "Epoch 55/100\n",
      "144/144 [==============================] - 0s 3ms/step - loss: 0.0360 - mean_absolute_error: 0.0360 - root_mean_squared_error: 0.1102 - val_loss: 0.0287 - val_mean_absolute_error: 0.0287 - val_root_mean_squared_error: 0.0929\n",
      "Epoch 56/100\n",
      "144/144 [==============================] - 0s 3ms/step - loss: 0.0330 - mean_absolute_error: 0.0330 - root_mean_squared_error: 0.1045 - val_loss: 0.0256 - val_mean_absolute_error: 0.0256 - val_root_mean_squared_error: 0.0942\n",
      "Epoch 57/100\n",
      "144/144 [==============================] - 0s 3ms/step - loss: 0.0339 - mean_absolute_error: 0.0339 - root_mean_squared_error: 0.1021 - val_loss: 0.0364 - val_mean_absolute_error: 0.0364 - val_root_mean_squared_error: 0.0958\n",
      "Epoch 58/100\n",
      "144/144 [==============================] - 0s 3ms/step - loss: 0.0343 - mean_absolute_error: 0.0343 - root_mean_squared_error: 0.1045 - val_loss: 0.0321 - val_mean_absolute_error: 0.0321 - val_root_mean_squared_error: 0.0920\n",
      "Epoch 59/100\n",
      "144/144 [==============================] - 0s 3ms/step - loss: 0.0356 - mean_absolute_error: 0.0356 - root_mean_squared_error: 0.1043 - val_loss: 0.0226 - val_mean_absolute_error: 0.0226 - val_root_mean_squared_error: 0.0967\n",
      "Epoch 60/100\n",
      "144/144 [==============================] - 0s 3ms/step - loss: 0.0339 - mean_absolute_error: 0.0339 - root_mean_squared_error: 0.1074 - val_loss: 0.0266 - val_mean_absolute_error: 0.0266 - val_root_mean_squared_error: 0.0906\n",
      "Epoch 61/100\n",
      "144/144 [==============================] - 0s 3ms/step - loss: 0.0351 - mean_absolute_error: 0.0351 - root_mean_squared_error: 0.1060 - val_loss: 0.0420 - val_mean_absolute_error: 0.0420 - val_root_mean_squared_error: 0.0966\n",
      "Epoch 62/100\n",
      "144/144 [==============================] - 0s 3ms/step - loss: 0.0323 - mean_absolute_error: 0.0323 - root_mean_squared_error: 0.1042 - val_loss: 0.0224 - val_mean_absolute_error: 0.0224 - val_root_mean_squared_error: 0.0916\n",
      "Epoch 63/100\n",
      "144/144 [==============================] - 0s 3ms/step - loss: 0.0352 - mean_absolute_error: 0.0352 - root_mean_squared_error: 0.1047 - val_loss: 0.0515 - val_mean_absolute_error: 0.0515 - val_root_mean_squared_error: 0.1020\n",
      "Epoch 64/100\n",
      "144/144 [==============================] - 0s 3ms/step - loss: 0.0329 - mean_absolute_error: 0.0329 - root_mean_squared_error: 0.1059 - val_loss: 0.0382 - val_mean_absolute_error: 0.0382 - val_root_mean_squared_error: 0.0937\n",
      "Epoch 65/100\n",
      "144/144 [==============================] - 0s 3ms/step - loss: 0.0308 - mean_absolute_error: 0.0308 - root_mean_squared_error: 0.1012 - val_loss: 0.0344 - val_mean_absolute_error: 0.0344 - val_root_mean_squared_error: 0.0937\n",
      "Epoch 66/100\n",
      "144/144 [==============================] - 0s 3ms/step - loss: 0.0321 - mean_absolute_error: 0.0321 - root_mean_squared_error: 0.1037 - val_loss: 0.0255 - val_mean_absolute_error: 0.0255 - val_root_mean_squared_error: 0.0929\n",
      "Epoch 67/100\n",
      "144/144 [==============================] - 0s 3ms/step - loss: 0.0294 - mean_absolute_error: 0.0294 - root_mean_squared_error: 0.0993 - val_loss: 0.0260 - val_mean_absolute_error: 0.0260 - val_root_mean_squared_error: 0.0864\n",
      "Epoch 68/100\n",
      "144/144 [==============================] - 0s 3ms/step - loss: 0.0305 - mean_absolute_error: 0.0305 - root_mean_squared_error: 0.0973 - val_loss: 0.0341 - val_mean_absolute_error: 0.0341 - val_root_mean_squared_error: 0.0875\n",
      "Epoch 69/100\n"
     ]
    },
    {
     "name": "stdout",
     "output_type": "stream",
     "text": [
      "144/144 [==============================] - 0s 3ms/step - loss: 0.0296 - mean_absolute_error: 0.0296 - root_mean_squared_error: 0.0950 - val_loss: 0.0260 - val_mean_absolute_error: 0.0260 - val_root_mean_squared_error: 0.0854\n",
      "Epoch 70/100\n",
      "144/144 [==============================] - 0s 3ms/step - loss: 0.0312 - mean_absolute_error: 0.0312 - root_mean_squared_error: 0.0936 - val_loss: 0.0341 - val_mean_absolute_error: 0.0341 - val_root_mean_squared_error: 0.0882\n",
      "Epoch 71/100\n",
      "144/144 [==============================] - 0s 3ms/step - loss: 0.0286 - mean_absolute_error: 0.0286 - root_mean_squared_error: 0.0927 - val_loss: 0.0174 - val_mean_absolute_error: 0.0174 - val_root_mean_squared_error: 0.0821\n",
      "Epoch 72/100\n",
      "144/144 [==============================] - 0s 3ms/step - loss: 0.0304 - mean_absolute_error: 0.0304 - root_mean_squared_error: 0.0951 - val_loss: 0.0396 - val_mean_absolute_error: 0.0396 - val_root_mean_squared_error: 0.0896\n",
      "Epoch 73/100\n",
      "144/144 [==============================] - 0s 3ms/step - loss: 0.0274 - mean_absolute_error: 0.0274 - root_mean_squared_error: 0.0863 - val_loss: 0.0227 - val_mean_absolute_error: 0.0227 - val_root_mean_squared_error: 0.0544\n",
      "Epoch 74/100\n",
      "144/144 [==============================] - 0s 3ms/step - loss: 0.0180 - mean_absolute_error: 0.0180 - root_mean_squared_error: 0.0249 - val_loss: 0.0305 - val_mean_absolute_error: 0.0305 - val_root_mean_squared_error: 0.0370\n",
      "Epoch 75/100\n",
      "144/144 [==============================] - 0s 3ms/step - loss: 0.0161 - mean_absolute_error: 0.0161 - root_mean_squared_error: 0.0217 - val_loss: 0.0075 - val_mean_absolute_error: 0.0075 - val_root_mean_squared_error: 0.0104\n",
      "Epoch 76/100\n",
      "144/144 [==============================] - 0s 3ms/step - loss: 0.0186 - mean_absolute_error: 0.0186 - root_mean_squared_error: 0.0249 - val_loss: 0.0314 - val_mean_absolute_error: 0.0314 - val_root_mean_squared_error: 0.0361\n",
      "Epoch 77/100\n",
      "144/144 [==============================] - 0s 3ms/step - loss: 0.0171 - mean_absolute_error: 0.0171 - root_mean_squared_error: 0.0224 - val_loss: 0.0159 - val_mean_absolute_error: 0.0159 - val_root_mean_squared_error: 0.0202\n",
      "Epoch 78/100\n",
      "144/144 [==============================] - 0s 3ms/step - loss: 0.0178 - mean_absolute_error: 0.0178 - root_mean_squared_error: 0.0237 - val_loss: 0.0232 - val_mean_absolute_error: 0.0232 - val_root_mean_squared_error: 0.0268\n",
      "Epoch 79/100\n",
      "144/144 [==============================] - 0s 3ms/step - loss: 0.0173 - mean_absolute_error: 0.0173 - root_mean_squared_error: 0.0225 - val_loss: 0.0041 - val_mean_absolute_error: 0.0041 - val_root_mean_squared_error: 0.0068\n",
      "Epoch 80/100\n",
      "144/144 [==============================] - 0s 3ms/step - loss: 0.0176 - mean_absolute_error: 0.0176 - root_mean_squared_error: 0.0230 - val_loss: 0.0260 - val_mean_absolute_error: 0.0260 - val_root_mean_squared_error: 0.0266\n",
      "Epoch 81/100\n",
      "144/144 [==============================] - 0s 3ms/step - loss: 0.0167 - mean_absolute_error: 0.0167 - root_mean_squared_error: 0.0223 - val_loss: 0.0178 - val_mean_absolute_error: 0.0178 - val_root_mean_squared_error: 0.0194\n",
      "Epoch 82/100\n",
      "144/144 [==============================] - 0s 3ms/step - loss: 0.0165 - mean_absolute_error: 0.0165 - root_mean_squared_error: 0.0222 - val_loss: 0.0272 - val_mean_absolute_error: 0.0272 - val_root_mean_squared_error: 0.0315\n",
      "Epoch 83/100\n",
      "144/144 [==============================] - 0s 3ms/step - loss: 0.0160 - mean_absolute_error: 0.0160 - root_mean_squared_error: 0.0215 - val_loss: 0.0182 - val_mean_absolute_error: 0.0182 - val_root_mean_squared_error: 0.0193\n",
      "Epoch 84/100\n",
      "144/144 [==============================] - 0s 3ms/step - loss: 0.0156 - mean_absolute_error: 0.0156 - root_mean_squared_error: 0.0205 - val_loss: 0.0154 - val_mean_absolute_error: 0.0154 - val_root_mean_squared_error: 0.0172\n",
      "Epoch 85/100\n",
      "144/144 [==============================] - 0s 3ms/step - loss: 0.0170 - mean_absolute_error: 0.0170 - root_mean_squared_error: 0.0223 - val_loss: 0.0113 - val_mean_absolute_error: 0.0113 - val_root_mean_squared_error: 0.0122\n",
      "Epoch 86/100\n",
      "144/144 [==============================] - 0s 3ms/step - loss: 0.0173 - mean_absolute_error: 0.0173 - root_mean_squared_error: 0.0224 - val_loss: 0.0119 - val_mean_absolute_error: 0.0119 - val_root_mean_squared_error: 0.0131\n",
      "Epoch 87/100\n",
      "144/144 [==============================] - 0s 3ms/step - loss: 0.0163 - mean_absolute_error: 0.0163 - root_mean_squared_error: 0.0225 - val_loss: 0.0081 - val_mean_absolute_error: 0.0081 - val_root_mean_squared_error: 0.0097\n",
      "Epoch 88/100\n",
      "144/144 [==============================] - 0s 3ms/step - loss: 0.0178 - mean_absolute_error: 0.0178 - root_mean_squared_error: 0.0234 - val_loss: 0.0068 - val_mean_absolute_error: 0.0068 - val_root_mean_squared_error: 0.0085\n",
      "Epoch 89/100\n",
      "144/144 [==============================] - 0s 3ms/step - loss: 0.0156 - mean_absolute_error: 0.0156 - root_mean_squared_error: 0.0223 - val_loss: 0.0314 - val_mean_absolute_error: 0.0314 - val_root_mean_squared_error: 0.0337\n",
      "Epoch 90/100\n",
      "144/144 [==============================] - 0s 3ms/step - loss: 0.0156 - mean_absolute_error: 0.0156 - root_mean_squared_error: 0.0218 - val_loss: 0.0040 - val_mean_absolute_error: 0.0040 - val_root_mean_squared_error: 0.0056\n",
      "Epoch 91/100\n",
      "144/144 [==============================] - 0s 3ms/step - loss: 0.0155 - mean_absolute_error: 0.0155 - root_mean_squared_error: 0.0217 - val_loss: 0.0078 - val_mean_absolute_error: 0.0078 - val_root_mean_squared_error: 0.0100\n",
      "Epoch 92/100\n",
      "144/144 [==============================] - 0s 3ms/step - loss: 0.0156 - mean_absolute_error: 0.0156 - root_mean_squared_error: 0.0214 - val_loss: 0.0209 - val_mean_absolute_error: 0.0209 - val_root_mean_squared_error: 0.0224\n",
      "Epoch 93/100\n",
      "144/144 [==============================] - 0s 3ms/step - loss: 0.0158 - mean_absolute_error: 0.0158 - root_mean_squared_error: 0.0219 - val_loss: 0.0248 - val_mean_absolute_error: 0.0248 - val_root_mean_squared_error: 0.0281\n",
      "Epoch 94/100\n",
      "144/144 [==============================] - 0s 3ms/step - loss: 0.0176 - mean_absolute_error: 0.0176 - root_mean_squared_error: 0.0232 - val_loss: 0.0116 - val_mean_absolute_error: 0.0116 - val_root_mean_squared_error: 0.0136\n",
      "Epoch 95/100\n",
      "144/144 [==============================] - 0s 3ms/step - loss: 0.0171 - mean_absolute_error: 0.0171 - root_mean_squared_error: 0.0238 - val_loss: 0.0243 - val_mean_absolute_error: 0.0243 - val_root_mean_squared_error: 0.0256\n",
      "Epoch 96/100\n",
      "144/144 [==============================] - 0s 3ms/step - loss: 0.0171 - mean_absolute_error: 0.0171 - root_mean_squared_error: 0.0231 - val_loss: 0.0096 - val_mean_absolute_error: 0.0096 - val_root_mean_squared_error: 0.0110\n",
      "Epoch 97/100\n",
      "144/144 [==============================] - 0s 3ms/step - loss: 0.0168 - mean_absolute_error: 0.0168 - root_mean_squared_error: 0.0230 - val_loss: 0.0140 - val_mean_absolute_error: 0.0140 - val_root_mean_squared_error: 0.0155\n",
      "Epoch 98/100\n",
      "144/144 [==============================] - 0s 3ms/step - loss: 0.0157 - mean_absolute_error: 0.0157 - root_mean_squared_error: 0.0214 - val_loss: 0.0216 - val_mean_absolute_error: 0.0216 - val_root_mean_squared_error: 0.0227\n",
      "Epoch 99/100\n",
      "144/144 [==============================] - 0s 3ms/step - loss: 0.0158 - mean_absolute_error: 0.0158 - root_mean_squared_error: 0.0214 - val_loss: 0.0190 - val_mean_absolute_error: 0.0190 - val_root_mean_squared_error: 0.0199\n",
      "Epoch 100/100\n",
      "144/144 [==============================] - 0s 3ms/step - loss: 0.0163 - mean_absolute_error: 0.0163 - root_mean_squared_error: 0.0216 - val_loss: 0.0235 - val_mean_absolute_error: 0.0235 - val_root_mean_squared_error: 0.0248\n"
     ]
    }
   ],
   "source": [
    "import tensorflow_addons as tfa\n",
    "model.compile(loss='mean_absolute_error', optimizer='adam', metrics=[tf.keras.metrics.MeanAbsoluteError(),tf.keras.metrics.RootMeanSquaredError()])\n",
    "history = model.fit(X_train, y_train, epochs=100, batch_size=64, validation_data = (X_test,y_test))"
   ]
  },
  {
   "cell_type": "code",
   "execution_count": null,
   "metadata": {},
   "outputs": [],
   "source": [
    "end = time.time()\n",
    "print(\"Time taken:\", end- start)"
   ]
  },
  {
   "cell_type": "code",
   "execution_count": null,
   "metadata": {},
   "outputs": [],
   "source": [
    "print(psutil.Process().memory_info().peak_wset)"
   ]
  },
  {
   "cell_type": "code",
   "execution_count": 24,
   "metadata": {},
   "outputs": [
    {
     "data": {
      "text/plain": [
       "<tf.Tensor: shape=(1, 1), dtype=float32, numpy=array([[0.62308294]], dtype=float32)>"
      ]
     },
     "execution_count": 24,
     "metadata": {},
     "output_type": "execute_result"
    }
   ],
   "source": [
    "model(np.expand_dims(X_train[0],0))"
   ]
  },
  {
   "cell_type": "code",
   "execution_count": 29,
   "metadata": {},
   "outputs": [
    {
     "data": {
      "image/png": "[encoded data removed]",
      "text/plain": [
       "<Figure size 432x288 with 1 Axes>"
      ]
     },
     "metadata": {},
     "output_type": "display_data"
    }
   ],
   "source": [
    "plt.plot(history.history['loss'])\n",
    "plt.plot(history.history['val_loss'])\n",
    "plt.title('Model Loss')\n",
    "plt.ylabel('Loss')\n",
    "plt.xlabel('Epochs')\n",
    "plt.legend(['train', 'validation'])\n",
    "plt.show()"
   ]
  },
  {
   "cell_type": "code",
   "execution_count": 30,
   "metadata": {},
   "outputs": [
    {
     "data": {
      "image/png": "[encoded data removed]",
      "text/plain": [
       "<Figure size 432x288 with 1 Axes>"
      ]
     },
     "metadata": {},
     "output_type": "display_data"
    }
   ],
   "source": [
    "plt.plot(history.history['root_mean_squared_error'])\n",
    "plt.plot(history.history['val_root_mean_squared_error'])\n",
    "plt.title('Model Accuracy')\n",
    "plt.ylabel('Accuracy')\n",
    "plt.xlabel('Epochs')\n",
    "plt.legend(['train', 'test'])\n",
    "plt.show()"
   ]
  },
  {
   "cell_type": "code",
   "execution_count": 32,
   "metadata": {},
   "outputs": [
    {
     "name": "stdout",
     "output_type": "stream",
     "text": [
      "72/72 [==============================] - 0s 2ms/step - loss: 0.0235 - mean_absolute_error: 0.0235 - root_mean_squared_error: 0.0248\n"
     ]
    },
    {
     "data": {
      "text/plain": [
       "[0.023526601493358612, 0.023526601493358612, 0.02479725331068039]"
      ]
     },
     "execution_count": 32,
     "metadata": {},
     "output_type": "execute_result"
    }
   ],
   "source": [
    "model.evaluate(X_test,y_test)"
   ]
  },
  {
   "cell_type": "code",
   "execution_count": 31,
   "metadata": {},
   "outputs": [
    {
     "data": {
      "text/plain": [
       "array([0.81452727])"
      ]
     },
     "execution_count": 31,
     "metadata": {},
     "output_type": "execute_result"
    }
   ],
   "source": [
    "y_train[0]"
   ]
  },
  {
   "cell_type": "code",
   "execution_count": null,
   "metadata": {},
   "outputs": [],
   "source": []
  }
 ],
 "metadata": {
  "kernelspec": {
   "display_name": "Python 3",
   "language": "python",
   "name": "python3"
  },
  "language_info": {
   "codemirror_mode": {
    "name": "ipython",
    "version": 3
   },
   "file_extension": ".py",
   "mimetype": "text/x-python",
   "name": "python",
   "nbconvert_exporter": "python",
   "pygments_lexer": "ipython3",
   "version": "3.7.8"
  }
 },
 "nbformat": 4,
 "nbformat_minor": 4
}
