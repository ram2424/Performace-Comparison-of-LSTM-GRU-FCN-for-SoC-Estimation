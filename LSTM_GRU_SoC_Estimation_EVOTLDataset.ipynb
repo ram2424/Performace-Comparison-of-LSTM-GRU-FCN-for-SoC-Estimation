{
 "cells": [
  {
   "cell_type": "code",
   "execution_count": 1,
   "metadata": {},
   "outputs": [],
   "source": [
    "# Numpy and Pandas \n",
    "import numpy as np\n",
    "import pandas as pd\n",
    "\n",
    "# Vizualization\n",
    "from matplotlib import pyplot as plt\n",
    "%matplotlib inline\n",
    "import seaborn as sns\n",
    "sns.set_style('darkgrid')\n",
    "\n",
    "# Machine learning algorithms\n",
    "from sklearn.neural_network import MLPRegressor\n",
    "from sklearn.ensemble import RandomForestRegressor\n",
    "# Machine learning pipeline \n",
    "from sklearn.model_selection import train_test_split\n",
    "from sklearn.pipeline import make_pipeline\n",
    "from sklearn.preprocessing import StandardScaler\n",
    "from sklearn.model_selection import GridSearchCV\n",
    "\n",
    "# Regression Metrics\n",
    "from sklearn.metrics import mean_absolute_error\n",
    "from sklearn.metrics import r2_score\n",
    "from sklearn.metrics import mean_squared_error\n",
    "\n",
    "# Ignore ConvergenceWarning messages\n",
    "import warnings\n",
    "from sklearn.exceptions import ConvergenceWarning\n",
    "warnings.simplefilter(action='ignore', category=ConvergenceWarning)\n",
    "\n",
    "# Check the fitted_model\n",
    "from sklearn.exceptions import NotFittedError\n",
    "\n",
    "# Save python object to disk\n",
    "import pickle\n",
    "\n",
    "from keras import backend as K\n",
    "\n",
    "\n",
    "\n",
    "import tensorflow as tf\n",
    "from tensorflow.keras import datasets, layers, models \n",
    "import numpy as np\n",
    "import matplotlib.pyplot as plt\n",
    "import random as rn\n",
    "from sklearn.metrics import confusion_matrix , classification_report\n",
    "import tensorflow.python.keras\n",
    "from tensorflow.python.keras.models import Sequential \n",
    "from tensorflow.python.keras.models import model_from_json\n",
    "from tensorflow.python.keras.layers import Dense, Activation, Dropout, Flatten\n",
    "from tensorflow.python.keras.layers import Conv2D, MaxPooling2D\n",
    "from tensorflow.python.keras import backend as K\n",
    "from tensorflow.keras.optimizers import Adam,SGD,Adagrad,Adadelta,RMSprop"
   ]
  },
  {
   "cell_type": "code",
   "execution_count": 2,
   "metadata": {},
   "outputs": [],
   "source": [
    "df = pd.read_csv(r\"D:\\Ram\\MTech\\Final_Year_Paper_Work\\14226830\\VAH22.csv\")"
   ]
  },
  {
   "cell_type": "code",
   "execution_count": 3,
   "metadata": {},
   "outputs": [
    {
     "data": {
      "text/html": [
       "<div>\n",
       "<style scoped>\n",
       "    .dataframe tbody tr th:only-of-type {\n",
       "        vertical-align: middle;\n",
       "    }\n",
       "\n",
       "    .dataframe tbody tr th {\n",
       "        vertical-align: top;\n",
       "    }\n",
       "\n",
       "    .dataframe thead th {\n",
       "        text-align: right;\n",
       "    }\n",
       "</style>\n",
       "<table border=\"1\" class=\"dataframe\">\n",
       "  <thead>\n",
       "    <tr style=\"text-align: right;\">\n",
       "      <th></th>\n",
       "      <th>time_s</th>\n",
       "      <th>Ecell_V</th>\n",
       "      <th>I_mA</th>\n",
       "      <th>EnergyCharge_W_h</th>\n",
       "      <th>QCharge_mA_h</th>\n",
       "      <th>EnergyDischarge_W_h</th>\n",
       "      <th>QDischarge_mA_h</th>\n",
       "      <th>Temperature__C</th>\n",
       "      <th>cycleNumber</th>\n",
       "      <th>Ns</th>\n",
       "      <th>TimeDelta</th>\n",
       "      <th>soc</th>\n",
       "    </tr>\n",
       "  </thead>\n",
       "  <tbody>\n",
       "    <tr>\n",
       "      <th>0</th>\n",
       "      <td>0.000000e+00</td>\n",
       "      <td>3.539573</td>\n",
       "      <td>1491.4921</td>\n",
       "      <td>0.000000</td>\n",
       "      <td>0.000000</td>\n",
       "      <td>0.000000</td>\n",
       "      <td>0.00000</td>\n",
       "      <td>24.575109</td>\n",
       "      <td>0</td>\n",
       "      <td>0</td>\n",
       "      <td>0.000000</td>\n",
       "      <td>0.000000</td>\n",
       "    </tr>\n",
       "    <tr>\n",
       "      <th>1</th>\n",
       "      <td>3.000000e+01</td>\n",
       "      <td>3.547016</td>\n",
       "      <td>1489.7195</td>\n",
       "      <td>0.044033</td>\n",
       "      <td>12.414182</td>\n",
       "      <td>0.000000</td>\n",
       "      <td>0.00000</td>\n",
       "      <td>24.677822</td>\n",
       "      <td>0</td>\n",
       "      <td>0</td>\n",
       "      <td>30.000001</td>\n",
       "      <td>0.006207</td>\n",
       "    </tr>\n",
       "    <tr>\n",
       "      <th>2</th>\n",
       "      <td>6.000000e+01</td>\n",
       "      <td>3.551938</td>\n",
       "      <td>1489.9165</td>\n",
       "      <td>0.088127</td>\n",
       "      <td>24.828216</td>\n",
       "      <td>0.000000</td>\n",
       "      <td>0.00000</td>\n",
       "      <td>25.136082</td>\n",
       "      <td>0</td>\n",
       "      <td>0</td>\n",
       "      <td>30.000001</td>\n",
       "      <td>0.012415</td>\n",
       "    </tr>\n",
       "    <tr>\n",
       "      <th>3</th>\n",
       "      <td>9.000000e+01</td>\n",
       "      <td>3.556428</td>\n",
       "      <td>1488.1439</td>\n",
       "      <td>0.132276</td>\n",
       "      <td>37.242144</td>\n",
       "      <td>0.000000</td>\n",
       "      <td>0.00000</td>\n",
       "      <td>25.246696</td>\n",
       "      <td>0</td>\n",
       "      <td>0</td>\n",
       "      <td>30.000001</td>\n",
       "      <td>0.018616</td>\n",
       "    </tr>\n",
       "    <tr>\n",
       "      <th>4</th>\n",
       "      <td>1.200000e+02</td>\n",
       "      <td>3.560917</td>\n",
       "      <td>1489.3257</td>\n",
       "      <td>0.176481</td>\n",
       "      <td>49.656028</td>\n",
       "      <td>0.000000</td>\n",
       "      <td>0.00000</td>\n",
       "      <td>25.057074</td>\n",
       "      <td>0</td>\n",
       "      <td>0</td>\n",
       "      <td>30.000001</td>\n",
       "      <td>0.024821</td>\n",
       "    </tr>\n",
       "    <tr>\n",
       "      <th>...</th>\n",
       "      <td>...</td>\n",
       "      <td>...</td>\n",
       "      <td>...</td>\n",
       "      <td>...</td>\n",
       "      <td>...</td>\n",
       "      <td>...</td>\n",
       "      <td>...</td>\n",
       "      <td>...</td>\n",
       "      <td>...</td>\n",
       "      <td>...</td>\n",
       "      <td>...</td>\n",
       "      <td>...</td>\n",
       "    </tr>\n",
       "    <tr>\n",
       "      <th>385424</th>\n",
       "      <td>4.399571e+06</td>\n",
       "      <td>3.549772</td>\n",
       "      <td>0.0000</td>\n",
       "      <td>8.439746</td>\n",
       "      <td>0.000000</td>\n",
       "      <td>-6.548237</td>\n",
       "      <td>1900.65198</td>\n",
       "      <td>20.798407</td>\n",
       "      <td>41</td>\n",
       "      <td>8</td>\n",
       "      <td>30.000003</td>\n",
       "      <td>0.007260</td>\n",
       "    </tr>\n",
       "    <tr>\n",
       "      <th>385425</th>\n",
       "      <td>4.399601e+06</td>\n",
       "      <td>3.549733</td>\n",
       "      <td>0.0000</td>\n",
       "      <td>8.439746</td>\n",
       "      <td>0.000000</td>\n",
       "      <td>-6.548237</td>\n",
       "      <td>1900.65198</td>\n",
       "      <td>20.932724</td>\n",
       "      <td>41</td>\n",
       "      <td>8</td>\n",
       "      <td>30.000003</td>\n",
       "      <td>0.007260</td>\n",
       "    </tr>\n",
       "    <tr>\n",
       "      <th>385426</th>\n",
       "      <td>4.399631e+06</td>\n",
       "      <td>3.549812</td>\n",
       "      <td>0.0000</td>\n",
       "      <td>8.439746</td>\n",
       "      <td>0.000000</td>\n",
       "      <td>-6.548237</td>\n",
       "      <td>1900.65198</td>\n",
       "      <td>21.019634</td>\n",
       "      <td>41</td>\n",
       "      <td>8</td>\n",
       "      <td>30.000003</td>\n",
       "      <td>0.007260</td>\n",
       "    </tr>\n",
       "    <tr>\n",
       "      <th>385427</th>\n",
       "      <td>4.399661e+06</td>\n",
       "      <td>3.549772</td>\n",
       "      <td>0.0000</td>\n",
       "      <td>8.439746</td>\n",
       "      <td>0.000000</td>\n",
       "      <td>-6.548237</td>\n",
       "      <td>1900.65198</td>\n",
       "      <td>20.727297</td>\n",
       "      <td>41</td>\n",
       "      <td>8</td>\n",
       "      <td>30.000003</td>\n",
       "      <td>0.007260</td>\n",
       "    </tr>\n",
       "    <tr>\n",
       "      <th>385428</th>\n",
       "      <td>4.399664e+06</td>\n",
       "      <td>3.549772</td>\n",
       "      <td>0.0000</td>\n",
       "      <td>8.439746</td>\n",
       "      <td>0.000000</td>\n",
       "      <td>-6.548237</td>\n",
       "      <td>1900.65198</td>\n",
       "      <td>20.916922</td>\n",
       "      <td>41</td>\n",
       "      <td>8</td>\n",
       "      <td>3.392000</td>\n",
       "      <td>0.007260</td>\n",
       "    </tr>\n",
       "  </tbody>\n",
       "</table>\n",
       "<p>385429 rows × 12 columns</p>\n",
       "</div>"
      ],
      "text/plain": [
       "              time_s   Ecell_V       I_mA  EnergyCharge_W_h  QCharge_mA_h  \\\n",
       "0       0.000000e+00  3.539573  1491.4921          0.000000      0.000000   \n",
       "1       3.000000e+01  3.547016  1489.7195          0.044033     12.414182   \n",
       "2       6.000000e+01  3.551938  1489.9165          0.088127     24.828216   \n",
       "3       9.000000e+01  3.556428  1488.1439          0.132276     37.242144   \n",
       "4       1.200000e+02  3.560917  1489.3257          0.176481     49.656028   \n",
       "...              ...       ...        ...               ...           ...   \n",
       "385424  4.399571e+06  3.549772     0.0000          8.439746      0.000000   \n",
       "385425  4.399601e+06  3.549733     0.0000          8.439746      0.000000   \n",
       "385426  4.399631e+06  3.549812     0.0000          8.439746      0.000000   \n",
       "385427  4.399661e+06  3.549772     0.0000          8.439746      0.000000   \n",
       "385428  4.399664e+06  3.549772     0.0000          8.439746      0.000000   \n",
       "\n",
       "        EnergyDischarge_W_h  QDischarge_mA_h  Temperature__C  cycleNumber  Ns  \\\n",
       "0                  0.000000          0.00000       24.575109            0   0   \n",
       "1                  0.000000          0.00000       24.677822            0   0   \n",
       "2                  0.000000          0.00000       25.136082            0   0   \n",
       "3                  0.000000          0.00000       25.246696            0   0   \n",
       "4                  0.000000          0.00000       25.057074            0   0   \n",
       "...                     ...              ...             ...          ...  ..   \n",
       "385424            -6.548237       1900.65198       20.798407           41   8   \n",
       "385425            -6.548237       1900.65198       20.932724           41   8   \n",
       "385426            -6.548237       1900.65198       21.019634           41   8   \n",
       "385427            -6.548237       1900.65198       20.727297           41   8   \n",
       "385428            -6.548237       1900.65198       20.916922           41   8   \n",
       "\n",
       "        TimeDelta       soc  \n",
       "0        0.000000  0.000000  \n",
       "1       30.000001  0.006207  \n",
       "2       30.000001  0.012415  \n",
       "3       30.000001  0.018616  \n",
       "4       30.000001  0.024821  \n",
       "...           ...       ...  \n",
       "385424  30.000003  0.007260  \n",
       "385425  30.000003  0.007260  \n",
       "385426  30.000003  0.007260  \n",
       "385427  30.000003  0.007260  \n",
       "385428   3.392000  0.007260  \n",
       "\n",
       "[385429 rows x 12 columns]"
      ]
     },
     "execution_count": 3,
     "metadata": {},
     "output_type": "execute_result"
    }
   ],
   "source": [
    "df"
   ]
  },
  {
   "cell_type": "code",
   "execution_count": 4,
   "metadata": {},
   "outputs": [],
   "source": [
    "df=df.dropna()"
   ]
  },
  {
   "cell_type": "code",
   "execution_count": 5,
   "metadata": {},
   "outputs": [
    {
     "data": {
      "image/png": "[encoded data removed]",
      "text/plain": [
       "<Figure size 432x288 with 1 Axes>"
      ]
     },
     "metadata": {},
     "output_type": "display_data"
    }
   ],
   "source": [
    "df.hist(column='soc')\n",
    "plt.show()"
   ]
  },
  {
   "cell_type": "code",
   "execution_count": 6,
   "metadata": {},
   "outputs": [
    {
     "data": {
      "image/png": "[encoded data removed]",
      "text/plain": [
       "<Figure size 432x288 with 1 Axes>"
      ]
     },
     "metadata": {},
     "output_type": "display_data"
    }
   ],
   "source": [
    "df.soc.hist()\n",
    "plt.show()"
   ]
  },
  {
   "cell_type": "code",
   "execution_count": 7,
   "metadata": {},
   "outputs": [
    {
     "data": {
      "image/png": "[encoded data removed]",
      "text/plain": [
       "<Figure size 432x288 with 2 Axes>"
      ]
     },
     "metadata": {},
     "output_type": "display_data"
    }
   ],
   "source": [
    "df1=df[\"Ecell_V\"]\n",
    "df2=df[\"I_mA\"]\n",
    "df3=df[\"soc\"]\n",
    "df4=df[\"Temperature__C\"]\n",
    "\n",
    "colors1 = ['indianred', 'mediumblue','green','black']\n",
    "names = ['Voltage','SoC', 'Current', 'Temperature']\n",
    "\n",
    "colors = ['indianred', 'mediumblue','green']\n",
    "plt.hist([df1, df2, df3, df4], bins = int(180/15), stacked=True,\n",
    "         color = colors1, label=names, orientation='horizontal')\n",
    "plt.legend()\n",
    "plt.xlabel('Data Points')\n",
    "plt.ylabel('Voltage (V), Current (A), SoC(%), Temperature')\n",
    "plt.title('Voltage, Current, SoC')\n",
    "sample=np.random.normal(size=10000)\n",
    "vert_hist=np.histogram(sample,bins=30)\n",
    "ax1=plt.subplot(2,1,1)\n",
    "ax1.barh(vert_hist[1][:-1],vert_hist[0])\n",
    "ax2=plt.subplot(2,1,2)\n",
    "ax2.hist([df1, df2, df3], bins = int(180/15), stacked=True,\n",
    "         color = colors, label=names,orientation='horizontal')\n",
    "plt.show()"
   ]
  },
  {
   "cell_type": "code",
   "execution_count": 8,
   "metadata": {},
   "outputs": [
    {
     "data": {
      "image/png": "[encoded data removed]",
      "text/plain": [
       "<Figure size 432x288 with 1 Axes>"
      ]
     },
     "metadata": {},
     "output_type": "display_data"
    },
    {
     "name": "stderr",
     "output_type": "stream",
     "text": [
      "No handles with labels found to put in legend.\n"
     ]
    },
    {
     "data": {
      "text/plain": [
       "Text(0.5, 1.0, 'Voltage, Current, SoC')"
      ]
     },
     "execution_count": 8,
     "metadata": {},
     "output_type": "execute_result"
    },
    {
     "data": {
      "image/png": "[encoded data removed]",
      "text/plain": [
       "<Figure size 432x288 with 1 Axes>"
      ]
     },
     "metadata": {},
     "output_type": "display_data"
    }
   ],
   "source": [
    "import matplotlib.pyplot as plt\n",
    "import numpy as np\n",
    "\n",
    "fig, ax = plt.subplots()\n",
    "fig=plt.hist([df1, df2,df3], stacked=True,\n",
    "         color = colors,label=names,orientation='horizontal')\n",
    "plt.legend()\n",
    "plt.xlabel('Data Points')\n",
    "plt.ylabel('Voltage (V), Current (A), SoC(%)')\n",
    "plt.title('Voltage, Current, SoC',loc='center')\n",
    "\n",
    "\n",
    "# ax.hist([df1, df2,df3], bins, orientation='horizontal')\n",
    "plt.show()\n",
    "plt.savefig('Data.jpeg', dpi=600)\n",
    "\n",
    "plt.hist(df1)\n",
    "plt.hist(df3)\n",
    "plt.hist(df2)\n",
    "plt.legend()\n",
    "plt.xlabel('Data Points')\n",
    "plt.ylabel('Voltage (V), Current (A), SoC(%)')\n",
    "plt.title('Voltage, Current, SoC',loc='center')"
   ]
  },
  {
   "cell_type": "code",
   "execution_count": 9,
   "metadata": {},
   "outputs": [
    {
     "name": "stdout",
     "output_type": "stream",
     "text": [
      "         Ecell_V       I_mA  Temperature__C  TimeDelta       soc\n",
      "0       3.539573  1491.4921       24.575109   0.000000  0.000000\n",
      "1       3.547016  1489.7195       24.677822  30.000001  0.006207\n",
      "2       3.551938  1489.9165       25.136082  30.000001  0.012415\n",
      "3       3.556428  1488.1439       25.246696  30.000001  0.018616\n",
      "4       3.560917  1489.3257       25.057074  30.000001  0.024821\n",
      "...          ...        ...             ...        ...       ...\n",
      "385424  3.549772     0.0000       20.798407  30.000003  0.007260\n",
      "385425  3.549733     0.0000       20.932724  30.000003  0.007260\n",
      "385426  3.549812     0.0000       21.019634  30.000003  0.007260\n",
      "385427  3.549772     0.0000       20.727297  30.000003  0.007260\n",
      "385428  3.549772     0.0000       20.916922   3.392000  0.007260\n",
      "\n",
      "[385429 rows x 5 columns]\n"
     ]
    }
   ],
   "source": [
    "y = df['soc']\n",
    "X = df.drop(['Ns','cycleNumber','time_s','EnergyCharge_W_h', 'QCharge_mA_h', 'EnergyDischarge_W_h' ,'QDischarge_mA_h'], axis='columns')\n",
    "print(X)"
   ]
  },
  {
   "cell_type": "code",
   "execution_count": 10,
   "metadata": {},
   "outputs": [
    {
     "name": "stdout",
     "output_type": "stream",
     "text": [
      "0         0.000000\n",
      "1         0.006207\n",
      "2         0.012415\n",
      "3         0.018616\n",
      "4         0.024821\n",
      "            ...   \n",
      "385424    0.007260\n",
      "385425    0.007260\n",
      "385426    0.007260\n",
      "385427    0.007260\n",
      "385428    0.007260\n",
      "Name: soc, Length: 385429, dtype: float64\n"
     ]
    }
   ],
   "source": [
    "print(y)"
   ]
  },
  {
   "cell_type": "code",
   "execution_count": 11,
   "metadata": {},
   "outputs": [
    {
     "name": "stdout",
     "output_type": "stream",
     "text": [
      "[[[ 3.74001810e+00 -4.28827880e+03  3.02717690e+01  1.00000012e+01\n",
      "    5.16475458e-01]]\n",
      "\n",
      " [[ 3.87710070e+00 -6.08738710e+02  2.38324090e+01  9.99999230e-01\n",
      "    5.71655731e-01]]\n",
      "\n",
      " [[ 3.14612530e+00 -6.11299010e+02  2.29158880e+01  1.00000005e+00\n",
      "    8.27353000e-05]]\n",
      "\n",
      " ...\n",
      "\n",
      " [[ 3.87095740e+00 -4.14372070e+03  3.28554120e+01  9.99999225e+00\n",
      "    7.20208206e-01]]\n",
      "\n",
      " [[ 3.54922100e+00  0.00000000e+00  2.03954520e+01  3.00000031e+01\n",
      "    7.26047100e-03]]\n",
      "\n",
      " [[ 4.19958500e+00  1.76681470e+02  2.43064730e+01  3.00000036e+01\n",
      "    1.00000000e+00]]]\n"
     ]
    }
   ],
   "source": [
    "X_train, X_test, y_train, y_test = train_test_split(X, y, test_size = 0.2, random_state=1234)\n",
    "\n",
    "X_train = np.expand_dims(np.array(X_train),1)\n",
    "y_train = np.expand_dims(np.array(y_train),1)\n",
    "X_test = np.expand_dims(np.array(X_test),1)\n",
    "y_test = np.expand_dims(np.array(y_test),1)\n",
    "\n",
    "#pipelines = {\n",
    "#    'mlp'   : make_pipeline(StandardScaler(), MLPRegressor(random_state=1234))\n",
    "#}\n",
    "print(X_train)"
   ]
  },
  {
   "cell_type": "code",
   "execution_count": 12,
   "metadata": {},
   "outputs": [
    {
     "name": "stdout",
     "output_type": "stream",
     "text": [
      "float64\n",
      "float64\n",
      "float64\n",
      "float64\n"
     ]
    }
   ],
   "source": [
    "print(X_train.dtype)\n",
    "print(y_train.dtype)\n",
    "print(X_test.dtype)\n",
    "print(y_test.dtype)"
   ]
  },
  {
   "cell_type": "code",
   "execution_count": 13,
   "metadata": {},
   "outputs": [],
   "source": [
    "from sklearn.preprocessing import MinMaxScaler\n",
    "dataset = df.soc.values #numpy.ndarray\n",
    "dataset = dataset.astype('float64')\n",
    "dataset = np.reshape(dataset, (-1, 1))\n",
    "scaler = MinMaxScaler(feature_range=(0, 1))\n",
    "dataset = scaler.fit_transform(dataset)\n",
    "train_size = int(len(dataset) * 0.80)\n",
    "test_size = len(dataset) - train_size\n",
    "train, test = dataset[0:train_size,:], dataset[train_size:len(dataset),:]"
   ]
  },
  {
   "cell_type": "code",
   "execution_count": 14,
   "metadata": {},
   "outputs": [
    {
     "data": {
      "text/plain": [
       "(308343, 1, 5)"
      ]
     },
     "execution_count": 14,
     "metadata": {},
     "output_type": "execute_result"
    }
   ],
   "source": [
    "X_train.shape"
   ]
  },
  {
   "cell_type": "code",
   "execution_count": 15,
   "metadata": {},
   "outputs": [
    {
     "data": {
      "text/plain": [
       "(308343, 1)"
      ]
     },
     "execution_count": 15,
     "metadata": {},
     "output_type": "execute_result"
    }
   ],
   "source": [
    "y_train.shape"
   ]
  },
  {
   "cell_type": "code",
   "execution_count": 16,
   "metadata": {},
   "outputs": [],
   "source": [
    "import math\n",
    "import keras\n",
    "from keras.models import Sequential\n",
    "from keras.layers import Dense\n",
    "from keras.layers import LSTM\n",
    "from keras.layers import Dropout\n",
    "from keras.layers import *\n",
    "from sklearn.preprocessing import MinMaxScaler\n",
    "from sklearn.metrics import mean_squared_error\n",
    "from sklearn.metrics import mean_absolute_error\n",
    "from keras.callbacks import EarlyStopping\n",
    "from keras.callbacks import ModelCheckpoint\n",
    "from keras.models import load_model"
   ]
  },
  {
   "cell_type": "code",
   "execution_count": 16,
   "metadata": {},
   "outputs": [],
   "source": [
    "import time\n",
    "import psutil\n",
    "\n",
    "start = time.time()"
   ]
  },
  {
   "cell_type": "code",
   "execution_count": 19,
   "metadata": {},
   "outputs": [
    {
     "name": "stdout",
     "output_type": "stream",
     "text": [
      "Epoch 1/30\n",
      "4818/4818 [==============================] - 27s 5ms/step - loss: 0.1449 - mean_absolute_error: 0.3056 - root_mean_squared_error: 0.3776 - val_loss: 0.0690 - val_mean_absolute_error: 0.2095 - val_root_mean_squared_error: 0.2627\n",
      "Epoch 2/30\n",
      "4818/4818 [==============================] - 23s 5ms/step - loss: 0.0709 - mean_absolute_error: 0.2206 - root_mean_squared_error: 0.2662 - val_loss: 0.0393 - val_mean_absolute_error: 0.1609 - val_root_mean_squared_error: 0.1983\n",
      "Epoch 3/30\n",
      "4818/4818 [==============================] - 22s 5ms/step - loss: 0.0453 - mean_absolute_error: 0.1686 - root_mean_squared_error: 0.2128 - val_loss: 0.0247 - val_mean_absolute_error: 0.1209 - val_root_mean_squared_error: 0.1571\n",
      "Epoch 4/30\n",
      "4818/4818 [==============================] - 23s 5ms/step - loss: 0.0394 - mean_absolute_error: 0.1466 - root_mean_squared_error: 0.1985 - val_loss: 0.0223 - val_mean_absolute_error: 0.1155 - val_root_mean_squared_error: 0.1495\n",
      "Epoch 5/30\n",
      "4818/4818 [==============================] - 23s 5ms/step - loss: 0.0378 - mean_absolute_error: 0.1418 - root_mean_squared_error: 0.1944 - val_loss: 0.0210 - val_mean_absolute_error: 0.1112 - val_root_mean_squared_error: 0.1450\n",
      "Epoch 6/30\n",
      "4818/4818 [==============================] - 23s 5ms/step - loss: 0.0320 - mean_absolute_error: 0.1266 - root_mean_squared_error: 0.1787 - val_loss: 0.0131 - val_mean_absolute_error: 0.0761 - val_root_mean_squared_error: 0.1145\n",
      "Epoch 7/30\n",
      "4818/4818 [==============================] - 21s 4ms/step - loss: 0.0258 - mean_absolute_error: 0.1080 - root_mean_squared_error: 0.1606 - val_loss: 0.0127 - val_mean_absolute_error: 0.0710 - val_root_mean_squared_error: 0.1125\n",
      "Epoch 8/30\n",
      "4818/4818 [==============================] - 23s 5ms/step - loss: 0.0245 - mean_absolute_error: 0.1029 - root_mean_squared_error: 0.1566 - val_loss: 0.0109 - val_mean_absolute_error: 0.0681 - val_root_mean_squared_error: 0.1042\n",
      "Epoch 9/30\n",
      "4818/4818 [==============================] - 24s 5ms/step - loss: 0.0217 - mean_absolute_error: 0.1002 - root_mean_squared_error: 0.1471 - val_loss: 0.0089 - val_mean_absolute_error: 0.0654 - val_root_mean_squared_error: 0.0944\n",
      "Epoch 10/30\n",
      "4818/4818 [==============================] - 23s 5ms/step - loss: 0.0187 - mean_absolute_error: 0.0974 - root_mean_squared_error: 0.1369 - val_loss: 0.0081 - val_mean_absolute_error: 0.0632 - val_root_mean_squared_error: 0.0899\n",
      "Epoch 11/30\n",
      "4818/4818 [==============================] - 22s 4ms/step - loss: 0.0169 - mean_absolute_error: 0.0949 - root_mean_squared_error: 0.1300 - val_loss: 0.0073 - val_mean_absolute_error: 0.0546 - val_root_mean_squared_error: 0.0856\n",
      "Epoch 12/30\n",
      "4818/4818 [==============================] - 23s 5ms/step - loss: 0.0159 - mean_absolute_error: 0.0917 - root_mean_squared_error: 0.1259 - val_loss: 0.0059 - val_mean_absolute_error: 0.0478 - val_root_mean_squared_error: 0.0767\n",
      "Epoch 13/30\n",
      "4818/4818 [==============================] - 21s 4ms/step - loss: 0.0154 - mean_absolute_error: 0.0903 - root_mean_squared_error: 0.1241 - val_loss: 0.0056 - val_mean_absolute_error: 0.0427 - val_root_mean_squared_error: 0.0749\n",
      "Epoch 14/30\n",
      "4818/4818 [==============================] - 20s 4ms/step - loss: 0.0152 - mean_absolute_error: 0.0895 - root_mean_squared_error: 0.1232 - val_loss: 0.0048 - val_mean_absolute_error: 0.0406 - val_root_mean_squared_error: 0.0695\n",
      "Epoch 15/30\n",
      "4818/4818 [==============================] - 20s 4ms/step - loss: 0.0149 - mean_absolute_error: 0.0886 - root_mean_squared_error: 0.1219 - val_loss: 0.0062 - val_mean_absolute_error: 0.0516 - val_root_mean_squared_error: 0.0789\n",
      "Epoch 16/30\n",
      "4818/4818 [==============================] - 20s 4ms/step - loss: 0.0148 - mean_absolute_error: 0.0879 - root_mean_squared_error: 0.1216 - val_loss: 0.0051 - val_mean_absolute_error: 0.0439 - val_root_mean_squared_error: 0.0716\n",
      "Epoch 17/30\n",
      "4818/4818 [==============================] - 20s 4ms/step - loss: 0.0144 - mean_absolute_error: 0.0868 - root_mean_squared_error: 0.1201 - val_loss: 0.0049 - val_mean_absolute_error: 0.0420 - val_root_mean_squared_error: 0.0697\n",
      "Epoch 18/30\n",
      "4818/4818 [==============================] - 22s 5ms/step - loss: 0.0141 - mean_absolute_error: 0.0859 - root_mean_squared_error: 0.1189 - val_loss: 0.0049 - val_mean_absolute_error: 0.0463 - val_root_mean_squared_error: 0.0702\n",
      "Epoch 19/30\n",
      "4818/4818 [==============================] - 23s 5ms/step - loss: 0.0140 - mean_absolute_error: 0.0853 - root_mean_squared_error: 0.1185 - val_loss: 0.0058 - val_mean_absolute_error: 0.0524 - val_root_mean_squared_error: 0.0760\n",
      "Epoch 20/30\n",
      "4818/4818 [==============================] - 23s 5ms/step - loss: 0.0137 - mean_absolute_error: 0.0847 - root_mean_squared_error: 0.1172 - val_loss: 0.0045 - val_mean_absolute_error: 0.0397 - val_root_mean_squared_error: 0.0667: 0.0138 - mean_ab\n",
      "Epoch 21/30\n",
      "4818/4818 [==============================] - 24s 5ms/step - loss: 0.0133 - mean_absolute_error: 0.0841 - root_mean_squared_error: 0.1155 - val_loss: 0.0052 - val_mean_absolute_error: 0.0454 - val_root_mean_squared_error: 0.0718\n",
      "Epoch 22/30\n",
      "4818/4818 [==============================] - 23s 5ms/step - loss: 0.0124 - mean_absolute_error: 0.0812 - root_mean_squared_error: 0.1113 - val_loss: 0.0039 - val_mean_absolute_error: 0.0398 - val_root_mean_squared_error: 0.0623\n",
      "Epoch 23/30\n",
      "4818/4818 [==============================] - 23s 5ms/step - loss: 0.0117 - mean_absolute_error: 0.0792 - root_mean_squared_error: 0.1082 - val_loss: 0.0047 - val_mean_absolute_error: 0.0476 - val_root_mean_squared_error: 0.0687\n",
      "Epoch 24/30\n",
      "4818/4818 [==============================] - 23s 5ms/step - loss: 0.0112 - mean_absolute_error: 0.0779 - root_mean_squared_error: 0.1056 - val_loss: 0.0030 - val_mean_absolute_error: 0.0365 - val_root_mean_squared_error: 0.0545\n",
      "Epoch 25/30\n",
      "4818/4818 [==============================] - 23s 5ms/step - loss: 0.0107 - mean_absolute_error: 0.0767 - root_mean_squared_error: 0.1036 - val_loss: 0.0033 - val_mean_absolute_error: 0.0369 - val_root_mean_squared_error: 0.0577\n",
      "Epoch 26/30\n",
      "4818/4818 [==============================] - 23s 5ms/step - loss: 0.0104 - mean_absolute_error: 0.0755 - root_mean_squared_error: 0.1019 - val_loss: 0.0025 - val_mean_absolute_error: 0.0308 - val_root_mean_squared_error: 0.0503\n",
      "Epoch 27/30\n",
      "4818/4818 [==============================] - 23s 5ms/step - loss: 0.0100 - mean_absolute_error: 0.0743 - root_mean_squared_error: 0.1000 - val_loss: 0.0031 - val_mean_absolute_error: 0.0364 - val_root_mean_squared_error: 0.0558\n",
      "Epoch 28/30\n",
      "4818/4818 [==============================] - 24s 5ms/step - loss: 0.0101 - mean_absolute_error: 0.0753 - root_mean_squared_error: 0.1006 - val_loss: 0.0018 - val_mean_absolute_error: 0.0283 - val_root_mean_squared_error: 0.0430\n",
      "Epoch 29/30\n",
      "4818/4818 [==============================] - 23s 5ms/step - loss: 0.0094 - mean_absolute_error: 0.0724 - root_mean_squared_error: 0.0969 - val_loss: 0.0029 - val_mean_absolute_error: 0.0393 - val_root_mean_squared_error: 0.0537\n",
      "Epoch 30/30\n",
      "4818/4818 [==============================] - 23s 5ms/step - loss: 0.0092 - mean_absolute_error: 0.0716 - root_mean_squared_error: 0.0957 - val_loss: 0.0032 - val_mean_absolute_error: 0.0375 - val_root_mean_squared_error: 0.0567\n",
      "Model: \"sequential_2\"\n",
      "_________________________________________________________________\n",
      "Layer (type)                 Output Shape              Param #   \n",
      "=================================================================\n",
      "lstm_2 (LSTM)                (None, 32)                4864      \n",
      "_________________________________________________________________\n",
      "dropout_2 (Dropout)          (None, 32)                0         \n",
      "_________________________________________________________________\n",
      "activation_2 (Activation)    (None, 32)                0         \n",
      "_________________________________________________________________\n",
      "dense_2 (Dense)              (None, 2)                 66        \n",
      "=================================================================\n",
      "Total params: 4,930\n",
      "Trainable params: 4,930\n",
      "Non-trainable params: 0\n",
      "_________________________________________________________________\n"
     ]
    }
   ],
   "source": [
    "model = Sequential()\n",
    "#model.add(LSTM(,return_sequences=True, input_shape=(X_train.shape[1], X_train.shape[2])))\n",
    "model.add(LSTM(32, input_shape=(X_train.shape[1], X_train.shape[2])))\n",
    "model.add(Dropout(0.2))\n",
    "model.add(tf.keras.layers.Activation(\"relu\"))\n",
    "model.add(Dense(2))\n",
    "model.compile(loss='mean_squared_error', optimizer=Adam(lr=0.0001),metrics=[tf.keras.metrics.MeanAbsoluteError(),tf.keras.metrics.RootMeanSquaredError()])\n",
    "\n",
    "history = model.fit(X_train, y_train, epochs=30, batch_size=64, validation_data=(X_test, y_test), \n",
    "                    callbacks=[EarlyStopping(monitor='val_loss', patience=50), ModelCheckpoint(filepath='best_model0.h5', monitor='val_loss', save_best_only=True)], verbose=1, shuffle=False)\n",
    "#scores = model.evaluate(X_test, Y_test, verbose=1)\n",
    "#print(\"Accuracy: %.2f%%\" % (scores[1]*100))\n",
    "# Training Phase\n",
    "model.summary()"
   ]
  },
  {
   "cell_type": "code",
   "execution_count": 20,
   "metadata": {},
   "outputs": [
    {
     "name": "stdout",
     "output_type": "stream",
     "text": [
      "Time taken: 959.132660150528\n"
     ]
    }
   ],
   "source": [
    "end = time.time()\n",
    "print(\"Time taken:\", end- start)"
   ]
  },
  {
   "cell_type": "code",
   "execution_count": 21,
   "metadata": {},
   "outputs": [
    {
     "name": "stdout",
     "output_type": "stream",
     "text": [
      "593412096\n"
     ]
    }
   ],
   "source": [
    "print(psutil.Process().memory_info().peak_wset)"
   ]
  },
  {
   "cell_type": "code",
   "execution_count": 22,
   "metadata": {},
   "outputs": [
    {
     "data": {
      "image/png": "[encoded data removed]",
      "text/plain": [
       "<Figure size 432x288 with 1 Axes>"
      ]
     },
     "metadata": {},
     "output_type": "display_data"
    }
   ],
   "source": [
    "plt.plot(history.history['loss'])\n",
    "plt.plot(history.history['val_loss'])\n",
    "plt.title('Model Loss')\n",
    "plt.ylabel('Loss')\n",
    "plt.xlabel('Epochs')\n",
    "plt.legend(['train', 'validation'])\n",
    "plt.show()"
   ]
  },
  {
   "cell_type": "code",
   "execution_count": 23,
   "metadata": {
    "scrolled": true
   },
   "outputs": [
    {
     "data": {
      "image/png": "[encoded data removed]",
      "text/plain": [
       "<Figure size 432x288 with 1 Axes>"
      ]
     },
     "metadata": {},
     "output_type": "display_data"
    }
   ],
   "source": [
    "plt.plot(history.history['root_mean_squared_error'])\n",
    "plt.plot(history.history['val_root_mean_squared_error'])\n",
    "plt.title('Model Accuracy')\n",
    "plt.ylabel('Accuracy')\n",
    "plt.xlabel('Epochs')\n",
    "plt.legend(['train', 'test'])\n",
    "plt.show()"
   ]
  },
  {
   "cell_type": "code",
   "execution_count": 24,
   "metadata": {},
   "outputs": [
    {
     "name": "stdout",
     "output_type": "stream",
     "text": [
      "2409/2409 [==============================] - 2s 926us/step - loss: 0.0032 - mean_absolute_error: 0.0375 - root_mean_squared_error: 0.0567\n"
     ]
    },
    {
     "data": {
      "text/plain": [
       "[0.0032123723067343235, 0.03745448216795921, 0.056677792221307755]"
      ]
     },
     "execution_count": 24,
     "metadata": {},
     "output_type": "execute_result"
    }
   ],
   "source": [
    "model.evaluate(X_test,y_test)"
   ]
  },
  {
   "cell_type": "code",
   "execution_count": 17,
   "metadata": {},
   "outputs": [],
   "source": [
    "import time\n",
    "import psutil\n",
    "\n",
    "start = time.time()"
   ]
  },
  {
   "cell_type": "code",
   "execution_count": 18,
   "metadata": {},
   "outputs": [
    {
     "name": "stdout",
     "output_type": "stream",
     "text": [
      "Epoch 1/30\n",
      "4818/4818 [==============================] - 10s 2ms/step - loss: 9675.1262 - mean_absolute_error: 23.4408 - root_mean_squared_error: 82.9468 - val_loss: 0.0369 - val_mean_absolute_error: 0.1474 - val_root_mean_squared_error: 0.1920\n",
      "Epoch 2/30\n",
      "4818/4818 [==============================] - 8s 2ms/step - loss: 0.0933 - mean_absolute_error: 0.1960 - root_mean_squared_error: 0.3032 - val_loss: 0.0355 - val_mean_absolute_error: 0.1331 - val_root_mean_squared_error: 0.1884\n",
      "Epoch 3/30\n",
      "4818/4818 [==============================] - 8s 2ms/step - loss: 0.0490 - mean_absolute_error: 0.1482 - root_mean_squared_error: 0.2212 - val_loss: 0.0598 - val_mean_absolute_error: 0.1884 - val_root_mean_squared_error: 0.2446\n",
      "Epoch 4/30\n",
      "4818/4818 [==============================] - 8s 2ms/step - loss: 0.1828 - mean_absolute_error: 0.2031 - root_mean_squared_error: 0.4132 - val_loss: 0.0763 - val_mean_absolute_error: 0.2302 - val_root_mean_squared_error: 0.2762\n",
      "Epoch 5/30\n",
      "4818/4818 [==============================] - 9s 2ms/step - loss: 0.0815 - mean_absolute_error: 0.2388 - root_mean_squared_error: 0.2854 - val_loss: 0.0748 - val_mean_absolute_error: 0.2216 - val_root_mean_squared_error: 0.2736\n",
      "Epoch 6/30\n",
      "4818/4818 [==============================] - 10s 2ms/step - loss: 0.0762 - mean_absolute_error: 0.2283 - root_mean_squared_error: 0.2759 - val_loss: 0.0748 - val_mean_absolute_error: 0.2186 - val_root_mean_squared_error: 0.2736\n",
      "Epoch 7/30\n",
      "4818/4818 [==============================] - 10s 2ms/step - loss: 0.0770 - mean_absolute_error: 0.2309 - root_mean_squared_error: 0.2774 - val_loss: 0.0366 - val_mean_absolute_error: 0.1440 - val_root_mean_squared_error: 0.1912\n",
      "Epoch 8/30\n",
      "4818/4818 [==============================] - 9s 2ms/step - loss: 0.0475 - mean_absolute_error: 0.1645 - root_mean_squared_error: 0.2179 - val_loss: 0.0373 - val_mean_absolute_error: 0.1452 - val_root_mean_squared_error: 0.1931\n",
      "Epoch 9/30\n",
      "4818/4818 [==============================] - 9s 2ms/step - loss: 0.0431 - mean_absolute_error: 0.1602 - root_mean_squared_error: 0.2076 - val_loss: 0.0189 - val_mean_absolute_error: 0.1034 - val_root_mean_squared_error: 0.1374\n",
      "Epoch 10/30\n",
      "4818/4818 [==============================] - 9s 2ms/step - loss: 0.0306 - mean_absolute_error: 0.1318 - root_mean_squared_error: 0.1748 - val_loss: 0.0077 - val_mean_absolute_error: 0.0683 - val_root_mean_squared_error: 0.0877\n",
      "Epoch 11/30\n",
      "4818/4818 [==============================] - 9s 2ms/step - loss: 0.0267 - mean_absolute_error: 0.1206 - root_mean_squared_error: 0.1633 - val_loss: 0.0076 - val_mean_absolute_error: 0.0713 - val_root_mean_squared_error: 0.0874\n",
      "Epoch 12/30\n",
      "4818/4818 [==============================] - 10s 2ms/step - loss: 0.0220 - mean_absolute_error: 0.1108 - root_mean_squared_error: 0.1481 - val_loss: 0.0102 - val_mean_absolute_error: 0.0667 - val_root_mean_squared_error: 0.1011\n",
      "Epoch 13/30\n",
      "4818/4818 [==============================] - 9s 2ms/step - loss: 0.0221 - mean_absolute_error: 0.1123 - root_mean_squared_error: 0.1485 - val_loss: 0.0094 - val_mean_absolute_error: 0.0745 - val_root_mean_squared_error: 0.0968\n",
      "Epoch 14/30\n",
      "4818/4818 [==============================] - 9s 2ms/step - loss: 0.0227 - mean_absolute_error: 0.1137 - root_mean_squared_error: 0.1508 - val_loss: 0.0117 - val_mean_absolute_error: 0.0827 - val_root_mean_squared_error: 0.1081\n",
      "Epoch 15/30\n",
      "4818/4818 [==============================] - 9s 2ms/step - loss: 0.0189 - mean_absolute_error: 0.0990 - root_mean_squared_error: 0.1373 - val_loss: 0.0039 - val_mean_absolute_error: 0.0402 - val_root_mean_squared_error: 0.0624\n",
      "Epoch 16/30\n",
      "4818/4818 [==============================] - 9s 2ms/step - loss: 0.0195 - mean_absolute_error: 0.0975 - root_mean_squared_error: 0.1395 - val_loss: 0.0047 - val_mean_absolute_error: 0.0518 - val_root_mean_squared_error: 0.0688\n",
      "Epoch 17/30\n",
      "4818/4818 [==============================] - 9s 2ms/step - loss: 0.0206 - mean_absolute_error: 0.1070 - root_mean_squared_error: 0.1434 - val_loss: 0.0042 - val_mean_absolute_error: 0.0470 - val_root_mean_squared_error: 0.0651\n",
      "Epoch 18/30\n",
      "4818/4818 [==============================] - 9s 2ms/step - loss: 0.0204 - mean_absolute_error: 0.1063 - root_mean_squared_error: 0.1427 - val_loss: 0.0110 - val_mean_absolute_error: 0.0780 - val_root_mean_squared_error: 0.1048\n",
      "Epoch 19/30\n",
      "4818/4818 [==============================] - 9s 2ms/step - loss: 0.0188 - mean_absolute_error: 0.1015 - root_mean_squared_error: 0.1370 - val_loss: 0.0043 - val_mean_absolute_error: 0.0530 - val_root_mean_squared_error: 0.0652\n",
      "Epoch 20/30\n",
      "4818/4818 [==============================] - 10s 2ms/step - loss: 0.0167 - mean_absolute_error: 0.0944 - root_mean_squared_error: 0.1293 - val_loss: 0.0057 - val_mean_absolute_error: 0.0630 - val_root_mean_squared_error: 0.0754\n",
      "Epoch 21/30\n",
      "4818/4818 [==============================] - 9s 2ms/step - loss: 0.0181 - mean_absolute_error: 0.0997 - root_mean_squared_error: 0.1346 - val_loss: 0.0085 - val_mean_absolute_error: 0.0620 - val_root_mean_squared_error: 0.0923\n",
      "Epoch 22/30\n",
      "4818/4818 [==============================] - 9s 2ms/step - loss: 0.0185 - mean_absolute_error: 0.1011 - root_mean_squared_error: 0.1362 - val_loss: 0.0055 - val_mean_absolute_error: 0.0479 - val_root_mean_squared_error: 0.0738\n",
      "Epoch 23/30\n",
      "4818/4818 [==============================] - 9s 2ms/step - loss: 0.0184 - mean_absolute_error: 0.1006 - root_mean_squared_error: 0.1357 - val_loss: 0.0086 - val_mean_absolute_error: 0.0586 - val_root_mean_squared_error: 0.0930\n",
      "Epoch 24/30\n",
      "4818/4818 [==============================] - 8s 2ms/step - loss: 0.0191 - mean_absolute_error: 0.1031 - root_mean_squared_error: 0.1383 - val_loss: 0.0086 - val_mean_absolute_error: 0.0714 - val_root_mean_squared_error: 0.0926\n",
      "Epoch 25/30\n",
      "4818/4818 [==============================] - 9s 2ms/step - loss: 0.0186 - mean_absolute_error: 0.1016 - root_mean_squared_error: 0.1363 - val_loss: 0.0046 - val_mean_absolute_error: 0.0490 - val_root_mean_squared_error: 0.0677\n",
      "Epoch 26/30\n",
      "4818/4818 [==============================] - 9s 2ms/step - loss: 0.0201 - mean_absolute_error: 0.1044 - root_mean_squared_error: 0.1418 - val_loss: 0.0035 - val_mean_absolute_error: 0.0424 - val_root_mean_squared_error: 0.0590\n",
      "Epoch 27/30\n",
      "4818/4818 [==============================] - 8s 2ms/step - loss: 0.0192 - mean_absolute_error: 0.1033 - root_mean_squared_error: 0.1386 - val_loss: 0.0088 - val_mean_absolute_error: 0.0720 - val_root_mean_squared_error: 0.0939\n",
      "Epoch 28/30\n",
      "4818/4818 [==============================] - 9s 2ms/step - loss: 0.0208 - mean_absolute_error: 0.1078 - root_mean_squared_error: 0.1442 - val_loss: 0.0036 - val_mean_absolute_error: 0.0421 - val_root_mean_squared_error: 0.0604\n",
      "Epoch 29/30\n",
      "4818/4818 [==============================] - 9s 2ms/step - loss: 0.0177 - mean_absolute_error: 0.0992 - root_mean_squared_error: 0.1330 - val_loss: 0.0065 - val_mean_absolute_error: 0.0546 - val_root_mean_squared_error: 0.0809\n",
      "Epoch 30/30\n",
      "4818/4818 [==============================] - 9s 2ms/step - loss: 0.0177 - mean_absolute_error: 0.0991 - root_mean_squared_error: 0.1330 - val_loss: 0.0031 - val_mean_absolute_error: 0.0398 - val_root_mean_squared_error: 0.0554\n"
     ]
    }
   ],
   "source": [
    "# The GRU architecture\n",
    "regressorGRU = Sequential()\n",
    "# First GRU layer with Dropout regularisation\n",
    "regressorGRU.add(GRU(units=36, return_sequences=True, input_shape=(X_train.shape[1], X_train.shape[2]), activation='relu'))\n",
    "regressorGRU.add(Dropout(0.2))\n",
    "# The output layer\n",
    "regressorGRU.add(Dense(units=1))\n",
    "# Compiling the RNN\n",
    "regressorGRU.compile(loss='mean_squared_error', optimizer='adam',metrics=[tf.keras.metrics.MeanAbsoluteError(),tf.keras.metrics.RootMeanSquaredError()])\n",
    "# Fitting to the training set\n",
    "history = regressorGRU.fit(X_train, y_train, epochs=30, batch_size=64, validation_data=(X_test, y_test))\n",
    "#regressorGRU.summary()"
   ]
  },
  {
   "cell_type": "code",
   "execution_count": 19,
   "metadata": {},
   "outputs": [
    {
     "name": "stdout",
     "output_type": "stream",
     "text": [
      "Time taken: 744.1353104114532\n"
     ]
    }
   ],
   "source": [
    "end = time.time()\n",
    "print(\"Time taken:\", end- start)"
   ]
  },
  {
   "cell_type": "code",
   "execution_count": 20,
   "metadata": {},
   "outputs": [
    {
     "name": "stdout",
     "output_type": "stream",
     "text": [
      "539521024\n"
     ]
    }
   ],
   "source": [
    "print(psutil.Process().memory_info().peak_wset)"
   ]
  },
  {
   "cell_type": "code",
   "execution_count": 21,
   "metadata": {},
   "outputs": [
    {
     "data": {
      "image/png": "[encoded data removed]",
      "text/plain": [
       "<Figure size 432x288 with 1 Axes>"
      ]
     },
     "metadata": {},
     "output_type": "display_data"
    }
   ],
   "source": [
    "plt.plot(history.history['loss'])\n",
    "plt.plot(history.history['val_loss'])\n",
    "plt.title('Model Loss')\n",
    "plt.ylabel('Loss')\n",
    "plt.xlabel('Epochs')\n",
    "plt.legend(['train', 'validation'])\n",
    "plt.show()"
   ]
  },
  {
   "cell_type": "code",
   "execution_count": 22,
   "metadata": {},
   "outputs": [
    {
     "data": {
      "image/png": "[encoded data removed]",
      "text/plain": [
       "<Figure size 432x288 with 1 Axes>"
      ]
     },
     "metadata": {},
     "output_type": "display_data"
    }
   ],
   "source": [
    "plt.plot(history.history['root_mean_squared_error'])\n",
    "plt.plot(history.history['val_root_mean_squared_error'])\n",
    "plt.title('Model Accuracy')\n",
    "plt.ylabel('Accuracy')\n",
    "plt.xlabel('Epochs')\n",
    "plt.legend(['train', 'test'])\n",
    "plt.show()"
   ]
  },
  {
   "cell_type": "code",
   "execution_count": 25,
   "metadata": {},
   "outputs": [
    {
     "name": "stdout",
     "output_type": "stream",
     "text": [
      "2409/2409 [==============================] - 2s 824us/step - loss: 0.0031 - mean_absolute_error: 0.0398 - root_mean_squared_error: 0.0554\n"
     ]
    },
    {
     "data": {
      "text/plain": [
       "[0.0030746778938919306, 0.03978140279650688, 0.055449776351451874]"
      ]
     },
     "execution_count": 25,
     "metadata": {},
     "output_type": "execute_result"
    }
   ],
   "source": [
    "regressorGRU.evaluate(X_test,y_test)"
   ]
  },
  {
   "cell_type": "code",
   "execution_count": null,
   "metadata": {},
   "outputs": [],
   "source": []
  }
 ],
 "metadata": {
  "kernelspec": {
   "display_name": "Python 3",
   "language": "python",
   "name": "python3"
  },
  "language_info": {
   "codemirror_mode": {
    "name": "ipython",
    "version": 3
   },
   "file_extension": ".py",
   "mimetype": "text/x-python",
   "name": "python",
   "nbconvert_exporter": "python",
   "pygments_lexer": "ipython3",
   "version": "3.7.8"
  }
 },
 "nbformat": 4,
 "nbformat_minor": 4
}
