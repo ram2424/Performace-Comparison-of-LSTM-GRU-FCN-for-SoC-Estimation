{
 "cells": [
  {
   "cell_type": "code",
   "execution_count": 2,
   "metadata": {},
   "outputs": [],
   "source": [
    "# Numpy and Pandas \n",
    "import numpy as np\n",
    "import pandas as pd\n",
    "\n",
    "# Vizualization\n",
    "from matplotlib import pyplot as plt\n",
    "%matplotlib inline\n",
    "import seaborn as sns\n",
    "sns.set_style('darkgrid')\n",
    "\n",
    "# Machine learning algorithms\n",
    "from sklearn.neural_network import MLPRegressor\n",
    "from sklearn.ensemble import RandomForestRegressor\n",
    "\n",
    "# Machine learning pipeline \n",
    "from sklearn.model_selection import train_test_split\n",
    "from sklearn.pipeline import make_pipeline\n",
    "from sklearn.preprocessing import StandardScaler\n",
    "from sklearn.model_selection import GridSearchCV\n",
    "\n",
    "# Regression Metrics\n",
    "from sklearn.metrics import mean_absolute_error\n",
    "from sklearn.metrics import r2_score\n",
    "from sklearn.metrics import mean_squared_error\n",
    "\n",
    "# Ignore ConvergenceWarning messages\n",
    "import warnings\n",
    "from sklearn.exceptions import ConvergenceWarning\n",
    "warnings.simplefilter(action='ignore', category=ConvergenceWarning)\n",
    "\n",
    "# Check the fitted_model\n",
    "from sklearn.exceptions import NotFittedError\n",
    "\n",
    "# Save python object to disk\n",
    "import pickle\n",
    "\n",
    "from keras import backend as K\n",
    "\n",
    "from sklearn import preprocessing\n",
    "\n",
    "import tensorflow as tf\n",
    "from tensorflow.keras import datasets, layers, models \n",
    "import numpy as np\n",
    "import matplotlib.pyplot as plt\n",
    "import random as rn\n",
    "from sklearn.metrics import confusion_matrix , classification_report\n",
    "import tensorflow.python.keras\n",
    "from tensorflow.python.keras.models import Sequential \n",
    "from tensorflow.python.keras.models import model_from_json\n",
    "from tensorflow.python.keras.layers import Dense, Activation, Dropout, Flatten\n",
    "from tensorflow.python.keras.layers import Conv2D, MaxPooling2D\n",
    "from tensorflow.python.keras import backend as K\n",
    "from tensorflow.keras.optimizers import Adam,SGD,Adagrad,Adadelta,RMSprop"
   ]
  },
  {
   "cell_type": "code",
   "execution_count": 3,
   "metadata": {},
   "outputs": [],
   "source": [
    "df = pd.read_csv(r\"D:\\Ram\\MTech\\Final_Year_Paper_Work\\14226830\\VAH22.csv\")"
   ]
  },
  {
   "cell_type": "code",
   "execution_count": 4,
   "metadata": {},
   "outputs": [
    {
     "data": {
      "text/html": [
       "<div>\n",
       "<style scoped>\n",
       "    .dataframe tbody tr th:only-of-type {\n",
       "        vertical-align: middle;\n",
       "    }\n",
       "\n",
       "    .dataframe tbody tr th {\n",
       "        vertical-align: top;\n",
       "    }\n",
       "\n",
       "    .dataframe thead th {\n",
       "        text-align: right;\n",
       "    }\n",
       "</style>\n",
       "<table border=\"1\" class=\"dataframe\">\n",
       "  <thead>\n",
       "    <tr style=\"text-align: right;\">\n",
       "      <th></th>\n",
       "      <th>time_s</th>\n",
       "      <th>Ecell_V</th>\n",
       "      <th>I_mA</th>\n",
       "      <th>EnergyCharge_W_h</th>\n",
       "      <th>QCharge_mA_h</th>\n",
       "      <th>EnergyDischarge_W_h</th>\n",
       "      <th>QDischarge_mA_h</th>\n",
       "      <th>Temperature__C</th>\n",
       "      <th>cycleNumber</th>\n",
       "      <th>Ns</th>\n",
       "      <th>TimeDelta</th>\n",
       "      <th>soc</th>\n",
       "    </tr>\n",
       "  </thead>\n",
       "  <tbody>\n",
       "    <tr>\n",
       "      <th>0</th>\n",
       "      <td>0.000000e+00</td>\n",
       "      <td>3.539573</td>\n",
       "      <td>1491.4921</td>\n",
       "      <td>0.000000</td>\n",
       "      <td>0.000000</td>\n",
       "      <td>0.000000</td>\n",
       "      <td>0.00000</td>\n",
       "      <td>24.575109</td>\n",
       "      <td>0</td>\n",
       "      <td>0</td>\n",
       "      <td>0.000000</td>\n",
       "      <td>0.000000</td>\n",
       "    </tr>\n",
       "    <tr>\n",
       "      <th>1</th>\n",
       "      <td>3.000000e+01</td>\n",
       "      <td>3.547016</td>\n",
       "      <td>1489.7195</td>\n",
       "      <td>0.044033</td>\n",
       "      <td>12.414182</td>\n",
       "      <td>0.000000</td>\n",
       "      <td>0.00000</td>\n",
       "      <td>24.677822</td>\n",
       "      <td>0</td>\n",
       "      <td>0</td>\n",
       "      <td>30.000001</td>\n",
       "      <td>0.006207</td>\n",
       "    </tr>\n",
       "    <tr>\n",
       "      <th>2</th>\n",
       "      <td>6.000000e+01</td>\n",
       "      <td>3.551938</td>\n",
       "      <td>1489.9165</td>\n",
       "      <td>0.088127</td>\n",
       "      <td>24.828216</td>\n",
       "      <td>0.000000</td>\n",
       "      <td>0.00000</td>\n",
       "      <td>25.136082</td>\n",
       "      <td>0</td>\n",
       "      <td>0</td>\n",
       "      <td>30.000001</td>\n",
       "      <td>0.012415</td>\n",
       "    </tr>\n",
       "    <tr>\n",
       "      <th>3</th>\n",
       "      <td>9.000000e+01</td>\n",
       "      <td>3.556428</td>\n",
       "      <td>1488.1439</td>\n",
       "      <td>0.132276</td>\n",
       "      <td>37.242144</td>\n",
       "      <td>0.000000</td>\n",
       "      <td>0.00000</td>\n",
       "      <td>25.246696</td>\n",
       "      <td>0</td>\n",
       "      <td>0</td>\n",
       "      <td>30.000001</td>\n",
       "      <td>0.018616</td>\n",
       "    </tr>\n",
       "    <tr>\n",
       "      <th>4</th>\n",
       "      <td>1.200000e+02</td>\n",
       "      <td>3.560917</td>\n",
       "      <td>1489.3257</td>\n",
       "      <td>0.176481</td>\n",
       "      <td>49.656028</td>\n",
       "      <td>0.000000</td>\n",
       "      <td>0.00000</td>\n",
       "      <td>25.057074</td>\n",
       "      <td>0</td>\n",
       "      <td>0</td>\n",
       "      <td>30.000001</td>\n",
       "      <td>0.024821</td>\n",
       "    </tr>\n",
       "    <tr>\n",
       "      <th>...</th>\n",
       "      <td>...</td>\n",
       "      <td>...</td>\n",
       "      <td>...</td>\n",
       "      <td>...</td>\n",
       "      <td>...</td>\n",
       "      <td>...</td>\n",
       "      <td>...</td>\n",
       "      <td>...</td>\n",
       "      <td>...</td>\n",
       "      <td>...</td>\n",
       "      <td>...</td>\n",
       "      <td>...</td>\n",
       "    </tr>\n",
       "    <tr>\n",
       "      <th>385424</th>\n",
       "      <td>4.399571e+06</td>\n",
       "      <td>3.549772</td>\n",
       "      <td>0.0000</td>\n",
       "      <td>8.439746</td>\n",
       "      <td>0.000000</td>\n",
       "      <td>-6.548237</td>\n",
       "      <td>1900.65198</td>\n",
       "      <td>20.798407</td>\n",
       "      <td>41</td>\n",
       "      <td>8</td>\n",
       "      <td>30.000003</td>\n",
       "      <td>0.007260</td>\n",
       "    </tr>\n",
       "    <tr>\n",
       "      <th>385425</th>\n",
       "      <td>4.399601e+06</td>\n",
       "      <td>3.549733</td>\n",
       "      <td>0.0000</td>\n",
       "      <td>8.439746</td>\n",
       "      <td>0.000000</td>\n",
       "      <td>-6.548237</td>\n",
       "      <td>1900.65198</td>\n",
       "      <td>20.932724</td>\n",
       "      <td>41</td>\n",
       "      <td>8</td>\n",
       "      <td>30.000003</td>\n",
       "      <td>0.007260</td>\n",
       "    </tr>\n",
       "    <tr>\n",
       "      <th>385426</th>\n",
       "      <td>4.399631e+06</td>\n",
       "      <td>3.549812</td>\n",
       "      <td>0.0000</td>\n",
       "      <td>8.439746</td>\n",
       "      <td>0.000000</td>\n",
       "      <td>-6.548237</td>\n",
       "      <td>1900.65198</td>\n",
       "      <td>21.019634</td>\n",
       "      <td>41</td>\n",
       "      <td>8</td>\n",
       "      <td>30.000003</td>\n",
       "      <td>0.007260</td>\n",
       "    </tr>\n",
       "    <tr>\n",
       "      <th>385427</th>\n",
       "      <td>4.399661e+06</td>\n",
       "      <td>3.549772</td>\n",
       "      <td>0.0000</td>\n",
       "      <td>8.439746</td>\n",
       "      <td>0.000000</td>\n",
       "      <td>-6.548237</td>\n",
       "      <td>1900.65198</td>\n",
       "      <td>20.727297</td>\n",
       "      <td>41</td>\n",
       "      <td>8</td>\n",
       "      <td>30.000003</td>\n",
       "      <td>0.007260</td>\n",
       "    </tr>\n",
       "    <tr>\n",
       "      <th>385428</th>\n",
       "      <td>4.399664e+06</td>\n",
       "      <td>3.549772</td>\n",
       "      <td>0.0000</td>\n",
       "      <td>8.439746</td>\n",
       "      <td>0.000000</td>\n",
       "      <td>-6.548237</td>\n",
       "      <td>1900.65198</td>\n",
       "      <td>20.916922</td>\n",
       "      <td>41</td>\n",
       "      <td>8</td>\n",
       "      <td>3.392000</td>\n",
       "      <td>0.007260</td>\n",
       "    </tr>\n",
       "  </tbody>\n",
       "</table>\n",
       "<p>385429 rows × 12 columns</p>\n",
       "</div>"
      ],
      "text/plain": [
       "              time_s   Ecell_V       I_mA  EnergyCharge_W_h  QCharge_mA_h  \\\n",
       "0       0.000000e+00  3.539573  1491.4921          0.000000      0.000000   \n",
       "1       3.000000e+01  3.547016  1489.7195          0.044033     12.414182   \n",
       "2       6.000000e+01  3.551938  1489.9165          0.088127     24.828216   \n",
       "3       9.000000e+01  3.556428  1488.1439          0.132276     37.242144   \n",
       "4       1.200000e+02  3.560917  1489.3257          0.176481     49.656028   \n",
       "...              ...       ...        ...               ...           ...   \n",
       "385424  4.399571e+06  3.549772     0.0000          8.439746      0.000000   \n",
       "385425  4.399601e+06  3.549733     0.0000          8.439746      0.000000   \n",
       "385426  4.399631e+06  3.549812     0.0000          8.439746      0.000000   \n",
       "385427  4.399661e+06  3.549772     0.0000          8.439746      0.000000   \n",
       "385428  4.399664e+06  3.549772     0.0000          8.439746      0.000000   \n",
       "\n",
       "        EnergyDischarge_W_h  QDischarge_mA_h  Temperature__C  cycleNumber  Ns  \\\n",
       "0                  0.000000          0.00000       24.575109            0   0   \n",
       "1                  0.000000          0.00000       24.677822            0   0   \n",
       "2                  0.000000          0.00000       25.136082            0   0   \n",
       "3                  0.000000          0.00000       25.246696            0   0   \n",
       "4                  0.000000          0.00000       25.057074            0   0   \n",
       "...                     ...              ...             ...          ...  ..   \n",
       "385424            -6.548237       1900.65198       20.798407           41   8   \n",
       "385425            -6.548237       1900.65198       20.932724           41   8   \n",
       "385426            -6.548237       1900.65198       21.019634           41   8   \n",
       "385427            -6.548237       1900.65198       20.727297           41   8   \n",
       "385428            -6.548237       1900.65198       20.916922           41   8   \n",
       "\n",
       "        TimeDelta       soc  \n",
       "0        0.000000  0.000000  \n",
       "1       30.000001  0.006207  \n",
       "2       30.000001  0.012415  \n",
       "3       30.000001  0.018616  \n",
       "4       30.000001  0.024821  \n",
       "...           ...       ...  \n",
       "385424  30.000003  0.007260  \n",
       "385425  30.000003  0.007260  \n",
       "385426  30.000003  0.007260  \n",
       "385427  30.000003  0.007260  \n",
       "385428   3.392000  0.007260  \n",
       "\n",
       "[385429 rows x 12 columns]"
      ]
     },
     "execution_count": 4,
     "metadata": {},
     "output_type": "execute_result"
    }
   ],
   "source": [
    "df"
   ]
  },
  {
   "cell_type": "code",
   "execution_count": 5,
   "metadata": {},
   "outputs": [
    {
     "data": {
      "text/plain": [
       "(385429, 12)"
      ]
     },
     "execution_count": 5,
     "metadata": {},
     "output_type": "execute_result"
    }
   ],
   "source": [
    "df.shape"
   ]
  },
  {
   "cell_type": "code",
   "execution_count": 6,
   "metadata": {},
   "outputs": [
    {
     "data": {
      "image/png": "[encoded data removed]",
      "text/plain": [
       "<Figure size 432x288 with 1 Axes>"
      ]
     },
     "metadata": {},
     "output_type": "display_data"
    }
   ],
   "source": [
    "df.hist(column='soc')\n",
    "plt.show()"
   ]
  },
  {
   "cell_type": "code",
   "execution_count": 7,
   "metadata": {},
   "outputs": [
    {
     "data": {
      "image/png": "[encoded data removed]",
      "text/plain": [
       "<Figure size 432x288 with 2 Axes>"
      ]
     },
     "metadata": {},
     "output_type": "display_data"
    }
   ],
   "source": [
    "df1=df[\"Ecell_V\"]\n",
    "df2=df[\"I_mA\"]\n",
    "df3=df[\"soc\"]\n",
    "df4=df[\"Temperature__C\"]\n",
    "\n",
    "colors1 = ['indianred', 'mediumblue','green','black']\n",
    "names = ['Voltage','SoC', 'Current', 'Temperature']\n",
    "\n",
    "colors = ['indianred', 'mediumblue','green']\n",
    "plt.hist([df1, df2, df3, df4], bins = int(180/15), stacked=True,\n",
    "         color = colors1, label=names, orientation='horizontal')\n",
    "plt.legend()\n",
    "plt.xlabel('Data Points')\n",
    "plt.ylabel('Voltage (V), Current (A), SoC(%), Temperature')\n",
    "plt.title('Voltage, Current, SoC')\n",
    "sample=np.random.normal(size=10000)\n",
    "vert_hist=np.histogram(sample,bins=30)\n",
    "ax1=plt.subplot(2,1,1)\n",
    "ax1.barh(vert_hist[1][:-1],vert_hist[0])\n",
    "ax2=plt.subplot(2,1,2)\n",
    "ax2.hist([df1, df2, df3], bins = int(180/15), stacked=True,\n",
    "         color = colors, label=names,orientation='horizontal')\n",
    "plt.show()"
   ]
  },
  {
   "cell_type": "code",
   "execution_count": 8,
   "metadata": {},
   "outputs": [
    {
     "data": {
      "image/png": "[encoded data removed]",
      "text/plain": [
       "<Figure size 432x288 with 1 Axes>"
      ]
     },
     "metadata": {},
     "output_type": "display_data"
    },
    {
     "name": "stderr",
     "output_type": "stream",
     "text": [
      "No handles with labels found to put in legend.\n"
     ]
    },
    {
     "data": {
      "text/plain": [
       "Text(0.5, 1.0, 'Voltage, Current, SoC')"
      ]
     },
     "execution_count": 8,
     "metadata": {},
     "output_type": "execute_result"
    },
    {
     "data": {
      "image/png": "[encoded data removed]",
      "text/plain": [
       "<Figure size 432x288 with 1 Axes>"
      ]
     },
     "metadata": {},
     "output_type": "display_data"
    }
   ],
   "source": [
    "import matplotlib.pyplot as plt\n",
    "import numpy as np\n",
    "\n",
    "fig, ax = plt.subplots()\n",
    "fig=plt.hist([df1, df2,df3], stacked=True,\n",
    "         color = colors,label=names,orientation='horizontal')\n",
    "plt.legend()\n",
    "plt.xlabel('Data Points')\n",
    "plt.ylabel('Voltage (V), Current (A), SoC(%)')\n",
    "plt.title('Voltage, Current, SoC',loc='center')\n",
    "\n",
    "\n",
    "# ax.hist([df1, df2,df3], bins, orientation='horizontal')\n",
    "plt.show()\n",
    "plt.savefig('Data.jpeg', dpi=600)\n",
    "\n",
    "plt.hist(df1)\n",
    "plt.hist(df3)\n",
    "plt.hist(df2)\n",
    "plt.legend()\n",
    "plt.xlabel('Data Points')\n",
    "plt.ylabel('Voltage (V), Current (A), SoC(%)')\n",
    "plt.title('Voltage, Current, SoC',loc='center')"
   ]
  },
  {
   "cell_type": "code",
   "execution_count": 9,
   "metadata": {},
   "outputs": [
    {
     "name": "stdout",
     "output_type": "stream",
     "text": [
      "         Ecell_V       I_mA  Temperature__C  TimeDelta       soc\n",
      "0       3.539573  1491.4921       24.575109   0.000000  0.000000\n",
      "1       3.547016  1489.7195       24.677822  30.000001  0.006207\n",
      "2       3.551938  1489.9165       25.136082  30.000001  0.012415\n",
      "3       3.556428  1488.1439       25.246696  30.000001  0.018616\n",
      "4       3.560917  1489.3257       25.057074  30.000001  0.024821\n",
      "...          ...        ...             ...        ...       ...\n",
      "385424  3.549772     0.0000       20.798407  30.000003  0.007260\n",
      "385425  3.549733     0.0000       20.932724  30.000003  0.007260\n",
      "385426  3.549812     0.0000       21.019634  30.000003  0.007260\n",
      "385427  3.549772     0.0000       20.727297  30.000003  0.007260\n",
      "385428  3.549772     0.0000       20.916922   3.392000  0.007260\n",
      "\n",
      "[385429 rows x 5 columns]\n"
     ]
    }
   ],
   "source": [
    "y = df['soc']\n",
    "X = df.drop(['Ns','cycleNumber','time_s','EnergyCharge_W_h', 'QCharge_mA_h', 'EnergyDischarge_W_h' ,'QDischarge_mA_h'], axis='columns')\n",
    "print(X)"
   ]
  },
  {
   "cell_type": "code",
   "execution_count": 10,
   "metadata": {},
   "outputs": [
    {
     "data": {
      "text/plain": [
       "0    0.000000\n",
       "1    0.006207\n",
       "2    0.012415\n",
       "3    0.018616\n",
       "4    0.024821\n",
       "5    0.031024\n",
       "6    0.037232\n",
       "7    0.043440\n",
       "8    0.049651\n",
       "9    0.055851\n",
       "Name: soc, dtype: float64"
      ]
     },
     "execution_count": 10,
     "metadata": {},
     "output_type": "execute_result"
    }
   ],
   "source": [
    "y.head(10)"
   ]
  },
  {
   "cell_type": "code",
   "execution_count": 11,
   "metadata": {},
   "outputs": [
    {
     "data": {
      "text/plain": [
       "(385429,)"
      ]
     },
     "execution_count": 11,
     "metadata": {},
     "output_type": "execute_result"
    }
   ],
   "source": [
    "y.shape"
   ]
  },
  {
   "cell_type": "code",
   "execution_count": 12,
   "metadata": {},
   "outputs": [
    {
     "data": {
      "text/html": [
       "<div>\n",
       "<style scoped>\n",
       "    .dataframe tbody tr th:only-of-type {\n",
       "        vertical-align: middle;\n",
       "    }\n",
       "\n",
       "    .dataframe tbody tr th {\n",
       "        vertical-align: top;\n",
       "    }\n",
       "\n",
       "    .dataframe thead th {\n",
       "        text-align: right;\n",
       "    }\n",
       "</style>\n",
       "<table border=\"1\" class=\"dataframe\">\n",
       "  <thead>\n",
       "    <tr style=\"text-align: right;\">\n",
       "      <th></th>\n",
       "      <th>Ecell_V</th>\n",
       "      <th>I_mA</th>\n",
       "      <th>Temperature__C</th>\n",
       "      <th>TimeDelta</th>\n",
       "      <th>soc</th>\n",
       "    </tr>\n",
       "  </thead>\n",
       "  <tbody>\n",
       "    <tr>\n",
       "      <th>0</th>\n",
       "      <td>3.539573</td>\n",
       "      <td>1491.4921</td>\n",
       "      <td>24.575109</td>\n",
       "      <td>0.000000</td>\n",
       "      <td>0.000000</td>\n",
       "    </tr>\n",
       "    <tr>\n",
       "      <th>1</th>\n",
       "      <td>3.547016</td>\n",
       "      <td>1489.7195</td>\n",
       "      <td>24.677822</td>\n",
       "      <td>30.000001</td>\n",
       "      <td>0.006207</td>\n",
       "    </tr>\n",
       "    <tr>\n",
       "      <th>2</th>\n",
       "      <td>3.551938</td>\n",
       "      <td>1489.9165</td>\n",
       "      <td>25.136082</td>\n",
       "      <td>30.000001</td>\n",
       "      <td>0.012415</td>\n",
       "    </tr>\n",
       "    <tr>\n",
       "      <th>3</th>\n",
       "      <td>3.556428</td>\n",
       "      <td>1488.1439</td>\n",
       "      <td>25.246696</td>\n",
       "      <td>30.000001</td>\n",
       "      <td>0.018616</td>\n",
       "    </tr>\n",
       "    <tr>\n",
       "      <th>4</th>\n",
       "      <td>3.560917</td>\n",
       "      <td>1489.3257</td>\n",
       "      <td>25.057074</td>\n",
       "      <td>30.000001</td>\n",
       "      <td>0.024821</td>\n",
       "    </tr>\n",
       "    <tr>\n",
       "      <th>5</th>\n",
       "      <td>3.565721</td>\n",
       "      <td>1488.5378</td>\n",
       "      <td>25.578543</td>\n",
       "      <td>30.000001</td>\n",
       "      <td>0.031024</td>\n",
       "    </tr>\n",
       "    <tr>\n",
       "      <th>6</th>\n",
       "      <td>3.570486</td>\n",
       "      <td>1489.9164</td>\n",
       "      <td>25.531136</td>\n",
       "      <td>30.000001</td>\n",
       "      <td>0.037232</td>\n",
       "    </tr>\n",
       "    <tr>\n",
       "      <th>7</th>\n",
       "      <td>3.575330</td>\n",
       "      <td>1490.1134</td>\n",
       "      <td>25.428423</td>\n",
       "      <td>30.000001</td>\n",
       "      <td>0.043440</td>\n",
       "    </tr>\n",
       "    <tr>\n",
       "      <th>8</th>\n",
       "      <td>3.580135</td>\n",
       "      <td>1490.5073</td>\n",
       "      <td>25.483730</td>\n",
       "      <td>30.000001</td>\n",
       "      <td>0.049651</td>\n",
       "    </tr>\n",
       "    <tr>\n",
       "      <th>9</th>\n",
       "      <td>3.585136</td>\n",
       "      <td>1488.1439</td>\n",
       "      <td>25.531136</td>\n",
       "      <td>30.000001</td>\n",
       "      <td>0.055851</td>\n",
       "    </tr>\n",
       "  </tbody>\n",
       "</table>\n",
       "</div>"
      ],
      "text/plain": [
       "    Ecell_V       I_mA  Temperature__C  TimeDelta       soc\n",
       "0  3.539573  1491.4921       24.575109   0.000000  0.000000\n",
       "1  3.547016  1489.7195       24.677822  30.000001  0.006207\n",
       "2  3.551938  1489.9165       25.136082  30.000001  0.012415\n",
       "3  3.556428  1488.1439       25.246696  30.000001  0.018616\n",
       "4  3.560917  1489.3257       25.057074  30.000001  0.024821\n",
       "5  3.565721  1488.5378       25.578543  30.000001  0.031024\n",
       "6  3.570486  1489.9164       25.531136  30.000001  0.037232\n",
       "7  3.575330  1490.1134       25.428423  30.000001  0.043440\n",
       "8  3.580135  1490.5073       25.483730  30.000001  0.049651\n",
       "9  3.585136  1488.1439       25.531136  30.000001  0.055851"
      ]
     },
     "execution_count": 12,
     "metadata": {},
     "output_type": "execute_result"
    }
   ],
   "source": [
    "X.head(10)"
   ]
  },
  {
   "cell_type": "code",
   "execution_count": 13,
   "metadata": {},
   "outputs": [
    {
     "data": {
      "text/plain": [
       "(385429, 5)"
      ]
     },
     "execution_count": 13,
     "metadata": {},
     "output_type": "execute_result"
    }
   ],
   "source": [
    "X.shape"
   ]
  },
  {
   "cell_type": "code",
   "execution_count": 14,
   "metadata": {},
   "outputs": [
    {
     "name": "stdout",
     "output_type": "stream",
     "text": [
      "[[[ 3.74001810e+00 -4.28827880e+03  3.02717690e+01  1.00000012e+01\n",
      "    5.16475458e-01]]\n",
      "\n",
      " [[ 3.87710070e+00 -6.08738710e+02  2.38324090e+01  9.99999230e-01\n",
      "    5.71655731e-01]]\n",
      "\n",
      " [[ 3.14612530e+00 -6.11299010e+02  2.29158880e+01  1.00000005e+00\n",
      "    8.27353000e-05]]\n",
      "\n",
      " ...\n",
      "\n",
      " [[ 3.87095740e+00 -4.14372070e+03  3.28554120e+01  9.99999225e+00\n",
      "    7.20208206e-01]]\n",
      "\n",
      " [[ 3.54922100e+00  0.00000000e+00  2.03954520e+01  3.00000031e+01\n",
      "    7.26047100e-03]]\n",
      "\n",
      " [[ 4.19958500e+00  1.76681470e+02  2.43064730e+01  3.00000036e+01\n",
      "    1.00000000e+00]]]\n"
     ]
    }
   ],
   "source": [
    "X_train, X_test, y_train, y_test = train_test_split(X, y, test_size = 0.2, random_state=1234)\n",
    "\n",
    "X_train = np.expand_dims(np.array(X_train),1)\n",
    "y_train = np.expand_dims(np.array(y_train),1)\n",
    "X_test = np.expand_dims(np.array(X_test),1)\n",
    "y_test = np.expand_dims(np.array(y_test),1)\n",
    "\n",
    "#pipelines = {\n",
    "#    'mlp'   : make_pipeline(StandardScaler(), MLPRegressor(random_state=1234))\n",
    "#}\n",
    "print(X_train)"
   ]
  },
  {
   "cell_type": "code",
   "execution_count": 15,
   "metadata": {},
   "outputs": [
    {
     "name": "stdout",
     "output_type": "stream",
     "text": [
      "0         0.000000\n",
      "1         0.006207\n",
      "2         0.012415\n",
      "3         0.018616\n",
      "4         0.024821\n",
      "            ...   \n",
      "385424    0.007260\n",
      "385425    0.007260\n",
      "385426    0.007260\n",
      "385427    0.007260\n",
      "385428    0.007260\n",
      "Name: soc, Length: 385429, dtype: float64\n"
     ]
    }
   ],
   "source": [
    "print(y)"
   ]
  },
  {
   "cell_type": "code",
   "execution_count": 16,
   "metadata": {},
   "outputs": [],
   "source": [
    "from sklearn.preprocessing import MinMaxScaler"
   ]
  },
  {
   "cell_type": "code",
   "execution_count": 17,
   "metadata": {},
   "outputs": [],
   "source": [
    "dataset = df.soc.values #numpy.ndarray\n",
    "dataset = dataset.astype('float64')\n",
    "dataset = np.reshape(dataset, (-1, 1))\n",
    "scaler = MinMaxScaler(feature_range=(0, 1))\n",
    "dataset = scaler.fit_transform(dataset)\n",
    "train_size = int(len(dataset) * 0.80)\n",
    "test_size = len(dataset) - train_size\n",
    "train, test = dataset[0:train_size,:], dataset[train_size:len(dataset),:]"
   ]
  },
  {
   "cell_type": "code",
   "execution_count": 18,
   "metadata": {},
   "outputs": [
    {
     "name": "stdout",
     "output_type": "stream",
     "text": [
      "float64\n",
      "float64\n",
      "float64\n",
      "float64\n"
     ]
    }
   ],
   "source": [
    "print(X_train.dtype)\n",
    "print(y_train.dtype)\n",
    "print(X_test.dtype)\n",
    "print(y_test.dtype)"
   ]
  },
  {
   "cell_type": "code",
   "execution_count": 19,
   "metadata": {},
   "outputs": [
    {
     "data": {
      "text/plain": [
       "(308343, 1, 5)"
      ]
     },
     "execution_count": 19,
     "metadata": {},
     "output_type": "execute_result"
    }
   ],
   "source": [
    "X_train.shape"
   ]
  },
  {
   "cell_type": "code",
   "execution_count": 20,
   "metadata": {},
   "outputs": [
    {
     "data": {
      "text/plain": [
       "(308343, 1)"
      ]
     },
     "execution_count": 20,
     "metadata": {},
     "output_type": "execute_result"
    }
   ],
   "source": [
    "y_train.shape"
   ]
  },
  {
   "cell_type": "code",
   "execution_count": 21,
   "metadata": {},
   "outputs": [],
   "source": [
    "## Import Necessary Modules\n",
    "import tensorflow as tf\n",
    "from tensorflow.keras.layers import Activation\n",
    "from tensorflow.keras.utils import get_custom_objects\n",
    "from tensorflow import keras\n",
    "class Mish(Activation):\n",
    "    '''\n",
    "    Mish Activation Function.\n",
    "    .. math::\n",
    "        mish(x) = x * tanh(softplus(x)) = x * tanh(ln(1 + e^{x}))\n",
    "    Shape:\n",
    "        - Input: Arbitrary. Use the keyword argument `input_shape`\n",
    "        (tuple of integers, does not include the samples axis)\n",
    "        when using this layer as the first layer in a model.\n",
    "        - Output: Same shape as the input.\n",
    "    Examples:\n",
    "        >>> X = Activation('Mish', name=\"conv1_act\")(X_input)\n",
    "    '''\n",
    "\n",
    "    def __init__(self, activation, **kwargs):\n",
    "        super(Mish, self).__init__(activation, **kwargs)\n",
    "        self.__name__ = 'Mish'\n",
    "\n",
    "\n",
    "def mish(inputs):\n",
    "    return inputs * tf.math.tanh(tf.math.softplus(inputs))\n",
    "\n",
    "get_custom_objects().update({'Mish': Mish(mish)})"
   ]
  },
  {
   "cell_type": "code",
   "execution_count": 22,
   "metadata": {},
   "outputs": [
    {
     "name": "stdout",
     "output_type": "stream",
     "text": [
      "Model: \"sequential\"\n",
      "_________________________________________________________________\n",
      "Layer (type)                 Output Shape              Param #   \n",
      "=================================================================\n",
      "conv1 (Conv1D)               (None, None, 32)          2592      \n",
      "_________________________________________________________________\n",
      "batch_normalization (BatchNo (None, None, 32)          128       \n",
      "_________________________________________________________________\n",
      "activation (Activation)      (None, None, 32)          0         \n",
      "_________________________________________________________________\n",
      "conv2 (Conv1D)               (None, None, 16)          2576      \n",
      "_________________________________________________________________\n",
      "batch_normalization_1 (Batch (None, None, 16)          64        \n",
      "_________________________________________________________________\n",
      "activation_1 (Activation)    (None, None, 16)          0         \n",
      "_________________________________________________________________\n",
      "conv3 (Conv1D)               (None, None, 8)           392       \n",
      "_________________________________________________________________\n",
      "batch_normalization_2 (Batch (None, None, 8)           32        \n",
      "_________________________________________________________________\n",
      "activation_2 (Activation)    (None, None, 8)           0         \n",
      "_________________________________________________________________\n",
      "conv4 (Conv1D)               (None, None, 1)           9         \n",
      "_________________________________________________________________\n",
      "batch_normalization_3 (Batch (None, None, 1)           4         \n",
      "_________________________________________________________________\n",
      "activation_3 (Activation)    (None, None, 1)           0         \n",
      "_________________________________________________________________\n",
      "global_average_pooling1d (Gl (None, 1)                 0         \n",
      "_________________________________________________________________\n",
      "activation_4 (Activation)    (None, 1)                 0         \n",
      "=================================================================\n",
      "Total params: 5,797\n",
      "Trainable params: 5,683\n",
      "Non-trainable params: 114\n",
      "_________________________________________________________________\n"
     ]
    }
   ],
   "source": [
    "model = Sequential()\n",
    "\n",
    "model.add(tf.keras.layers.Conv1D(32, 16, padding='same' , name = 'conv1', activity_regularizer=tf.keras.regularizers.l2(0.001)))\n",
    "model.add(tf.keras.layers.BatchNormalization())\n",
    "model.add(tf.keras.layers.Activation(\"Mish\"))\n",
    "\n",
    "model.add(tf.keras.layers.Conv1D(16, 5, padding='same', name = 'conv2', activity_regularizer=tf.keras.regularizers.l2(0.001)))\n",
    "model.add(tf.keras.layers.BatchNormalization())\n",
    "model.add(tf.keras.layers.Activation(\"Mish\"))\n",
    "\n",
    "model.add(tf.keras.layers.Conv1D(8, 3, padding='same' , name = 'conv3', activity_regularizer=tf.keras.regularizers.l2(0.001)))\n",
    "model.add(tf.keras.layers.BatchNormalization())\n",
    "model.add(tf.keras.layers.Activation(\"Mish\"))\n",
    "\n",
    "model.add(tf.keras.layers.Conv1D(1, 1, name = 'conv4', activity_regularizer=tf.keras.regularizers.l2(0.001)))\n",
    "model.add(tf.keras.layers.BatchNormalization())\n",
    "model.add(tf.keras.layers.Activation(\"Mish\"))\n",
    "\n",
    "model.add(tf.keras.layers.GlobalAveragePooling1D())\n",
    "model.add(tf.keras.layers.Activation(\"relu\"))\n",
    "#model.add(tf.keras.layers.Dense(1))\n",
    "\n",
    "model.build(input_shape=(None,None,5))\n",
    "\n",
    "model.summary()"
   ]
  },
  {
   "cell_type": "code",
   "execution_count": null,
   "metadata": {},
   "outputs": [],
   "source": [
    "!pip install tensorflow-addons"
   ]
  },
  {
   "cell_type": "code",
   "execution_count": null,
   "metadata": {},
   "outputs": [],
   "source": [
    "y_train[25]"
   ]
  },
  {
   "cell_type": "code",
   "execution_count": 23,
   "metadata": {},
   "outputs": [],
   "source": [
    "from sklearn.preprocessing import MinMaxScaler\n",
    "from sklearn.metrics import mean_squared_error\n",
    "from sklearn.metrics import mean_absolute_error\n",
    "from keras.callbacks import EarlyStopping\n",
    "from keras.callbacks import ModelCheckpoint\n",
    "from keras.models import load_model"
   ]
  },
  {
   "cell_type": "code",
   "execution_count": 24,
   "metadata": {},
   "outputs": [],
   "source": [
    "import time\n",
    "import psutil\n",
    "\n",
    "start = time.time()"
   ]
  },
  {
   "cell_type": "code",
   "execution_count": 25,
   "metadata": {},
   "outputs": [
    {
     "name": "stderr",
     "output_type": "stream",
     "text": [
      "c:\\users\\ramprakash sekhar\\appdata\\local\\programs\\python\\python37\\lib\\site-packages\\tensorflow_addons\\utils\\ensure_tf_install.py:67: UserWarning: Tensorflow Addons supports using Python ops for all Tensorflow versions above or equal to 2.5.0 and strictly below 2.8.0 (nightly versions are not supported). \n",
      " The versions of TensorFlow you are currently using is 2.4.1 and is not supported. \n",
      "Some things might work, some things might not.\n",
      "If you were to encounter a bug, do not file an issue.\n",
      "If you want to make sure you're using a tested and supported configuration, either change the TensorFlow version or the TensorFlow Addons's version. \n",
      "You can find the compatibility matrix in TensorFlow Addon's readme:\n",
      "https://github.com/tensorflow/addons\n",
      "  UserWarning,\n"
     ]
    },
    {
     "name": "stdout",
     "output_type": "stream",
     "text": [
      "Epoch 1/50\n",
      "4818/4818 [==============================] - 31s 6ms/step - loss: 278.3465 - mean_absolute_error: 0.2239 - root_mean_squared_error: 0.3660 - val_loss: 0.2248 - val_mean_absolute_error: 0.1639 - val_root_mean_squared_error: 0.4716\n",
      "Epoch 2/50\n",
      "4818/4818 [==============================] - 28s 6ms/step - loss: 0.1481 - mean_absolute_error: 0.0957 - root_mean_squared_error: 0.1589 - val_loss: 0.1754 - val_mean_absolute_error: 0.1460 - val_root_mean_squared_error: 0.2389\n",
      "Epoch 3/50\n",
      "4818/4818 [==============================] - 28s 6ms/step - loss: 0.1182 - mean_absolute_error: 0.0806 - root_mean_squared_error: 0.1301 - val_loss: 0.1620 - val_mean_absolute_error: 0.1121 - val_root_mean_squared_error: 0.1676\n",
      "Epoch 4/50\n",
      "4818/4818 [==============================] - 28s 6ms/step - loss: 0.1052 - mean_absolute_error: 0.0720 - root_mean_squared_error: 0.1137 - val_loss: 0.1508 - val_mean_absolute_error: 0.1163 - val_root_mean_squared_error: 0.1593\n",
      "Epoch 5/50\n",
      "4818/4818 [==============================] - 29s 6ms/step - loss: 0.0961 - mean_absolute_error: 0.0645 - root_mean_squared_error: 0.1026 - val_loss: 0.1395 - val_mean_absolute_error: 0.1182 - val_root_mean_squared_error: 0.1454\n",
      "Epoch 6/50\n",
      "4818/4818 [==============================] - 26s 5ms/step - loss: 0.0869 - mean_absolute_error: 0.0585 - root_mean_squared_error: 0.0951 - val_loss: 0.1415 - val_mean_absolute_error: 0.1108 - val_root_mean_squared_error: 0.1552\n",
      "Epoch 7/50\n",
      "4818/4818 [==============================] - 27s 6ms/step - loss: 0.0807 - mean_absolute_error: 0.0548 - root_mean_squared_error: 0.0898 - val_loss: 0.0817 - val_mean_absolute_error: 0.0666 - val_root_mean_squared_error: 0.0840\n",
      "Epoch 8/50\n",
      "4818/4818 [==============================] - 28s 6ms/step - loss: 0.0764 - mean_absolute_error: 0.0512 - root_mean_squared_error: 0.0836 - val_loss: 0.1515 - val_mean_absolute_error: 0.1121 - val_root_mean_squared_error: 0.1542\n",
      "Epoch 9/50\n",
      "4818/4818 [==============================] - 27s 6ms/step - loss: 0.0729 - mean_absolute_error: 0.0492 - root_mean_squared_error: 0.0804 - val_loss: 0.1238 - val_mean_absolute_error: 0.1021 - val_root_mean_squared_error: 0.1284\n",
      "Epoch 10/50\n",
      "4818/4818 [==============================] - 28s 6ms/step - loss: 0.0688 - mean_absolute_error: 0.0474 - root_mean_squared_error: 0.0771 - val_loss: 0.0867 - val_mean_absolute_error: 0.0733 - val_root_mean_squared_error: 0.0868\n",
      "Epoch 11/50\n",
      "4818/4818 [==============================] - 28s 6ms/step - loss: 0.0680 - mean_absolute_error: 0.0458 - root_mean_squared_error: 0.0747 - val_loss: 0.1007 - val_mean_absolute_error: 0.0865 - val_root_mean_squared_error: 0.1047\n",
      "Epoch 12/50\n",
      "4818/4818 [==============================] - 29s 6ms/step - loss: 0.0648 - mean_absolute_error: 0.0438 - root_mean_squared_error: 0.0715 - val_loss: 0.0996 - val_mean_absolute_error: 0.0773 - val_root_mean_squared_error: 0.1228\n",
      "Epoch 13/50\n",
      "4818/4818 [==============================] - 28s 6ms/step - loss: 0.0663 - mean_absolute_error: 0.0451 - root_mean_squared_error: 0.0729 - val_loss: 0.0851 - val_mean_absolute_error: 0.0725 - val_root_mean_squared_error: 0.0885\n",
      "Epoch 14/50\n",
      "4818/4818 [==============================] - 28s 6ms/step - loss: 0.0620 - mean_absolute_error: 0.0427 - root_mean_squared_error: 0.0695 - val_loss: 0.0867 - val_mean_absolute_error: 0.0729 - val_root_mean_squared_error: 0.1043\n",
      "Epoch 15/50\n",
      "4818/4818 [==============================] - 28s 6ms/step - loss: 0.0600 - mean_absolute_error: 0.0417 - root_mean_squared_error: 0.0663 - val_loss: 0.1043 - val_mean_absolute_error: 0.0879 - val_root_mean_squared_error: 0.1396\n",
      "Epoch 16/50\n",
      "4818/4818 [==============================] - 28s 6ms/step - loss: 0.0593 - mean_absolute_error: 0.0413 - root_mean_squared_error: 0.0659 - val_loss: 0.0766 - val_mean_absolute_error: 0.0620 - val_root_mean_squared_error: 0.1046\n",
      "Epoch 17/50\n",
      "4818/4818 [==============================] - 28s 6ms/step - loss: 0.0575 - mean_absolute_error: 0.0404 - root_mean_squared_error: 0.0640 - val_loss: 0.0611 - val_mean_absolute_error: 0.0467 - val_root_mean_squared_error: 0.0594\n",
      "Epoch 18/50\n",
      "4818/4818 [==============================] - 27s 6ms/step - loss: 0.0576 - mean_absolute_error: 0.0397 - root_mean_squared_error: 0.0638 - val_loss: 0.0913 - val_mean_absolute_error: 0.0626 - val_root_mean_squared_error: 0.1082\n",
      "Epoch 19/50\n",
      "4818/4818 [==============================] - 28s 6ms/step - loss: 0.0563 - mean_absolute_error: 0.0394 - root_mean_squared_error: 0.0624 - val_loss: 0.0532 - val_mean_absolute_error: 0.0407 - val_root_mean_squared_error: 0.0598\n",
      "Epoch 20/50\n",
      "4818/4818 [==============================] - 28s 6ms/step - loss: 0.0538 - mean_absolute_error: 0.0378 - root_mean_squared_error: 0.0593 - val_loss: 0.0486 - val_mean_absolute_error: 0.0351 - val_root_mean_squared_error: 0.0502\n",
      "Epoch 21/50\n",
      "4818/4818 [==============================] - 28s 6ms/step - loss: 0.0532 - mean_absolute_error: 0.0377 - root_mean_squared_error: 0.0588 - val_loss: 0.0644 - val_mean_absolute_error: 0.0490 - val_root_mean_squared_error: 0.0706\n",
      "Epoch 22/50\n",
      "4818/4818 [==============================] - 28s 6ms/step - loss: 0.0527 - mean_absolute_error: 0.0372 - root_mean_squared_error: 0.0580 - val_loss: 0.0487 - val_mean_absolute_error: 0.0399 - val_root_mean_squared_error: 0.0607\n",
      "Epoch 23/50\n",
      "4818/4818 [==============================] - 28s 6ms/step - loss: 0.0524 - mean_absolute_error: 0.0370 - root_mean_squared_error: 0.0581 - val_loss: 0.0675 - val_mean_absolute_error: 0.0486 - val_root_mean_squared_error: 0.0934\n",
      "Epoch 24/50\n",
      "4818/4818 [==============================] - 28s 6ms/step - loss: 0.0520 - mean_absolute_error: 0.0364 - root_mean_squared_error: 0.0575 - val_loss: 0.0364 - val_mean_absolute_error: 0.0285 - val_root_mean_squared_error: 0.0389\n",
      "Epoch 25/50\n",
      "4818/4818 [==============================] - 26s 5ms/step - loss: 0.0481 - mean_absolute_error: 0.0344 - root_mean_squared_error: 0.0527 - val_loss: 0.0574 - val_mean_absolute_error: 0.0425 - val_root_mean_squared_error: 0.0773\n",
      "Epoch 26/50\n",
      "4818/4818 [==============================] - 28s 6ms/step - loss: 0.0491 - mean_absolute_error: 0.0347 - root_mean_squared_error: 0.0541 - val_loss: 0.0906 - val_mean_absolute_error: 0.0683 - val_root_mean_squared_error: 0.1311\n",
      "Epoch 27/50\n",
      "4818/4818 [==============================] - 28s 6ms/step - loss: 0.0484 - mean_absolute_error: 0.0344 - root_mean_squared_error: 0.0544 - val_loss: 0.0365 - val_mean_absolute_error: 0.0245 - val_root_mean_squared_error: 0.0567\n",
      "Epoch 28/50\n",
      "4818/4818 [==============================] - 28s 6ms/step - loss: 0.0476 - mean_absolute_error: 0.0338 - root_mean_squared_error: 0.0525 - val_loss: 0.0479 - val_mean_absolute_error: 0.0359 - val_root_mean_squared_error: 0.0586\n",
      "Epoch 29/50\n",
      "4818/4818 [==============================] - 27s 6ms/step - loss: 0.0463 - mean_absolute_error: 0.0326 - root_mean_squared_error: 0.0509 - val_loss: 0.0570 - val_mean_absolute_error: 0.0342 - val_root_mean_squared_error: 0.0609\n",
      "Epoch 30/50\n",
      "4818/4818 [==============================] - 28s 6ms/step - loss: 0.0473 - mean_absolute_error: 0.0335 - root_mean_squared_error: 0.0532 - val_loss: 0.0383 - val_mean_absolute_error: 0.0234 - val_root_mean_squared_error: 0.0339\n",
      "Epoch 31/50\n",
      "4818/4818 [==============================] - 28s 6ms/step - loss: 0.0470 - mean_absolute_error: 0.0334 - root_mean_squared_error: 0.0527 - val_loss: 0.0334 - val_mean_absolute_error: 0.0207 - val_root_mean_squared_error: 0.0319\n",
      "Epoch 32/50\n",
      "4818/4818 [==============================] - 28s 6ms/step - loss: 0.0456 - mean_absolute_error: 0.0320 - root_mean_squared_error: 0.0505 - val_loss: 0.0355 - val_mean_absolute_error: 0.0264 - val_root_mean_squared_error: 0.0558\n",
      "Epoch 33/50\n",
      "4818/4818 [==============================] - 28s 6ms/step - loss: 0.0462 - mean_absolute_error: 0.0324 - root_mean_squared_error: 0.0517 - val_loss: 0.0326 - val_mean_absolute_error: 0.0235 - val_root_mean_squared_error: 0.0368\n",
      "Epoch 34/50\n",
      "4818/4818 [==============================] - 28s 6ms/step - loss: 0.0455 - mean_absolute_error: 0.0319 - root_mean_squared_error: 0.0503 - val_loss: 0.0317 - val_mean_absolute_error: 0.0180 - val_root_mean_squared_error: 0.0284\n",
      "Epoch 35/50\n"
     ]
    },
    {
     "name": "stdout",
     "output_type": "stream",
     "text": [
      "4818/4818 [==============================] - 28s 6ms/step - loss: 0.0453 - mean_absolute_error: 0.0317 - root_mean_squared_error: 0.0505 - val_loss: 0.0603 - val_mean_absolute_error: 0.0398 - val_root_mean_squared_error: 0.0690\n",
      "Epoch 36/50\n",
      "4818/4818 [==============================] - 28s 6ms/step - loss: 0.0433 - mean_absolute_error: 0.0306 - root_mean_squared_error: 0.0486 - val_loss: 0.0266 - val_mean_absolute_error: 0.0174 - val_root_mean_squared_error: 0.0255\n",
      "Epoch 37/50\n",
      "4818/4818 [==============================] - 28s 6ms/step - loss: 0.0441 - mean_absolute_error: 0.0310 - root_mean_squared_error: 0.0527 - val_loss: 0.0323 - val_mean_absolute_error: 0.0218 - val_root_mean_squared_error: 0.0321\n",
      "Epoch 38/50\n",
      "4818/4818 [==============================] - 29s 6ms/step - loss: 0.0435 - mean_absolute_error: 0.0306 - root_mean_squared_error: 0.0498 - val_loss: 0.0361 - val_mean_absolute_error: 0.0224 - val_root_mean_squared_error: 0.0315\n",
      "Epoch 39/50\n",
      "4818/4818 [==============================] - 28s 6ms/step - loss: 0.0427 - mean_absolute_error: 0.0300 - root_mean_squared_error: 0.0482 - val_loss: 0.0227 - val_mean_absolute_error: 0.0115 - val_root_mean_squared_error: 0.0177\n",
      "Epoch 40/50\n",
      "4818/4818 [==============================] - 28s 6ms/step - loss: 0.0438 - mean_absolute_error: 0.0303 - root_mean_squared_error: 0.0490 - val_loss: 0.0349 - val_mean_absolute_error: 0.0222 - val_root_mean_squared_error: 0.0367\n",
      "Epoch 41/50\n",
      "4818/4818 [==============================] - 28s 6ms/step - loss: 0.0425 - mean_absolute_error: 0.0296 - root_mean_squared_error: 0.0481 - val_loss: 0.0393 - val_mean_absolute_error: 0.0268 - val_root_mean_squared_error: 0.0421\n",
      "Epoch 42/50\n",
      "4818/4818 [==============================] - 28s 6ms/step - loss: 0.0418 - mean_absolute_error: 0.0291 - root_mean_squared_error: 0.0472 - val_loss: 0.0296 - val_mean_absolute_error: 0.0166 - val_root_mean_squared_error: 0.0247\n",
      "Epoch 43/50\n",
      "4818/4818 [==============================] - 28s 6ms/step - loss: 0.0408 - mean_absolute_error: 0.0279 - root_mean_squared_error: 0.0450 - val_loss: 0.0282 - val_mean_absolute_error: 0.0181 - val_root_mean_squared_error: 0.0261\n",
      "Epoch 44/50\n",
      "4818/4818 [==============================] - 28s 6ms/step - loss: 0.0406 - mean_absolute_error: 0.0275 - root_mean_squared_error: 0.0443 - val_loss: 0.0608 - val_mean_absolute_error: 0.0485 - val_root_mean_squared_error: 0.0966\n",
      "Epoch 45/50\n",
      "4818/4818 [==============================] - 28s 6ms/step - loss: 0.0418 - mean_absolute_error: 0.0287 - root_mean_squared_error: 0.0480 - val_loss: 0.0449 - val_mean_absolute_error: 0.0315 - val_root_mean_squared_error: 0.0555\n",
      "Epoch 46/50\n",
      "4818/4818 [==============================] - 28s 6ms/step - loss: 0.0414 - mean_absolute_error: 0.0284 - root_mean_squared_error: 0.0467 - val_loss: 0.0350 - val_mean_absolute_error: 0.0252 - val_root_mean_squared_error: 0.0422\n",
      "Epoch 47/50\n",
      "4818/4818 [==============================] - 28s 6ms/step - loss: 0.0412 - mean_absolute_error: 0.0280 - root_mean_squared_error: 0.0472 - val_loss: 0.0223 - val_mean_absolute_error: 0.0135 - val_root_mean_squared_error: 0.0216\n",
      "Epoch 48/50\n",
      "4818/4818 [==============================] - 28s 6ms/step - loss: 0.0399 - mean_absolute_error: 0.0273 - root_mean_squared_error: 0.0453 - val_loss: 0.0255 - val_mean_absolute_error: 0.0163 - val_root_mean_squared_error: 0.0229\n",
      "Epoch 49/50\n",
      "4818/4818 [==============================] - 28s 6ms/step - loss: 0.0422 - mean_absolute_error: 0.0277 - root_mean_squared_error: 0.0472 - val_loss: 0.0240 - val_mean_absolute_error: 0.0151 - val_root_mean_squared_error: 0.0224\n",
      "Epoch 50/50\n",
      "4818/4818 [==============================] - 27s 6ms/step - loss: 0.0399 - mean_absolute_error: 0.0266 - root_mean_squared_error: 0.0446 - val_loss: 0.0231 - val_mean_absolute_error: 0.0091 - val_root_mean_squared_error: 0.0143\n"
     ]
    }
   ],
   "source": [
    "import tensorflow_addons as tfa\n",
    "model.compile(loss='mean_absolute_error', optimizer=Adam(lr=0.0001), metrics=[tf.keras.metrics.MeanAbsoluteError(),tf.keras.metrics.RootMeanSquaredError()])\n",
    "#history = model.fit(X_train, y_train, epochs=1000, batch_size=64, validation_data = (X_test,y_test))\n",
    "\n",
    "history = model.fit(X_train, y_train, epochs=50, batch_size=64, validation_data=(X_test, y_test))"
   ]
  },
  {
   "cell_type": "code",
   "execution_count": 26,
   "metadata": {},
   "outputs": [
    {
     "name": "stdout",
     "output_type": "stream",
     "text": [
      "Time taken: 1662.4009783267975\n"
     ]
    }
   ],
   "source": [
    "end = time.time()\n",
    "print(\"Time taken:\", end- start)"
   ]
  },
  {
   "cell_type": "code",
   "execution_count": 27,
   "metadata": {},
   "outputs": [
    {
     "name": "stdout",
     "output_type": "stream",
     "text": [
      "501084160\n"
     ]
    }
   ],
   "source": [
    "print(psutil.Process().memory_info().peak_wset)"
   ]
  },
  {
   "cell_type": "code",
   "execution_count": 28,
   "metadata": {},
   "outputs": [
    {
     "data": {
      "text/plain": [
       "<tf.Tensor: shape=(1, 1), dtype=float32, numpy=array([[0.50903684]], dtype=float32)>"
      ]
     },
     "execution_count": 28,
     "metadata": {},
     "output_type": "execute_result"
    }
   ],
   "source": [
    "model(np.expand_dims(X_train[0],0))"
   ]
  },
  {
   "cell_type": "code",
   "execution_count": 29,
   "metadata": {},
   "outputs": [
    {
     "data": {
      "image/png": "[encoded data removed]",
      "text/plain": [
       "<Figure size 432x288 with 1 Axes>"
      ]
     },
     "metadata": {},
     "output_type": "display_data"
    }
   ],
   "source": [
    "plt.plot(history.history['loss'])\n",
    "plt.plot(history.history['val_loss'])\n",
    "plt.title('Model Loss')\n",
    "plt.ylabel('Loss')\n",
    "plt.xlabel('Epochs')\n",
    "plt.legend(['train', 'validation'])\n",
    "plt.show()"
   ]
  },
  {
   "cell_type": "code",
   "execution_count": 30,
   "metadata": {},
   "outputs": [
    {
     "data": {
      "image/png": "[encoded data removed]",
      "text/plain": [
       "<Figure size 432x288 with 1 Axes>"
      ]
     },
     "metadata": {},
     "output_type": "display_data"
    }
   ],
   "source": [
    "plt.plot(history.history['root_mean_squared_error'])\n",
    "plt.plot(history.history['val_root_mean_squared_error'])\n",
    "plt.title('Model Accuracy')\n",
    "plt.ylabel('Accuracy')\n",
    "plt.xlabel('Epochs')\n",
    "plt.legend(['train', 'test'])\n",
    "plt.show()"
   ]
  },
  {
   "cell_type": "code",
   "execution_count": 31,
   "metadata": {},
   "outputs": [
    {
     "name": "stdout",
     "output_type": "stream",
     "text": [
      "2409/2409 [==============================] - 5s 2ms/step - loss: 0.0231 - mean_absolute_error: 0.0091 - root_mean_squared_error: 0.0143\n"
     ]
    },
    {
     "data": {
      "text/plain": [
       "[0.023090243339538574, 0.009091479703783989, 0.014309687539935112]"
      ]
     },
     "execution_count": 31,
     "metadata": {},
     "output_type": "execute_result"
    }
   ],
   "source": [
    "model.evaluate(X_test,y_test)"
   ]
  },
  {
   "cell_type": "code",
   "execution_count": 28,
   "metadata": {},
   "outputs": [
    {
     "data": {
      "text/plain": [
       "array([0.51647546])"
      ]
     },
     "execution_count": 28,
     "metadata": {},
     "output_type": "execute_result"
    }
   ],
   "source": [
    "y_train[0]"
   ]
  },
  {
   "cell_type": "code",
   "execution_count": 29,
   "metadata": {},
   "outputs": [
    {
     "data": {
      "text/plain": [
       "(308343, 1)"
      ]
     },
     "execution_count": 29,
     "metadata": {},
     "output_type": "execute_result"
    }
   ],
   "source": [
    "y_train.shape"
   ]
  },
  {
   "cell_type": "code",
   "execution_count": 30,
   "metadata": {},
   "outputs": [
    {
     "data": {
      "text/plain": [
       "<tf.Tensor: shape=(1, 1), dtype=float32, numpy=array([[0.47986355]], dtype=float32)>"
      ]
     },
     "execution_count": 30,
     "metadata": {},
     "output_type": "execute_result"
    }
   ],
   "source": [
    "model(np.expand_dims(X_train[25],0))"
   ]
  },
  {
   "cell_type": "code",
   "execution_count": null,
   "metadata": {},
   "outputs": [],
   "source": []
  },
  {
   "cell_type": "code",
   "execution_count": null,
   "metadata": {},
   "outputs": [],
   "source": []
  },
  {
   "cell_type": "code",
   "execution_count": null,
   "metadata": {},
   "outputs": [],
   "source": []
  }
 ],
 "metadata": {
  "kernelspec": {
   "display_name": "Python 3",
   "language": "python",
   "name": "python3"
  },
  "language_info": {
   "codemirror_mode": {
    "name": "ipython",
    "version": 3
   },
   "file_extension": ".py",
   "mimetype": "text/x-python",
   "name": "python",
   "nbconvert_exporter": "python",
   "pygments_lexer": "ipython3",
   "version": "3.7.8"
  }
 },
 "nbformat": 4,
 "nbformat_minor": 4
}
