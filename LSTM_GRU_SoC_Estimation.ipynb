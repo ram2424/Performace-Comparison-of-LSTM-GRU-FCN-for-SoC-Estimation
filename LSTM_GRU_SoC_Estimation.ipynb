{
 "cells": [
  {
   "cell_type": "code",
   "execution_count": 2,
   "metadata": {},
   "outputs": [],
   "source": [
    "# Numpy and Pandas \n",
    "import numpy as np\n",
    "import pandas as pd\n",
    "\n",
    "# Vizualization\n",
    "from matplotlib import pyplot as plt\n",
    "%matplotlib inline\n",
    "import seaborn as sns\n",
    "sns.set_style('darkgrid')\n",
    "\n",
    "# Machine learning algorithms\n",
    "from sklearn.neural_network import MLPRegressor\n",
    "from sklearn.ensemble import RandomForestRegressor\n",
    "# Machine learning pipeline \n",
    "from sklearn.model_selection import train_test_split\n",
    "from sklearn.pipeline import make_pipeline\n",
    "from sklearn.preprocessing import StandardScaler\n",
    "from sklearn.model_selection import GridSearchCV\n",
    "\n",
    "# Regression Metrics\n",
    "from sklearn.metrics import mean_absolute_error\n",
    "from sklearn.metrics import r2_score\n",
    "from sklearn.metrics import mean_squared_error\n",
    "\n",
    "# Ignore ConvergenceWarning messages\n",
    "import warnings\n",
    "from sklearn.exceptions import ConvergenceWarning\n",
    "warnings.simplefilter(action='ignore', category=ConvergenceWarning)\n",
    "\n",
    "# Check the fitted_model\n",
    "from sklearn.exceptions import NotFittedError\n",
    "\n",
    "# Save python object to disk\n",
    "import pickle\n",
    "\n",
    "from keras import backend as K\n",
    "\n",
    "\n",
    "\n",
    "import tensorflow as tf\n",
    "from tensorflow.keras import datasets, layers, models \n",
    "import numpy as np\n",
    "import matplotlib.pyplot as plt\n",
    "import random as rn\n",
    "from sklearn.metrics import confusion_matrix , classification_report\n",
    "import tensorflow.python.keras\n",
    "from tensorflow.python.keras.models import Sequential \n",
    "from tensorflow.python.keras.models import model_from_json\n",
    "from tensorflow.python.keras.layers import Dense, Activation, Dropout, Flatten\n",
    "from tensorflow.python.keras.layers import Conv2D, MaxPooling2D\n",
    "from tensorflow.python.keras import backend as K\n",
    "from tensorflow.keras.optimizers import Adam,SGD,Adagrad,Adadelta,RMSprop"
   ]
  },
  {
   "cell_type": "code",
   "execution_count": 3,
   "metadata": {},
   "outputs": [],
   "source": [
    "df = pd.read_csv('D:\\\\Ram\\\\MTech\\\\Final_Year_Paper_Work\\\\Battery_Management_System\\\\drive-download-20210806T114007Z-001\\\\Dataset\\\\Dataset_ANN\\\\US06 Highway Driving Schedule\\\\SP2_0C_US06\\\\Dataset_1.csv')"
   ]
  },
  {
   "cell_type": "code",
   "execution_count": 4,
   "metadata": {},
   "outputs": [
    {
     "data": {
      "text/html": [
       "<div>\n",
       "<style scoped>\n",
       "    .dataframe tbody tr th:only-of-type {\n",
       "        vertical-align: middle;\n",
       "    }\n",
       "\n",
       "    .dataframe tbody tr th {\n",
       "        vertical-align: top;\n",
       "    }\n",
       "\n",
       "    .dataframe thead th {\n",
       "        text-align: right;\n",
       "    }\n",
       "</style>\n",
       "<table border=\"1\" class=\"dataframe\">\n",
       "  <thead>\n",
       "    <tr style=\"text-align: right;\">\n",
       "      <th></th>\n",
       "      <th>Data_Point</th>\n",
       "      <th>Test_Time(s)</th>\n",
       "      <th>Date_Time</th>\n",
       "      <th>Step_Time(s)</th>\n",
       "      <th>Step_Index</th>\n",
       "      <th>Cycle_Index</th>\n",
       "      <th>Current(A)</th>\n",
       "      <th>Voltage(V)</th>\n",
       "      <th>SoC</th>\n",
       "      <th>Charge_Capacity(Ah)</th>\n",
       "      <th>Discharge_Capacity(Ah)</th>\n",
       "      <th>Charge_Energy(Wh)</th>\n",
       "      <th>Discharge_Energy(Wh)</th>\n",
       "      <th>dV/dt(V/s)</th>\n",
       "      <th>Internal_Resistance(Ohm)</th>\n",
       "      <th>Is_FC_Data</th>\n",
       "      <th>AC_Impedance(Ohm)</th>\n",
       "      <th>ACI_Phase_Angle(Deg)</th>\n",
       "    </tr>\n",
       "  </thead>\n",
       "  <tbody>\n",
       "    <tr>\n",
       "      <th>0</th>\n",
       "      <td>1</td>\n",
       "      <td>60.014861</td>\n",
       "      <td>26/02/2016 09:14:58</td>\n",
       "      <td>60.014862</td>\n",
       "      <td>1</td>\n",
       "      <td>1</td>\n",
       "      <td>0.000000</td>\n",
       "      <td>3.446318</td>\n",
       "      <td>0.525732</td>\n",
       "      <td>0.000000</td>\n",
       "      <td>0.000000</td>\n",
       "      <td>0.000000</td>\n",
       "      <td>0.000000</td>\n",
       "      <td>-0.000032</td>\n",
       "      <td>0</td>\n",
       "      <td>0</td>\n",
       "      <td>0</td>\n",
       "      <td>0</td>\n",
       "    </tr>\n",
       "    <tr>\n",
       "      <th>1</th>\n",
       "      <td>2</td>\n",
       "      <td>70.030711</td>\n",
       "      <td>26/02/2016 09:15:08</td>\n",
       "      <td>10.015606</td>\n",
       "      <td>2</td>\n",
       "      <td>1</td>\n",
       "      <td>0.999713</td>\n",
       "      <td>3.627587</td>\n",
       "      <td>0.626437</td>\n",
       "      <td>0.002781</td>\n",
       "      <td>0.000000</td>\n",
       "      <td>0.010067</td>\n",
       "      <td>0.000000</td>\n",
       "      <td>0.000940</td>\n",
       "      <td>0</td>\n",
       "      <td>0</td>\n",
       "      <td>0</td>\n",
       "      <td>0</td>\n",
       "    </tr>\n",
       "    <tr>\n",
       "      <th>2</th>\n",
       "      <td>3</td>\n",
       "      <td>80.046108</td>\n",
       "      <td>26/02/2016 09:15:18</td>\n",
       "      <td>20.031002</td>\n",
       "      <td>2</td>\n",
       "      <td>1</td>\n",
       "      <td>0.999533</td>\n",
       "      <td>3.634876</td>\n",
       "      <td>0.630487</td>\n",
       "      <td>0.005563</td>\n",
       "      <td>0.000000</td>\n",
       "      <td>0.020168</td>\n",
       "      <td>0.000000</td>\n",
       "      <td>0.000616</td>\n",
       "      <td>0</td>\n",
       "      <td>0</td>\n",
       "      <td>0</td>\n",
       "      <td>0</td>\n",
       "    </tr>\n",
       "    <tr>\n",
       "      <th>3</th>\n",
       "      <td>4</td>\n",
       "      <td>90.061672</td>\n",
       "      <td>26/02/2016 09:15:28</td>\n",
       "      <td>30.046566</td>\n",
       "      <td>2</td>\n",
       "      <td>1</td>\n",
       "      <td>0.999713</td>\n",
       "      <td>3.639574</td>\n",
       "      <td>0.633097</td>\n",
       "      <td>0.008344</td>\n",
       "      <td>0.000000</td>\n",
       "      <td>0.030284</td>\n",
       "      <td>0.000000</td>\n",
       "      <td>0.000324</td>\n",
       "      <td>0</td>\n",
       "      <td>0</td>\n",
       "      <td>0</td>\n",
       "      <td>0</td>\n",
       "    </tr>\n",
       "    <tr>\n",
       "      <th>4</th>\n",
       "      <td>5</td>\n",
       "      <td>100.077067</td>\n",
       "      <td>26/02/2016 09:15:38</td>\n",
       "      <td>40.061961</td>\n",
       "      <td>2</td>\n",
       "      <td>1</td>\n",
       "      <td>0.999713</td>\n",
       "      <td>3.643138</td>\n",
       "      <td>0.635077</td>\n",
       "      <td>0.011125</td>\n",
       "      <td>0.000000</td>\n",
       "      <td>0.040412</td>\n",
       "      <td>0.000000</td>\n",
       "      <td>0.000292</td>\n",
       "      <td>0</td>\n",
       "      <td>0</td>\n",
       "      <td>0</td>\n",
       "      <td>0</td>\n",
       "    </tr>\n",
       "    <tr>\n",
       "      <th>...</th>\n",
       "      <td>...</td>\n",
       "      <td>...</td>\n",
       "      <td>...</td>\n",
       "      <td>...</td>\n",
       "      <td>...</td>\n",
       "      <td>...</td>\n",
       "      <td>...</td>\n",
       "      <td>...</td>\n",
       "      <td>...</td>\n",
       "      <td>...</td>\n",
       "      <td>...</td>\n",
       "      <td>...</td>\n",
       "      <td>...</td>\n",
       "      <td>...</td>\n",
       "      <td>...</td>\n",
       "      <td>...</td>\n",
       "      <td>...</td>\n",
       "      <td>...</td>\n",
       "    </tr>\n",
       "    <tr>\n",
       "      <th>11440</th>\n",
       "      <td>11441</td>\n",
       "      <td>29162.278180</td>\n",
       "      <td>26/02/2016 17:20:05</td>\n",
       "      <td>574.383064</td>\n",
       "      <td>7</td>\n",
       "      <td>1</td>\n",
       "      <td>-3.692054</td>\n",
       "      <td>2.650615</td>\n",
       "      <td>0.083675</td>\n",
       "      <td>2.059422</td>\n",
       "      <td>2.000146</td>\n",
       "      <td>7.991865</td>\n",
       "      <td>7.084445</td>\n",
       "      <td>-0.128719</td>\n",
       "      <td>0</td>\n",
       "      <td>0</td>\n",
       "      <td>0</td>\n",
       "      <td>0</td>\n",
       "    </tr>\n",
       "    <tr>\n",
       "      <th>11441</th>\n",
       "      <td>11442</td>\n",
       "      <td>29163.293660</td>\n",
       "      <td>26/02/2016 17:20:06</td>\n",
       "      <td>575.398544</td>\n",
       "      <td>7</td>\n",
       "      <td>1</td>\n",
       "      <td>-1.655410</td>\n",
       "      <td>2.787336</td>\n",
       "      <td>0.159631</td>\n",
       "      <td>2.059422</td>\n",
       "      <td>2.000980</td>\n",
       "      <td>7.991865</td>\n",
       "      <td>7.086651</td>\n",
       "      <td>-0.074937</td>\n",
       "      <td>0</td>\n",
       "      <td>0</td>\n",
       "      <td>0</td>\n",
       "      <td>0</td>\n",
       "    </tr>\n",
       "    <tr>\n",
       "      <th>11442</th>\n",
       "      <td>11443</td>\n",
       "      <td>29164.309340</td>\n",
       "      <td>26/02/2016 17:20:07</td>\n",
       "      <td>576.414224</td>\n",
       "      <td>7</td>\n",
       "      <td>1</td>\n",
       "      <td>-1.910755</td>\n",
       "      <td>2.758664</td>\n",
       "      <td>0.143702</td>\n",
       "      <td>2.059422</td>\n",
       "      <td>2.001473</td>\n",
       "      <td>7.991865</td>\n",
       "      <td>7.088023</td>\n",
       "      <td>-0.054850</td>\n",
       "      <td>0</td>\n",
       "      <td>0</td>\n",
       "      <td>0</td>\n",
       "      <td>0</td>\n",
       "    </tr>\n",
       "    <tr>\n",
       "      <th>11443</th>\n",
       "      <td>11444</td>\n",
       "      <td>29165.309470</td>\n",
       "      <td>26/02/2016 17:20:08</td>\n",
       "      <td>577.414355</td>\n",
       "      <td>7</td>\n",
       "      <td>1</td>\n",
       "      <td>-3.444446</td>\n",
       "      <td>2.544673</td>\n",
       "      <td>0.024818</td>\n",
       "      <td>2.059422</td>\n",
       "      <td>2.002160</td>\n",
       "      <td>7.991865</td>\n",
       "      <td>7.089851</td>\n",
       "      <td>-0.084236</td>\n",
       "      <td>0</td>\n",
       "      <td>0</td>\n",
       "      <td>0</td>\n",
       "      <td>0</td>\n",
       "    </tr>\n",
       "    <tr>\n",
       "      <th>11444</th>\n",
       "      <td>11445</td>\n",
       "      <td>29165.809200</td>\n",
       "      <td>26/02/2016 17:20:09</td>\n",
       "      <td>577.914084</td>\n",
       "      <td>7</td>\n",
       "      <td>1</td>\n",
       "      <td>-3.444446</td>\n",
       "      <td>2.499477</td>\n",
       "      <td>-0.000290</td>\n",
       "      <td>2.059422</td>\n",
       "      <td>2.002639</td>\n",
       "      <td>7.991865</td>\n",
       "      <td>7.091057</td>\n",
       "      <td>-0.083167</td>\n",
       "      <td>0</td>\n",
       "      <td>0</td>\n",
       "      <td>0</td>\n",
       "      <td>0</td>\n",
       "    </tr>\n",
       "  </tbody>\n",
       "</table>\n",
       "<p>11445 rows × 18 columns</p>\n",
       "</div>"
      ],
      "text/plain": [
       "       Data_Point  Test_Time(s)            Date_Time  Step_Time(s)  \\\n",
       "0               1     60.014861  26/02/2016 09:14:58     60.014862   \n",
       "1               2     70.030711  26/02/2016 09:15:08     10.015606   \n",
       "2               3     80.046108  26/02/2016 09:15:18     20.031002   \n",
       "3               4     90.061672  26/02/2016 09:15:28     30.046566   \n",
       "4               5    100.077067  26/02/2016 09:15:38     40.061961   \n",
       "...           ...           ...                  ...           ...   \n",
       "11440       11441  29162.278180  26/02/2016 17:20:05    574.383064   \n",
       "11441       11442  29163.293660  26/02/2016 17:20:06    575.398544   \n",
       "11442       11443  29164.309340  26/02/2016 17:20:07    576.414224   \n",
       "11443       11444  29165.309470  26/02/2016 17:20:08    577.414355   \n",
       "11444       11445  29165.809200  26/02/2016 17:20:09    577.914084   \n",
       "\n",
       "       Step_Index  Cycle_Index  Current(A)  Voltage(V)       SoC  \\\n",
       "0               1            1    0.000000    3.446318  0.525732   \n",
       "1               2            1    0.999713    3.627587  0.626437   \n",
       "2               2            1    0.999533    3.634876  0.630487   \n",
       "3               2            1    0.999713    3.639574  0.633097   \n",
       "4               2            1    0.999713    3.643138  0.635077   \n",
       "...           ...          ...         ...         ...       ...   \n",
       "11440           7            1   -3.692054    2.650615  0.083675   \n",
       "11441           7            1   -1.655410    2.787336  0.159631   \n",
       "11442           7            1   -1.910755    2.758664  0.143702   \n",
       "11443           7            1   -3.444446    2.544673  0.024818   \n",
       "11444           7            1   -3.444446    2.499477 -0.000290   \n",
       "\n",
       "       Charge_Capacity(Ah)  Discharge_Capacity(Ah)  Charge_Energy(Wh)  \\\n",
       "0                 0.000000                0.000000           0.000000   \n",
       "1                 0.002781                0.000000           0.010067   \n",
       "2                 0.005563                0.000000           0.020168   \n",
       "3                 0.008344                0.000000           0.030284   \n",
       "4                 0.011125                0.000000           0.040412   \n",
       "...                    ...                     ...                ...   \n",
       "11440             2.059422                2.000146           7.991865   \n",
       "11441             2.059422                2.000980           7.991865   \n",
       "11442             2.059422                2.001473           7.991865   \n",
       "11443             2.059422                2.002160           7.991865   \n",
       "11444             2.059422                2.002639           7.991865   \n",
       "\n",
       "       Discharge_Energy(Wh)  dV/dt(V/s)  Internal_Resistance(Ohm)  Is_FC_Data  \\\n",
       "0                  0.000000   -0.000032                         0           0   \n",
       "1                  0.000000    0.000940                         0           0   \n",
       "2                  0.000000    0.000616                         0           0   \n",
       "3                  0.000000    0.000324                         0           0   \n",
       "4                  0.000000    0.000292                         0           0   \n",
       "...                     ...         ...                       ...         ...   \n",
       "11440              7.084445   -0.128719                         0           0   \n",
       "11441              7.086651   -0.074937                         0           0   \n",
       "11442              7.088023   -0.054850                         0           0   \n",
       "11443              7.089851   -0.084236                         0           0   \n",
       "11444              7.091057   -0.083167                         0           0   \n",
       "\n",
       "       AC_Impedance(Ohm)  ACI_Phase_Angle(Deg)  \n",
       "0                      0                     0  \n",
       "1                      0                     0  \n",
       "2                      0                     0  \n",
       "3                      0                     0  \n",
       "4                      0                     0  \n",
       "...                  ...                   ...  \n",
       "11440                  0                     0  \n",
       "11441                  0                     0  \n",
       "11442                  0                     0  \n",
       "11443                  0                     0  \n",
       "11444                  0                     0  \n",
       "\n",
       "[11445 rows x 18 columns]"
      ]
     },
     "execution_count": 4,
     "metadata": {},
     "output_type": "execute_result"
    }
   ],
   "source": [
    "df"
   ]
  },
  {
   "cell_type": "code",
   "execution_count": 5,
   "metadata": {},
   "outputs": [],
   "source": [
    "df=df.dropna()"
   ]
  },
  {
   "cell_type": "code",
   "execution_count": 6,
   "metadata": {},
   "outputs": [
    {
     "data": {
      "image/png": "[encoded data removed]",
      "text/plain": [
       "<Figure size 432x288 with 1 Axes>"
      ]
     },
     "metadata": {},
     "output_type": "display_data"
    }
   ],
   "source": [
    "df.SoC.hist()\n",
    "plt.show()"
   ]
  },
  {
   "cell_type": "code",
   "execution_count": 7,
   "metadata": {},
   "outputs": [
    {
     "data": {
      "image/png": "[encoded data removed]",
      "text/plain": [
       "<Figure size 432x288 with 2 Axes>"
      ]
     },
     "metadata": {},
     "output_type": "display_data"
    }
   ],
   "source": [
    "df1=df[\"Voltage(V)\"]\n",
    "df2=df[\"SoC\"]\n",
    "df3=df[\"Current(A)\"]\n",
    "colors = ['indianred', 'mediumblue','green']\n",
    "names = ['Voltage','SoC','Current']\n",
    "\n",
    "plt.hist([df1, df2,df3], bins = int(180/15), stacked=True,\n",
    "         color = colors,label=names,orientation='horizontal')\n",
    "plt.legend()\n",
    "plt.xlabel('Data Points')\n",
    "plt.ylabel('Voltage (V), Current (A), SoC(%)')\n",
    "plt.title('Voltage, Current, SoC')\n",
    "sample=np.random.normal(size=10000)\n",
    "vert_hist=np.histogram(sample,bins=30)\n",
    "ax1=plt.subplot(2,1,1)\n",
    "ax1.barh(vert_hist[1][:-1],vert_hist[0])\n",
    "\n",
    "ax2=plt.subplot(2,1,2)\n",
    "ax2.hist([df1, df2,df3], bins = int(180/15), stacked=True,\n",
    "         color = colors,label=names,orientation='horizontal')\n",
    "plt.show()"
   ]
  },
  {
   "cell_type": "code",
   "execution_count": 8,
   "metadata": {},
   "outputs": [
    {
     "data": {
      "image/png": "[encoded data removed]",
      "text/plain": [
       "<Figure size 432x288 with 1 Axes>"
      ]
     },
     "metadata": {},
     "output_type": "display_data"
    },
    {
     "name": "stderr",
     "output_type": "stream",
     "text": [
      "No handles with labels found to put in legend.\n"
     ]
    },
    {
     "data": {
      "text/plain": [
       "Text(0.5, 1.0, 'Voltage, Current, SoC')"
      ]
     },
     "execution_count": 8,
     "metadata": {},
     "output_type": "execute_result"
    },
    {
     "data": {
      "image/png": "[encoded data removed]",
      "text/plain": [
       "<Figure size 432x288 with 1 Axes>"
      ]
     },
     "metadata": {},
     "output_type": "display_data"
    }
   ],
   "source": [
    "import matplotlib.pyplot as plt\n",
    "import numpy as np\n",
    "\n",
    "fig, ax = plt.subplots()\n",
    "fig=plt.hist([df1, df2,df3], stacked=True,\n",
    "         color = colors,label=names,orientation='horizontal')\n",
    "plt.legend()\n",
    "plt.xlabel('Data Points')\n",
    "plt.ylabel('Voltage (V), Current (A), SoC(%)')\n",
    "plt.title('Voltage, Current, SoC',loc='center')\n",
    "\n",
    "\n",
    "# ax.hist([df1, df2,df3], bins, orientation='horizontal')\n",
    "plt.show()\n",
    "plt.savefig('Data.jpeg', dpi=600)\n",
    "\n",
    "plt.hist(df1)\n",
    "plt.hist(df3)\n",
    "plt.hist(df2)\n",
    "plt.legend()\n",
    "plt.xlabel('Data Points')\n",
    "plt.ylabel('Voltage (V), Current (A), SoC(%)')\n",
    "plt.title('Voltage, Current, SoC',loc='center')"
   ]
  },
  {
   "cell_type": "code",
   "execution_count": 9,
   "metadata": {},
   "outputs": [
    {
     "name": "stdout",
     "output_type": "stream",
     "text": [
      "       Step_Index  Cycle_Index  Current(A)  Voltage(V)  Charge_Capacity(Ah)  \\\n",
      "0               1            1    0.000000    3.446318             0.000000   \n",
      "1               2            1    0.999713    3.627587             0.002781   \n",
      "2               2            1    0.999533    3.634876             0.005563   \n",
      "3               2            1    0.999713    3.639574             0.008344   \n",
      "4               2            1    0.999713    3.643138             0.011125   \n",
      "...           ...          ...         ...         ...                  ...   \n",
      "11440           7            1   -3.692054    2.650615             2.059422   \n",
      "11441           7            1   -1.655410    2.787336             2.059422   \n",
      "11442           7            1   -1.910755    2.758664             2.059422   \n",
      "11443           7            1   -3.444446    2.544673             2.059422   \n",
      "11444           7            1   -3.444446    2.499477             2.059422   \n",
      "\n",
      "       Discharge_Capacity(Ah)  Charge_Energy(Wh)  Discharge_Energy(Wh)  \\\n",
      "0                    0.000000           0.000000              0.000000   \n",
      "1                    0.000000           0.010067              0.000000   \n",
      "2                    0.000000           0.020168              0.000000   \n",
      "3                    0.000000           0.030284              0.000000   \n",
      "4                    0.000000           0.040412              0.000000   \n",
      "...                       ...                ...                   ...   \n",
      "11440                2.000146           7.991865              7.084445   \n",
      "11441                2.000980           7.991865              7.086651   \n",
      "11442                2.001473           7.991865              7.088023   \n",
      "11443                2.002160           7.991865              7.089851   \n",
      "11444                2.002639           7.991865              7.091057   \n",
      "\n",
      "       dV/dt(V/s)  Internal_Resistance(Ohm)  Is_FC_Data  AC_Impedance(Ohm)  \\\n",
      "0       -0.000032                         0           0                  0   \n",
      "1        0.000940                         0           0                  0   \n",
      "2        0.000616                         0           0                  0   \n",
      "3        0.000324                         0           0                  0   \n",
      "4        0.000292                         0           0                  0   \n",
      "...           ...                       ...         ...                ...   \n",
      "11440   -0.128719                         0           0                  0   \n",
      "11441   -0.074937                         0           0                  0   \n",
      "11442   -0.054850                         0           0                  0   \n",
      "11443   -0.084236                         0           0                  0   \n",
      "11444   -0.083167                         0           0                  0   \n",
      "\n",
      "       ACI_Phase_Angle(Deg)  \n",
      "0                         0  \n",
      "1                         0  \n",
      "2                         0  \n",
      "3                         0  \n",
      "4                         0  \n",
      "...                     ...  \n",
      "11440                     0  \n",
      "11441                     0  \n",
      "11442                     0  \n",
      "11443                     0  \n",
      "11444                     0  \n",
      "\n",
      "[11445 rows x 13 columns]\n"
     ]
    }
   ],
   "source": [
    "y = df.SoC\n",
    "X = df.drop(['Test_Time(s)', 'Data_Point','Date_Time','Step_Time(s)','SoC'], axis='columns')\n",
    "print(X)"
   ]
  },
  {
   "cell_type": "code",
   "execution_count": 10,
   "metadata": {},
   "outputs": [
    {
     "name": "stdout",
     "output_type": "stream",
     "text": [
      "0        0.525732\n",
      "1        0.626437\n",
      "2        0.630487\n",
      "3        0.633097\n",
      "4        0.635077\n",
      "           ...   \n",
      "11440    0.083675\n",
      "11441    0.159631\n",
      "11442    0.143702\n",
      "11443    0.024818\n",
      "11444   -0.000290\n",
      "Name: SoC, Length: 11445, dtype: float64\n"
     ]
    }
   ],
   "source": [
    "print(y)"
   ]
  },
  {
   "cell_type": "code",
   "execution_count": 11,
   "metadata": {},
   "outputs": [
    {
     "name": "stdout",
     "output_type": "stream",
     "text": [
      "[[[ 6.          1.          0.         ...  0.          0.\n",
      "    0.        ]]\n",
      "\n",
      " [[ 7.          1.         -1.19744372 ...  0.          0.\n",
      "    0.        ]]\n",
      "\n",
      " [[ 7.          1.         -0.80929732 ...  0.          0.\n",
      "    0.        ]]\n",
      "\n",
      " ...\n",
      "\n",
      " [[ 6.          1.          0.         ...  0.          0.\n",
      "    0.        ]]\n",
      "\n",
      " [[ 7.          1.          0.20524572 ...  0.          0.\n",
      "    0.        ]]\n",
      "\n",
      " [[ 7.          1.          0.49658042 ...  0.          0.\n",
      "    0.        ]]]\n"
     ]
    }
   ],
   "source": [
    "X_train, X_test, y_train, y_test = train_test_split(X, y, test_size = 0.2, random_state=1234)\n",
    "\n",
    "X_train = np.expand_dims(np.array(X_train),1)\n",
    "y_train = np.expand_dims(np.array(y_train),1)\n",
    "X_test = np.expand_dims(np.array(X_test),1)\n",
    "y_test = np.expand_dims(np.array(y_test),1)\n",
    "\n",
    "#pipelines = {\n",
    "#    'mlp'   : make_pipeline(StandardScaler(), MLPRegressor(random_state=1234))\n",
    "#}\n",
    "print(X_train)"
   ]
  },
  {
   "cell_type": "code",
   "execution_count": 12,
   "metadata": {},
   "outputs": [
    {
     "name": "stdout",
     "output_type": "stream",
     "text": [
      "float64\n",
      "float64\n",
      "float64\n",
      "float64\n"
     ]
    }
   ],
   "source": [
    "print(X_train.dtype)\n",
    "print(y_train.dtype)\n",
    "print(X_test.dtype)\n",
    "print(y_test.dtype)"
   ]
  },
  {
   "cell_type": "code",
   "execution_count": 13,
   "metadata": {},
   "outputs": [],
   "source": [
    "from sklearn.preprocessing import MinMaxScaler\n",
    "dataset = df.SoC.values #numpy.ndarray\n",
    "dataset = dataset.astype('float64')\n",
    "dataset = np.reshape(dataset, (-1, 1))\n",
    "scaler = MinMaxScaler(feature_range=(0, 1))\n",
    "dataset = scaler.fit_transform(dataset)\n",
    "train_size = int(len(dataset) * 0.80)\n",
    "test_size = len(dataset) - train_size\n",
    "train, test = dataset[0:train_size,:], dataset[train_size:len(dataset),:]"
   ]
  },
  {
   "cell_type": "code",
   "execution_count": 14,
   "metadata": {},
   "outputs": [
    {
     "data": {
      "text/plain": [
       "(9156, 1, 13)"
      ]
     },
     "execution_count": 14,
     "metadata": {},
     "output_type": "execute_result"
    }
   ],
   "source": [
    "X_train.shape"
   ]
  },
  {
   "cell_type": "code",
   "execution_count": 15,
   "metadata": {},
   "outputs": [
    {
     "data": {
      "text/plain": [
       "(9156, 1)"
      ]
     },
     "execution_count": 15,
     "metadata": {},
     "output_type": "execute_result"
    }
   ],
   "source": [
    "y_train.shape"
   ]
  },
  {
   "cell_type": "code",
   "execution_count": 17,
   "metadata": {},
   "outputs": [],
   "source": [
    "import math\n",
    "import keras\n",
    "from keras.models import Sequential\n",
    "from keras.layers import Dense\n",
    "from keras.layers import LSTM\n",
    "from keras.layers import Dropout\n",
    "from keras.layers import *\n",
    "from sklearn.preprocessing import MinMaxScaler\n",
    "from sklearn.metrics import mean_squared_error\n",
    "from sklearn.metrics import mean_absolute_error\n",
    "from keras.callbacks import EarlyStopping\n",
    "from keras.callbacks import ModelCheckpoint\n",
    "from keras.models import load_model\n",
    "\n",
    "import time\n",
    "import psutil\n",
    "\n",
    "start = time.time()"
   ]
  },
  {
   "cell_type": "code",
   "execution_count": 18,
   "metadata": {},
   "outputs": [
    {
     "name": "stdout",
     "output_type": "stream",
     "text": [
      "Epoch 1/50\n",
      "262/262 [==============================] - 3s 4ms/step - loss: 0.0776 - mean_absolute_error: 0.2111 - root_mean_squared_error: 0.2676 - val_loss: 9.7451e-04 - val_mean_absolute_error: 0.0214 - val_root_mean_squared_error: 0.0312\n",
      "Epoch 2/50\n",
      "262/262 [==============================] - 1s 2ms/step - loss: 0.0082 - mean_absolute_error: 0.0678 - root_mean_squared_error: 0.0904 - val_loss: 6.0611e-04 - val_mean_absolute_error: 0.0178 - val_root_mean_squared_error: 0.0246\n",
      "Epoch 3/50\n",
      "262/262 [==============================] - 1s 2ms/step - loss: 0.0056 - mean_absolute_error: 0.0579 - root_mean_squared_error: 0.0749 - val_loss: 5.1897e-04 - val_mean_absolute_error: 0.0170 - val_root_mean_squared_error: 0.0228\n",
      "Epoch 4/50\n",
      "262/262 [==============================] - 1s 2ms/step - loss: 0.0046 - mean_absolute_error: 0.0527 - root_mean_squared_error: 0.0676 - val_loss: 5.6993e-04 - val_mean_absolute_error: 0.0186 - val_root_mean_squared_error: 0.0239\n",
      "Epoch 5/50\n",
      "262/262 [==============================] - 1s 2ms/step - loss: 0.0039 - mean_absolute_error: 0.0487 - root_mean_squared_error: 0.0627 - val_loss: 4.1000e-04 - val_mean_absolute_error: 0.0129 - val_root_mean_squared_error: 0.0202\n",
      "Epoch 6/50\n",
      "262/262 [==============================] - 1s 2ms/step - loss: 0.0031 - mean_absolute_error: 0.0432 - root_mean_squared_error: 0.0555 - val_loss: 4.2730e-04 - val_mean_absolute_error: 0.0146 - val_root_mean_squared_error: 0.0207\n",
      "Epoch 7/50\n",
      "262/262 [==============================] - 1s 2ms/step - loss: 0.0028 - mean_absolute_error: 0.0402 - root_mean_squared_error: 0.0527 - val_loss: 4.0108e-04 - val_mean_absolute_error: 0.0138 - val_root_mean_squared_error: 0.0200\n",
      "Epoch 8/50\n",
      "262/262 [==============================] - 1s 2ms/step - loss: 0.0024 - mean_absolute_error: 0.0366 - root_mean_squared_error: 0.0486 - val_loss: 3.2356e-04 - val_mean_absolute_error: 0.0110 - val_root_mean_squared_error: 0.0180\n",
      "Epoch 9/50\n",
      "262/262 [==============================] - 1s 2ms/step - loss: 0.0019 - mean_absolute_error: 0.0331 - root_mean_squared_error: 0.0440 - val_loss: 2.7717e-04 - val_mean_absolute_error: 0.0105 - val_root_mean_squared_error: 0.0166\n",
      "Epoch 10/50\n",
      "262/262 [==============================] - 1s 2ms/step - loss: 0.0016 - mean_absolute_error: 0.0294 - root_mean_squared_error: 0.0394 - val_loss: 2.3019e-04 - val_mean_absolute_error: 0.0095 - val_root_mean_squared_error: 0.0152\n",
      "Epoch 11/50\n",
      "262/262 [==============================] - 1s 2ms/step - loss: 0.0012 - mean_absolute_error: 0.0260 - root_mean_squared_error: 0.0353 - val_loss: 2.1366e-04 - val_mean_absolute_error: 0.0093 - val_root_mean_squared_error: 0.0146\n",
      "Epoch 12/50\n",
      "262/262 [==============================] - 1s 2ms/step - loss: 0.0010 - mean_absolute_error: 0.0233 - root_mean_squared_error: 0.0318 - val_loss: 2.0683e-04 - val_mean_absolute_error: 0.0101 - val_root_mean_squared_error: 0.0144\n",
      "Epoch 13/50\n",
      "262/262 [==============================] - 1s 2ms/step - loss: 8.7418e-04 - mean_absolute_error: 0.0211 - root_mean_squared_error: 0.0295 - val_loss: 1.8320e-04 - val_mean_absolute_error: 0.0099 - val_root_mean_squared_error: 0.0135\n",
      "Epoch 14/50\n",
      "262/262 [==============================] - 1s 2ms/step - loss: 7.2201e-04 - mean_absolute_error: 0.0192 - root_mean_squared_error: 0.0269 - val_loss: 1.5857e-04 - val_mean_absolute_error: 0.0083 - val_root_mean_squared_error: 0.0126\n",
      "Epoch 15/50\n",
      "262/262 [==============================] - 1s 2ms/step - loss: 6.4061e-04 - mean_absolute_error: 0.0173 - root_mean_squared_error: 0.0253 - val_loss: 1.1776e-04 - val_mean_absolute_error: 0.0070 - val_root_mean_squared_error: 0.0109\n",
      "Epoch 16/50\n",
      "262/262 [==============================] - 1s 2ms/step - loss: 5.6644e-04 - mean_absolute_error: 0.0163 - root_mean_squared_error: 0.0238 - val_loss: 1.1875e-04 - val_mean_absolute_error: 0.0071 - val_root_mean_squared_error: 0.0109\n",
      "Epoch 17/50\n",
      "262/262 [==============================] - 1s 2ms/step - loss: 5.3617e-04 - mean_absolute_error: 0.0155 - root_mean_squared_error: 0.0231 - val_loss: 1.1855e-04 - val_mean_absolute_error: 0.0069 - val_root_mean_squared_error: 0.0109\n",
      "Epoch 18/50\n",
      "262/262 [==============================] - 1s 2ms/step - loss: 4.3367e-04 - mean_absolute_error: 0.0140 - root_mean_squared_error: 0.0208 - val_loss: 1.2702e-04 - val_mean_absolute_error: 0.0064 - val_root_mean_squared_error: 0.0113\n",
      "Epoch 19/50\n",
      "262/262 [==============================] - 1s 2ms/step - loss: 4.3498e-04 - mean_absolute_error: 0.0141 - root_mean_squared_error: 0.0209 - val_loss: 8.3946e-05 - val_mean_absolute_error: 0.0059 - val_root_mean_squared_error: 0.0092\n",
      "Epoch 20/50\n",
      "262/262 [==============================] - 1s 2ms/step - loss: 4.3246e-04 - mean_absolute_error: 0.0136 - root_mean_squared_error: 0.0208 - val_loss: 8.6104e-05 - val_mean_absolute_error: 0.0058 - val_root_mean_squared_error: 0.0093\n",
      "Epoch 21/50\n",
      "262/262 [==============================] - 1s 2ms/step - loss: 4.0213e-04 - mean_absolute_error: 0.0134 - root_mean_squared_error: 0.0200 - val_loss: 9.9050e-05 - val_mean_absolute_error: 0.0061 - val_root_mean_squared_error: 0.0100\n",
      "Epoch 22/50\n",
      "262/262 [==============================] - 1s 2ms/step - loss: 4.0681e-04 - mean_absolute_error: 0.0135 - root_mean_squared_error: 0.0202 - val_loss: 8.2756e-05 - val_mean_absolute_error: 0.0062 - val_root_mean_squared_error: 0.0091\n",
      "Epoch 23/50\n",
      "262/262 [==============================] - 1s 2ms/step - loss: 4.3469e-04 - mean_absolute_error: 0.0134 - root_mean_squared_error: 0.0208 - val_loss: 7.9483e-05 - val_mean_absolute_error: 0.0059 - val_root_mean_squared_error: 0.0089\n",
      "Epoch 24/50\n",
      "262/262 [==============================] - 1s 2ms/step - loss: 4.1793e-04 - mean_absolute_error: 0.0132 - root_mean_squared_error: 0.0204 - val_loss: 8.9713e-05 - val_mean_absolute_error: 0.0063 - val_root_mean_squared_error: 0.0095\n",
      "Epoch 25/50\n",
      "262/262 [==============================] - 1s 2ms/step - loss: 3.8536e-04 - mean_absolute_error: 0.0130 - root_mean_squared_error: 0.0196 - val_loss: 7.4212e-05 - val_mean_absolute_error: 0.0057 - val_root_mean_squared_error: 0.0086\n",
      "Epoch 26/50\n",
      "262/262 [==============================] - 1s 2ms/step - loss: 3.8955e-04 - mean_absolute_error: 0.0131 - root_mean_squared_error: 0.0197 - val_loss: 9.1629e-05 - val_mean_absolute_error: 0.0058 - val_root_mean_squared_error: 0.0096\n",
      "Epoch 27/50\n",
      "262/262 [==============================] - 1s 2ms/step - loss: 3.7325e-04 - mean_absolute_error: 0.0129 - root_mean_squared_error: 0.0193 - val_loss: 6.4174e-05 - val_mean_absolute_error: 0.0054 - val_root_mean_squared_error: 0.0080\n",
      "Epoch 28/50\n",
      "262/262 [==============================] - 1s 2ms/step - loss: 4.1533e-04 - mean_absolute_error: 0.0134 - root_mean_squared_error: 0.0204 - val_loss: 8.0805e-05 - val_mean_absolute_error: 0.0062 - val_root_mean_squared_error: 0.0090\n",
      "Epoch 29/50\n",
      "262/262 [==============================] - 1s 2ms/step - loss: 3.6650e-04 - mean_absolute_error: 0.0126 - root_mean_squared_error: 0.0191 - val_loss: 8.5309e-05 - val_mean_absolute_error: 0.0066 - val_root_mean_squared_error: 0.0092\n",
      "Epoch 30/50\n",
      "262/262 [==============================] - 1s 2ms/step - loss: 3.7611e-04 - mean_absolute_error: 0.0130 - root_mean_squared_error: 0.0194 - val_loss: 6.6488e-05 - val_mean_absolute_error: 0.0055 - val_root_mean_squared_error: 0.0082\n",
      "Epoch 31/50\n",
      "262/262 [==============================] - 1s 2ms/step - loss: 3.8199e-04 - mean_absolute_error: 0.0132 - root_mean_squared_error: 0.0195 - val_loss: 6.5116e-05 - val_mean_absolute_error: 0.0054 - val_root_mean_squared_error: 0.0081\n",
      "Epoch 32/50\n",
      "262/262 [==============================] - 1s 2ms/step - loss: 3.6734e-04 - mean_absolute_error: 0.0124 - root_mean_squared_error: 0.0192 - val_loss: 7.6781e-05 - val_mean_absolute_error: 0.0057 - val_root_mean_squared_error: 0.0088\n",
      "Epoch 33/50\n",
      "262/262 [==============================] - 1s 2ms/step - loss: 3.8690e-04 - mean_absolute_error: 0.0130 - root_mean_squared_error: 0.0197 - val_loss: 6.7331e-05 - val_mean_absolute_error: 0.0055 - val_root_mean_squared_error: 0.0082\n",
      "Epoch 34/50\n",
      "262/262 [==============================] - 1s 2ms/step - loss: 3.7575e-04 - mean_absolute_error: 0.0129 - root_mean_squared_error: 0.0194 - val_loss: 7.1522e-05 - val_mean_absolute_error: 0.0056 - val_root_mean_squared_error: 0.0085\n"
     ]
    },
    {
     "name": "stdout",
     "output_type": "stream",
     "text": [
      "Epoch 35/50\n",
      "262/262 [==============================] - 1s 2ms/step - loss: 3.8451e-04 - mean_absolute_error: 0.0130 - root_mean_squared_error: 0.0196 - val_loss: 6.1620e-05 - val_mean_absolute_error: 0.0052 - val_root_mean_squared_error: 0.0078\n",
      "Epoch 36/50\n",
      "262/262 [==============================] - 1s 2ms/step - loss: 3.8580e-04 - mean_absolute_error: 0.0126 - root_mean_squared_error: 0.0196 - val_loss: 9.6029e-05 - val_mean_absolute_error: 0.0073 - val_root_mean_squared_error: 0.0098\n",
      "Epoch 37/50\n",
      "262/262 [==============================] - 1s 2ms/step - loss: 3.7073e-04 - mean_absolute_error: 0.0127 - root_mean_squared_error: 0.0192 - val_loss: 7.0162e-05 - val_mean_absolute_error: 0.0056 - val_root_mean_squared_error: 0.0084\n",
      "Epoch 38/50\n",
      "262/262 [==============================] - 1s 2ms/step - loss: 3.5904e-04 - mean_absolute_error: 0.0127 - root_mean_squared_error: 0.0189 - val_loss: 1.0842e-04 - val_mean_absolute_error: 0.0074 - val_root_mean_squared_error: 0.0104\n",
      "Epoch 39/50\n",
      "262/262 [==============================] - 1s 2ms/step - loss: 3.8161e-04 - mean_absolute_error: 0.0129 - root_mean_squared_error: 0.0195 - val_loss: 7.3080e-05 - val_mean_absolute_error: 0.0060 - val_root_mean_squared_error: 0.0085\n",
      "Epoch 40/50\n",
      "262/262 [==============================] - 1s 2ms/step - loss: 3.7950e-04 - mean_absolute_error: 0.0128 - root_mean_squared_error: 0.0195 - val_loss: 5.8869e-05 - val_mean_absolute_error: 0.0048 - val_root_mean_squared_error: 0.0077\n",
      "Epoch 41/50\n",
      "262/262 [==============================] - 1s 2ms/step - loss: 3.8203e-04 - mean_absolute_error: 0.0130 - root_mean_squared_error: 0.0195 - val_loss: 6.2925e-05 - val_mean_absolute_error: 0.0052 - val_root_mean_squared_error: 0.0079\n",
      "Epoch 42/50\n",
      "262/262 [==============================] - 1s 2ms/step - loss: 3.4636e-04 - mean_absolute_error: 0.0123 - root_mean_squared_error: 0.0186 - val_loss: 6.9246e-05 - val_mean_absolute_error: 0.0058 - val_root_mean_squared_error: 0.0083\n",
      "Epoch 43/50\n",
      "262/262 [==============================] - 1s 2ms/step - loss: 3.7769e-04 - mean_absolute_error: 0.0129 - root_mean_squared_error: 0.0194 - val_loss: 1.0114e-04 - val_mean_absolute_error: 0.0067 - val_root_mean_squared_error: 0.0101\n",
      "Epoch 44/50\n",
      "262/262 [==============================] - 1s 2ms/step - loss: 3.5735e-04 - mean_absolute_error: 0.0125 - root_mean_squared_error: 0.0189 - val_loss: 6.4964e-05 - val_mean_absolute_error: 0.0055 - val_root_mean_squared_error: 0.0081\n",
      "Epoch 45/50\n",
      "262/262 [==============================] - 1s 2ms/step - loss: 3.4402e-04 - mean_absolute_error: 0.0124 - root_mean_squared_error: 0.0185 - val_loss: 9.5204e-05 - val_mean_absolute_error: 0.0075 - val_root_mean_squared_error: 0.0098\n",
      "Epoch 46/50\n",
      "262/262 [==============================] - 1s 2ms/step - loss: 3.6568e-04 - mean_absolute_error: 0.0128 - root_mean_squared_error: 0.0191 - val_loss: 5.9071e-05 - val_mean_absolute_error: 0.0052 - val_root_mean_squared_error: 0.0077\n",
      "Epoch 47/50\n",
      "262/262 [==============================] - 1s 2ms/step - loss: 4.1525e-04 - mean_absolute_error: 0.0129 - root_mean_squared_error: 0.0203 - val_loss: 7.3570e-05 - val_mean_absolute_error: 0.0056 - val_root_mean_squared_error: 0.0086\n",
      "Epoch 48/50\n",
      "262/262 [==============================] - 1s 2ms/step - loss: 3.5297e-04 - mean_absolute_error: 0.0125 - root_mean_squared_error: 0.0188 - val_loss: 6.8305e-05 - val_mean_absolute_error: 0.0057 - val_root_mean_squared_error: 0.0083\n",
      "Epoch 49/50\n",
      "262/262 [==============================] - 1s 2ms/step - loss: 3.3603e-04 - mean_absolute_error: 0.0123 - root_mean_squared_error: 0.0183 - val_loss: 1.0431e-04 - val_mean_absolute_error: 0.0060 - val_root_mean_squared_error: 0.0102\n",
      "Epoch 50/50\n",
      "262/262 [==============================] - 1s 2ms/step - loss: 3.7618e-04 - mean_absolute_error: 0.0126 - root_mean_squared_error: 0.0194 - val_loss: 6.6459e-05 - val_mean_absolute_error: 0.0057 - val_root_mean_squared_error: 0.0082\n",
      "Model: \"sequential\"\n",
      "_________________________________________________________________\n",
      "Layer (type)                 Output Shape              Param #   \n",
      "=================================================================\n",
      "lstm (LSTM)                  (None, 32)                5888      \n",
      "_________________________________________________________________\n",
      "dropout (Dropout)            (None, 32)                0         \n",
      "_________________________________________________________________\n",
      "activation (Activation)      (None, 32)                0         \n",
      "_________________________________________________________________\n",
      "dense (Dense)                (None, 2)                 66        \n",
      "=================================================================\n",
      "Total params: 5,954\n",
      "Trainable params: 5,954\n",
      "Non-trainable params: 0\n",
      "_________________________________________________________________\n"
     ]
    }
   ],
   "source": [
    "model = Sequential()\n",
    "#model.add(LSTM(,return_sequences=True, input_shape=(X_train.shape[1], X_train.shape[2])))\n",
    "model.add(LSTM(32, input_shape=(X_train.shape[1], X_train.shape[2])))\n",
    "model.add(Dropout(0.1))\n",
    "model.add(tf.keras.layers.Activation(\"relu\"))\n",
    "model.add(Dense(2))\n",
    "model.compile(loss='mean_squared_error', optimizer='adam',metrics=[tf.keras.metrics.MeanAbsoluteError(),tf.keras.metrics.RootMeanSquaredError()])\n",
    "\n",
    "history = model.fit(X_train, y_train, epochs=50, batch_size=35, validation_data=(X_test, y_test), \n",
    "                    callbacks=[EarlyStopping(monitor='val_loss', patience=50), ModelCheckpoint(filepath='best_model0.h5', monitor='val_loss', save_best_only=True)], verbose=1, shuffle=False)\n",
    "#scores = model.evaluate(X_test, Y_test, verbose=1)\n",
    "#print(\"Accuracy: %.2f%%\" % (scores[1]*100))\n",
    "# Training Phase\n",
    "model.summary()"
   ]
  },
  {
   "cell_type": "code",
   "execution_count": 19,
   "metadata": {},
   "outputs": [
    {
     "name": "stdout",
     "output_type": "stream",
     "text": [
      "Time taken: 234.86213731765747\n"
     ]
    }
   ],
   "source": [
    "end = time.time()\n",
    "print(\"Time taken:\", end- start)"
   ]
  },
  {
   "cell_type": "code",
   "execution_count": 20,
   "metadata": {},
   "outputs": [
    {
     "name": "stdout",
     "output_type": "stream",
     "text": [
      "420073472\n"
     ]
    }
   ],
   "source": [
    "print(psutil.Process().memory_info().peak_wset)"
   ]
  },
  {
   "cell_type": "code",
   "execution_count": 21,
   "metadata": {},
   "outputs": [
    {
     "ename": "NameError",
     "evalue": "name 'psutils' is not defined",
     "output_type": "error",
     "traceback": [
      "\u001b[1;31m---------------------------------------------------------------------------\u001b[0m",
      "\u001b[1;31mNameError\u001b[0m                                 Traceback (most recent call last)",
      "\u001b[1;32m<ipython-input-21-e97cc512ce69>\u001b[0m in \u001b[0;36m<module>\u001b[1;34m\u001b[0m\n\u001b[1;32m----> 1\u001b[1;33m \u001b[0mprint\u001b[0m\u001b[1;33m(\u001b[0m\u001b[1;34m\"Memory used in bytes : \"\u001b[0m\u001b[1;33m,\u001b[0m \u001b[0mpsutils\u001b[0m\u001b[1;33m.\u001b[0m\u001b[0mProcess\u001b[0m\u001b[1;33m(\u001b[0m\u001b[1;33m)\u001b[0m\u001b[1;33m.\u001b[0m\u001b[0mmemory_info\u001b[0m\u001b[1;33m(\u001b[0m\u001b[1;33m)\u001b[0m\u001b[1;33m.\u001b[0m\u001b[0mpeak_wset\u001b[0m\u001b[1;33m)\u001b[0m\u001b[1;33m\u001b[0m\u001b[1;33m\u001b[0m\u001b[0m\n\u001b[0m",
      "\u001b[1;31mNameError\u001b[0m: name 'psutils' is not defined"
     ]
    }
   ],
   "source": [
    "print(\"Memory used in bytes : \", psutils.Process().memory_info().peak_wset)"
   ]
  },
  {
   "cell_type": "code",
   "execution_count": 24,
   "metadata": {},
   "outputs": [
    {
     "data": {
      "image/png": "[encoded data removed]",
      "text/plain": [
       "<Figure size 432x288 with 1 Axes>"
      ]
     },
     "metadata": {},
     "output_type": "display_data"
    }
   ],
   "source": [
    "plt.plot(history.history['loss'])\n",
    "plt.plot(history.history['val_loss'])\n",
    "plt.title('Model Loss')\n",
    "plt.ylabel('Loss')\n",
    "plt.xlabel('Epochs')\n",
    "plt.legend(['train', 'validation'])\n",
    "plt.show()"
   ]
  },
  {
   "cell_type": "code",
   "execution_count": 25,
   "metadata": {
    "scrolled": true
   },
   "outputs": [
    {
     "data": {
      "image/png": "[encoded data removed]",
      "text/plain": [
       "<Figure size 432x288 with 1 Axes>"
      ]
     },
     "metadata": {},
     "output_type": "display_data"
    }
   ],
   "source": [
    "plt.plot(history.history['root_mean_squared_error'])\n",
    "plt.plot(history.history['val_root_mean_squared_error'])\n",
    "plt.title('Model Accuracy')\n",
    "plt.ylabel('Accuracy')\n",
    "plt.xlabel('Epochs')\n",
    "plt.legend(['train', 'test'])\n",
    "plt.show()"
   ]
  },
  {
   "cell_type": "code",
   "execution_count": 26,
   "metadata": {},
   "outputs": [
    {
     "name": "stdout",
     "output_type": "stream",
     "text": [
      "72/72 [==============================] - 0s 958us/step - loss: 1.0834e-04 - mean_absolute_error: 0.0063 - root_mean_squared_error: 0.0104\n"
     ]
    },
    {
     "data": {
      "text/plain": [
       "[0.00010833716805791482, 0.006252555642277002, 0.010408514179289341]"
      ]
     },
     "execution_count": 26,
     "metadata": {},
     "output_type": "execute_result"
    }
   ],
   "source": [
    "model.evaluate(X_test,y_test)"
   ]
  },
  {
   "cell_type": "code",
   "execution_count": 22,
   "metadata": {},
   "outputs": [],
   "source": [
    "import time\n",
    "import psutil\n",
    "\n",
    "start = time.time()"
   ]
  },
  {
   "cell_type": "code",
   "execution_count": 23,
   "metadata": {},
   "outputs": [
    {
     "name": "stdout",
     "output_type": "stream",
     "text": [
      "Epoch 1/50\n",
      "262/262 [==============================] - 2s 3ms/step - loss: 0.1709 - mean_absolute_error: 0.2961 - root_mean_squared_error: 0.3857 - val_loss: 0.0017 - val_mean_absolute_error: 0.0362 - val_root_mean_squared_error: 0.0407\n",
      "Epoch 2/50\n",
      "262/262 [==============================] - 1s 2ms/step - loss: 0.0160 - mean_absolute_error: 0.0978 - root_mean_squared_error: 0.1265 - val_loss: 7.8878e-04 - val_mean_absolute_error: 0.0198 - val_root_mean_squared_error: 0.0281\n",
      "Epoch 3/50\n",
      "262/262 [==============================] - 1s 2ms/step - loss: 0.0103 - mean_absolute_error: 0.0781 - root_mean_squared_error: 0.1014 - val_loss: 6.2775e-04 - val_mean_absolute_error: 0.0221 - val_root_mean_squared_error: 0.0251\n",
      "Epoch 4/50\n",
      "262/262 [==============================] - 0s 2ms/step - loss: 0.0076 - mean_absolute_error: 0.0675 - root_mean_squared_error: 0.0870 - val_loss: 6.1479e-04 - val_mean_absolute_error: 0.0223 - val_root_mean_squared_error: 0.0248\n",
      "Epoch 5/50\n",
      "262/262 [==============================] - 1s 2ms/step - loss: 0.0061 - mean_absolute_error: 0.0599 - root_mean_squared_error: 0.0783 - val_loss: 4.6702e-04 - val_mean_absolute_error: 0.0156 - val_root_mean_squared_error: 0.0216\n",
      "Epoch 6/50\n",
      "262/262 [==============================] - 0s 2ms/step - loss: 0.0049 - mean_absolute_error: 0.0534 - root_mean_squared_error: 0.0699 - val_loss: 3.6387e-04 - val_mean_absolute_error: 0.0148 - val_root_mean_squared_error: 0.0191\n",
      "Epoch 7/50\n",
      "262/262 [==============================] - 0s 2ms/step - loss: 0.0043 - mean_absolute_error: 0.0496 - root_mean_squared_error: 0.0652 - val_loss: 3.3989e-04 - val_mean_absolute_error: 0.0133 - val_root_mean_squared_error: 0.0184\n",
      "Epoch 8/50\n",
      "262/262 [==============================] - 0s 2ms/step - loss: 0.0031 - mean_absolute_error: 0.0426 - root_mean_squared_error: 0.0560 - val_loss: 3.4863e-04 - val_mean_absolute_error: 0.0145 - val_root_mean_squared_error: 0.0187\n",
      "Epoch 9/50\n",
      "262/262 [==============================] - 0s 2ms/step - loss: 0.0028 - mean_absolute_error: 0.0398 - root_mean_squared_error: 0.0527 - val_loss: 2.5069e-04 - val_mean_absolute_error: 0.0115 - val_root_mean_squared_error: 0.0158\n",
      "Epoch 10/50\n",
      "262/262 [==============================] - 0s 2ms/step - loss: 0.0021 - mean_absolute_error: 0.0340 - root_mean_squared_error: 0.0458 - val_loss: 2.8585e-04 - val_mean_absolute_error: 0.0123 - val_root_mean_squared_error: 0.0169\n",
      "Epoch 11/50\n",
      "262/262 [==============================] - 1s 2ms/step - loss: 0.0019 - mean_absolute_error: 0.0315 - root_mean_squared_error: 0.0430 - val_loss: 2.7180e-04 - val_mean_absolute_error: 0.0104 - val_root_mean_squared_error: 0.0165\n",
      "Epoch 12/50\n",
      "262/262 [==============================] - 0s 2ms/step - loss: 0.0016 - mean_absolute_error: 0.0285 - root_mean_squared_error: 0.0399 - val_loss: 2.8704e-04 - val_mean_absolute_error: 0.0124 - val_root_mean_squared_error: 0.0169\n",
      "Epoch 13/50\n",
      "262/262 [==============================] - 1s 2ms/step - loss: 0.0013 - mean_absolute_error: 0.0256 - root_mean_squared_error: 0.0362 - val_loss: 2.8676e-04 - val_mean_absolute_error: 0.0123 - val_root_mean_squared_error: 0.0169\n",
      "Epoch 14/50\n",
      "262/262 [==============================] - 0s 2ms/step - loss: 0.0012 - mean_absolute_error: 0.0239 - root_mean_squared_error: 0.0344 - val_loss: 2.8821e-04 - val_mean_absolute_error: 0.0120 - val_root_mean_squared_error: 0.0170\n",
      "Epoch 15/50\n",
      "262/262 [==============================] - 0s 2ms/step - loss: 0.0011 - mean_absolute_error: 0.0230 - root_mean_squared_error: 0.0330 - val_loss: 1.9414e-04 - val_mean_absolute_error: 0.0089 - val_root_mean_squared_error: 0.0139\n",
      "Epoch 16/50\n",
      "262/262 [==============================] - 0s 2ms/step - loss: 9.7168e-04 - mean_absolute_error: 0.0212 - root_mean_squared_error: 0.0312 - val_loss: 1.9061e-04 - val_mean_absolute_error: 0.0090 - val_root_mean_squared_error: 0.0138\n",
      "Epoch 17/50\n",
      "262/262 [==============================] - 0s 2ms/step - loss: 9.4138e-04 - mean_absolute_error: 0.0209 - root_mean_squared_error: 0.0307 - val_loss: 3.0030e-04 - val_mean_absolute_error: 0.0130 - val_root_mean_squared_error: 0.0173\n",
      "Epoch 18/50\n",
      "262/262 [==============================] - 0s 2ms/step - loss: 9.4602e-04 - mean_absolute_error: 0.0205 - root_mean_squared_error: 0.0308 - val_loss: 2.0310e-04 - val_mean_absolute_error: 0.0091 - val_root_mean_squared_error: 0.0143\n",
      "Epoch 19/50\n",
      "262/262 [==============================] - 0s 2ms/step - loss: 8.7546e-04 - mean_absolute_error: 0.0197 - root_mean_squared_error: 0.0296 - val_loss: 1.5776e-04 - val_mean_absolute_error: 0.0076 - val_root_mean_squared_error: 0.0126\n",
      "Epoch 20/50\n",
      "262/262 [==============================] - 0s 2ms/step - loss: 8.7748e-04 - mean_absolute_error: 0.0195 - root_mean_squared_error: 0.0296 - val_loss: 2.1231e-04 - val_mean_absolute_error: 0.0098 - val_root_mean_squared_error: 0.0146\n",
      "Epoch 21/50\n",
      "262/262 [==============================] - 0s 2ms/step - loss: 7.7180e-04 - mean_absolute_error: 0.0186 - root_mean_squared_error: 0.0278 - val_loss: 1.7827e-04 - val_mean_absolute_error: 0.0094 - val_root_mean_squared_error: 0.0134\n",
      "Epoch 22/50\n",
      "262/262 [==============================] - 0s 2ms/step - loss: 7.5715e-04 - mean_absolute_error: 0.0186 - root_mean_squared_error: 0.0275 - val_loss: 2.1655e-04 - val_mean_absolute_error: 0.0095 - val_root_mean_squared_error: 0.0147\n",
      "Epoch 23/50\n",
      "262/262 [==============================] - 0s 2ms/step - loss: 8.0213e-04 - mean_absolute_error: 0.0191 - root_mean_squared_error: 0.0283 - val_loss: 1.6493e-04 - val_mean_absolute_error: 0.0086 - val_root_mean_squared_error: 0.0128\n",
      "Epoch 24/50\n",
      "262/262 [==============================] - 0s 2ms/step - loss: 8.2855e-04 - mean_absolute_error: 0.0190 - root_mean_squared_error: 0.0288 - val_loss: 1.4532e-04 - val_mean_absolute_error: 0.0072 - val_root_mean_squared_error: 0.0121\n",
      "Epoch 25/50\n",
      "262/262 [==============================] - 0s 2ms/step - loss: 7.4390e-04 - mean_absolute_error: 0.0182 - root_mean_squared_error: 0.0273 - val_loss: 1.2709e-04 - val_mean_absolute_error: 0.0068 - val_root_mean_squared_error: 0.0113\n",
      "Epoch 26/50\n",
      "262/262 [==============================] - 0s 2ms/step - loss: 7.6673e-04 - mean_absolute_error: 0.0183 - root_mean_squared_error: 0.0277 - val_loss: 1.5834e-04 - val_mean_absolute_error: 0.0073 - val_root_mean_squared_error: 0.0126\n",
      "Epoch 27/50\n",
      "262/262 [==============================] - 0s 2ms/step - loss: 7.4539e-04 - mean_absolute_error: 0.0182 - root_mean_squared_error: 0.0273 - val_loss: 1.5535e-04 - val_mean_absolute_error: 0.0078 - val_root_mean_squared_error: 0.0125\n",
      "Epoch 28/50\n",
      "262/262 [==============================] - 0s 2ms/step - loss: 7.6014e-04 - mean_absolute_error: 0.0184 - root_mean_squared_error: 0.0276 - val_loss: 1.6800e-04 - val_mean_absolute_error: 0.0088 - val_root_mean_squared_error: 0.0130\n",
      "Epoch 29/50\n",
      "262/262 [==============================] - 0s 2ms/step - loss: 7.4362e-04 - mean_absolute_error: 0.0184 - root_mean_squared_error: 0.0273 - val_loss: 2.0890e-04 - val_mean_absolute_error: 0.0104 - val_root_mean_squared_error: 0.0145\n",
      "Epoch 30/50\n",
      "262/262 [==============================] - 0s 2ms/step - loss: 7.7795e-04 - mean_absolute_error: 0.0182 - root_mean_squared_error: 0.0279 - val_loss: 1.2319e-04 - val_mean_absolute_error: 0.0070 - val_root_mean_squared_error: 0.0111\n",
      "Epoch 31/50\n",
      "262/262 [==============================] - 0s 2ms/step - loss: 6.6281e-04 - mean_absolute_error: 0.0172 - root_mean_squared_error: 0.0257 - val_loss: 1.2242e-04 - val_mean_absolute_error: 0.0066 - val_root_mean_squared_error: 0.0111\n",
      "Epoch 32/50\n",
      "262/262 [==============================] - 0s 2ms/step - loss: 7.2984e-04 - mean_absolute_error: 0.0181 - root_mean_squared_error: 0.0270 - val_loss: 2.2757e-04 - val_mean_absolute_error: 0.0099 - val_root_mean_squared_error: 0.0151\n",
      "Epoch 33/50\n",
      "262/262 [==============================] - 0s 2ms/step - loss: 7.2810e-04 - mean_absolute_error: 0.0178 - root_mean_squared_error: 0.0270 - val_loss: 1.9688e-04 - val_mean_absolute_error: 0.0094 - val_root_mean_squared_error: 0.0140\n",
      "Epoch 34/50\n",
      "262/262 [==============================] - 0s 2ms/step - loss: 7.0450e-04 - mean_absolute_error: 0.0180 - root_mean_squared_error: 0.0265 - val_loss: 1.1873e-04 - val_mean_absolute_error: 0.0071 - val_root_mean_squared_error: 0.0109\n"
     ]
    },
    {
     "name": "stdout",
     "output_type": "stream",
     "text": [
      "Epoch 35/50\n",
      "262/262 [==============================] - 0s 2ms/step - loss: 7.0078e-04 - mean_absolute_error: 0.0175 - root_mean_squared_error: 0.0265 - val_loss: 1.0919e-04 - val_mean_absolute_error: 0.0064 - val_root_mean_squared_error: 0.0104\n",
      "Epoch 36/50\n",
      "262/262 [==============================] - 0s 2ms/step - loss: 6.4884e-04 - mean_absolute_error: 0.0170 - root_mean_squared_error: 0.0255 - val_loss: 1.8216e-04 - val_mean_absolute_error: 0.0078 - val_root_mean_squared_error: 0.0135\n",
      "Epoch 37/50\n",
      "262/262 [==============================] - 0s 2ms/step - loss: 6.5096e-04 - mean_absolute_error: 0.0170 - root_mean_squared_error: 0.0255 - val_loss: 3.0270e-04 - val_mean_absolute_error: 0.0097 - val_root_mean_squared_error: 0.0174\n",
      "Epoch 38/50\n",
      "262/262 [==============================] - 0s 2ms/step - loss: 6.3469e-04 - mean_absolute_error: 0.0170 - root_mean_squared_error: 0.0252 - val_loss: 1.5591e-04 - val_mean_absolute_error: 0.0090 - val_root_mean_squared_error: 0.0125\n",
      "Epoch 39/50\n",
      "262/262 [==============================] - 0s 2ms/step - loss: 6.7040e-04 - mean_absolute_error: 0.0169 - root_mean_squared_error: 0.0259 - val_loss: 3.1048e-04 - val_mean_absolute_error: 0.0102 - val_root_mean_squared_error: 0.0176\n",
      "Epoch 40/50\n",
      "262/262 [==============================] - 0s 2ms/step - loss: 6.6239e-04 - mean_absolute_error: 0.0173 - root_mean_squared_error: 0.0257 - val_loss: 1.8687e-04 - val_mean_absolute_error: 0.0096 - val_root_mean_squared_error: 0.0137\n",
      "Epoch 41/50\n",
      "262/262 [==============================] - 0s 2ms/step - loss: 6.0433e-04 - mean_absolute_error: 0.0165 - root_mean_squared_error: 0.0246 - val_loss: 1.2879e-04 - val_mean_absolute_error: 0.0066 - val_root_mean_squared_error: 0.0113\n",
      "Epoch 42/50\n",
      "262/262 [==============================] - 0s 2ms/step - loss: 6.5071e-04 - mean_absolute_error: 0.0169 - root_mean_squared_error: 0.0255 - val_loss: 1.1888e-04 - val_mean_absolute_error: 0.0066 - val_root_mean_squared_error: 0.0109\n",
      "Epoch 43/50\n",
      "262/262 [==============================] - 0s 2ms/step - loss: 6.1559e-04 - mean_absolute_error: 0.0167 - root_mean_squared_error: 0.0248 - val_loss: 1.1150e-04 - val_mean_absolute_error: 0.0070 - val_root_mean_squared_error: 0.0106\n",
      "Epoch 44/50\n",
      "262/262 [==============================] - 0s 2ms/step - loss: 6.7326e-04 - mean_absolute_error: 0.0176 - root_mean_squared_error: 0.0259 - val_loss: 9.7761e-05 - val_mean_absolute_error: 0.0064 - val_root_mean_squared_error: 0.0099\n",
      "Epoch 45/50\n",
      "262/262 [==============================] - 0s 2ms/step - loss: 6.3438e-04 - mean_absolute_error: 0.0166 - root_mean_squared_error: 0.0252 - val_loss: 1.4750e-04 - val_mean_absolute_error: 0.0094 - val_root_mean_squared_error: 0.0121\n",
      "Epoch 46/50\n",
      "262/262 [==============================] - 0s 2ms/step - loss: 6.5631e-04 - mean_absolute_error: 0.0169 - root_mean_squared_error: 0.0256 - val_loss: 1.4407e-04 - val_mean_absolute_error: 0.0082 - val_root_mean_squared_error: 0.0120\n",
      "Epoch 47/50\n",
      "262/262 [==============================] - 0s 2ms/step - loss: 6.6889e-04 - mean_absolute_error: 0.0171 - root_mean_squared_error: 0.0258 - val_loss: 1.1603e-04 - val_mean_absolute_error: 0.0075 - val_root_mean_squared_error: 0.0108\n",
      "Epoch 48/50\n",
      "262/262 [==============================] - 0s 2ms/step - loss: 6.5884e-04 - mean_absolute_error: 0.0174 - root_mean_squared_error: 0.0257 - val_loss: 1.2423e-04 - val_mean_absolute_error: 0.0072 - val_root_mean_squared_error: 0.0111\n",
      "Epoch 49/50\n",
      "262/262 [==============================] - 0s 2ms/step - loss: 6.2852e-04 - mean_absolute_error: 0.0170 - root_mean_squared_error: 0.0251 - val_loss: 1.4962e-04 - val_mean_absolute_error: 0.0071 - val_root_mean_squared_error: 0.0122\n",
      "Epoch 50/50\n",
      "262/262 [==============================] - 0s 2ms/step - loss: 6.2580e-04 - mean_absolute_error: 0.0166 - root_mean_squared_error: 0.0250 - val_loss: 1.8708e-04 - val_mean_absolute_error: 0.0107 - val_root_mean_squared_error: 0.0137\n",
      "Model: \"sequential_1\"\n",
      "_________________________________________________________________\n",
      "Layer (type)                 Output Shape              Param #   \n",
      "=================================================================\n",
      "gru (GRU)                    (None, 1, 36)             5508      \n",
      "_________________________________________________________________\n",
      "dropout_1 (Dropout)          (None, 1, 36)             0         \n",
      "_________________________________________________________________\n",
      "dense_1 (Dense)              (None, 1, 1)              37        \n",
      "=================================================================\n",
      "Total params: 5,545\n",
      "Trainable params: 5,545\n",
      "Non-trainable params: 0\n",
      "_________________________________________________________________\n"
     ]
    }
   ],
   "source": [
    "# The GRU architecture\n",
    "regressorGRU = Sequential()\n",
    "# First GRU layer with Dropout regularisation\n",
    "regressorGRU.add(GRU(units=36, return_sequences=True, input_shape=(X_train.shape[1], X_train.shape[2]), activation='relu'))\n",
    "regressorGRU.add(Dropout(0.2))\n",
    "# The output layer\n",
    "regressorGRU.add(Dense(units=1))\n",
    "# Compiling the RNN\n",
    "regressorGRU.compile(loss='mean_squared_error', optimizer='adam',metrics=[tf.keras.metrics.MeanAbsoluteError(),tf.keras.metrics.RootMeanSquaredError()])\n",
    "# Fitting to the training set\n",
    "history = regressorGRU.fit(X_train, y_train, epochs=50, batch_size=35, validation_data=(X_test, y_test), \n",
    "                    callbacks=[EarlyStopping(monitor='val_loss', patience=50), ModelCheckpoint(filepath='best_model0.h5', monitor='val_loss', save_best_only=True)], verbose=1, shuffle=False)\n",
    "regressorGRU.summary()"
   ]
  },
  {
   "cell_type": "code",
   "execution_count": 26,
   "metadata": {},
   "outputs": [
    {
     "name": "stdout",
     "output_type": "stream",
     "text": [
      "Time taken: 3038.5339028835297\n"
     ]
    }
   ],
   "source": [
    "end = time.time()\n",
    "print(\"Time taken:\", end- start)"
   ]
  },
  {
   "cell_type": "code",
   "execution_count": 24,
   "metadata": {},
   "outputs": [
    {
     "name": "stdout",
     "output_type": "stream",
     "text": [
      "460304384\n"
     ]
    }
   ],
   "source": [
    "print(psutil.Process().memory_info().peak_wset)"
   ]
  },
  {
   "cell_type": "code",
   "execution_count": 25,
   "metadata": {},
   "outputs": [
    {
     "ename": "NameError",
     "evalue": "name 'psutils' is not defined",
     "output_type": "error",
     "traceback": [
      "\u001b[1;31m---------------------------------------------------------------------------\u001b[0m",
      "\u001b[1;31mNameError\u001b[0m                                 Traceback (most recent call last)",
      "\u001b[1;32m<ipython-input-25-e97cc512ce69>\u001b[0m in \u001b[0;36m<module>\u001b[1;34m\u001b[0m\n\u001b[1;32m----> 1\u001b[1;33m \u001b[0mprint\u001b[0m\u001b[1;33m(\u001b[0m\u001b[1;34m\"Memory used in bytes : \"\u001b[0m\u001b[1;33m,\u001b[0m \u001b[0mpsutils\u001b[0m\u001b[1;33m.\u001b[0m\u001b[0mProcess\u001b[0m\u001b[1;33m(\u001b[0m\u001b[1;33m)\u001b[0m\u001b[1;33m.\u001b[0m\u001b[0mmemory_info\u001b[0m\u001b[1;33m(\u001b[0m\u001b[1;33m)\u001b[0m\u001b[1;33m.\u001b[0m\u001b[0mpeak_wset\u001b[0m\u001b[1;33m)\u001b[0m\u001b[1;33m\u001b[0m\u001b[1;33m\u001b[0m\u001b[0m\n\u001b[0m",
      "\u001b[1;31mNameError\u001b[0m: name 'psutils' is not defined"
     ]
    }
   ],
   "source": [
    "print(\"Memory used in bytes : \", psutils.Process().memory_info().peak_wset)"
   ]
  },
  {
   "cell_type": "code",
   "execution_count": 22,
   "metadata": {},
   "outputs": [
    {
     "data": {
      "image/png": "[encoded data removed]",
      "text/plain": [
       "<Figure size 432x288 with 1 Axes>"
      ]
     },
     "metadata": {},
     "output_type": "display_data"
    }
   ],
   "source": [
    "plt.plot(history.history['loss'])\n",
    "plt.plot(history.history['val_loss'])\n",
    "plt.title('Model Loss')\n",
    "plt.ylabel('Loss')\n",
    "plt.xlabel('Epochs')\n",
    "plt.legend(['train', 'validation'])\n",
    "plt.show()"
   ]
  },
  {
   "cell_type": "code",
   "execution_count": 23,
   "metadata": {},
   "outputs": [
    {
     "data": {
      "image/png": "[encoded data removed]",
      "text/plain": [
       "<Figure size 432x288 with 1 Axes>"
      ]
     },
     "metadata": {},
     "output_type": "display_data"
    }
   ],
   "source": [
    "plt.plot(history.history['root_mean_squared_error'])\n",
    "plt.plot(history.history['val_root_mean_squared_error'])\n",
    "plt.title('Model Accuracy')\n",
    "plt.ylabel('Accuracy')\n",
    "plt.xlabel('Epochs')\n",
    "plt.legend(['train', 'test'])\n",
    "plt.show()"
   ]
  },
  {
   "cell_type": "code",
   "execution_count": 19,
   "metadata": {},
   "outputs": [
    {
     "name": "stdout",
     "output_type": "stream",
     "text": [
      "72/72 [==============================] - 0s 873us/step - loss: 1.7630e-04 - mean_absolute_error: 0.0099 - root_mean_squared_error: 0.0133\n"
     ]
    },
    {
     "data": {
      "text/plain": [
       "[0.00017630266665946692, 0.009870669804513454, 0.013277901336550713]"
      ]
     },
     "execution_count": 19,
     "metadata": {},
     "output_type": "execute_result"
    }
   ],
   "source": [
    "model.evaluate(X_test,y_test)"
   ]
  },
  {
   "cell_type": "code",
   "execution_count": null,
   "metadata": {},
   "outputs": [],
   "source": []
  }
 ],
 "metadata": {
  "kernelspec": {
   "display_name": "Python 3",
   "language": "python",
   "name": "python3"
  },
  "language_info": {
   "codemirror_mode": {
    "name": "ipython",
    "version": 3
   },
   "file_extension": ".py",
   "mimetype": "text/x-python",
   "name": "python",
   "nbconvert_exporter": "python",
   "pygments_lexer": "ipython3",
   "version": "3.7.8"
  }
 },
 "nbformat": 4,
 "nbformat_minor": 4
}
